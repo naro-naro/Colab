{
  "nbformat": 4,
  "nbformat_minor": 0,
  "metadata": {
    "colab": {
      "provenance": [],
      "authorship_tag": "ABX9TyNEHtIJfrL8ChUYrAs1Ozml",
      "include_colab_link": true
    },
    "kernelspec": {
      "name": "python3",
      "display_name": "Python 3"
    },
    "language_info": {
      "name": "python"
    },
    "accelerator": "GPU",
    "gpuClass": "standard",
    "widgets": {
      "application/vnd.jupyter.widget-state+json": {
        "80c79d13ee934b6fab072db913e1f459": {
          "model_module": "@jupyter-widgets/controls",
          "model_name": "HBoxModel",
          "model_module_version": "1.5.0",
          "state": {
            "_dom_classes": [],
            "_model_module": "@jupyter-widgets/controls",
            "_model_module_version": "1.5.0",
            "_model_name": "HBoxModel",
            "_view_count": null,
            "_view_module": "@jupyter-widgets/controls",
            "_view_module_version": "1.5.0",
            "_view_name": "HBoxView",
            "box_style": "",
            "children": [
              "IPY_MODEL_b919bff646a646599a17b58393d6d869",
              "IPY_MODEL_68fe8ce0d26546799ff0c4fd3c947a7b",
              "IPY_MODEL_8d8d24810980418d86e2860e714fb2cd"
            ],
            "layout": "IPY_MODEL_bd702a743d814b44a2e7c3f731a06047"
          }
        },
        "b919bff646a646599a17b58393d6d869": {
          "model_module": "@jupyter-widgets/controls",
          "model_name": "HTMLModel",
          "model_module_version": "1.5.0",
          "state": {
            "_dom_classes": [],
            "_model_module": "@jupyter-widgets/controls",
            "_model_module_version": "1.5.0",
            "_model_name": "HTMLModel",
            "_view_count": null,
            "_view_module": "@jupyter-widgets/controls",
            "_view_module_version": "1.5.0",
            "_view_name": "HTMLView",
            "description": "",
            "description_tooltip": null,
            "layout": "IPY_MODEL_709c8ccae67c40b4ab1b5b6113e8263a",
            "placeholder": "​",
            "style": "IPY_MODEL_2a5e63c9400449e689b7fa7a4c3139a9",
            "value": "100%"
          }
        },
        "68fe8ce0d26546799ff0c4fd3c947a7b": {
          "model_module": "@jupyter-widgets/controls",
          "model_name": "FloatProgressModel",
          "model_module_version": "1.5.0",
          "state": {
            "_dom_classes": [],
            "_model_module": "@jupyter-widgets/controls",
            "_model_module_version": "1.5.0",
            "_model_name": "FloatProgressModel",
            "_view_count": null,
            "_view_module": "@jupyter-widgets/controls",
            "_view_module_version": "1.5.0",
            "_view_name": "ProgressView",
            "bar_style": "success",
            "description": "",
            "description_tooltip": null,
            "layout": "IPY_MODEL_0c23037b2fb34ef3b3ae9b8ffb162b4c",
            "max": 3,
            "min": 0,
            "orientation": "horizontal",
            "style": "IPY_MODEL_afceb5fea67348cb86651f071486e990",
            "value": 3
          }
        },
        "8d8d24810980418d86e2860e714fb2cd": {
          "model_module": "@jupyter-widgets/controls",
          "model_name": "HTMLModel",
          "model_module_version": "1.5.0",
          "state": {
            "_dom_classes": [],
            "_model_module": "@jupyter-widgets/controls",
            "_model_module_version": "1.5.0",
            "_model_name": "HTMLModel",
            "_view_count": null,
            "_view_module": "@jupyter-widgets/controls",
            "_view_module_version": "1.5.0",
            "_view_name": "HTMLView",
            "description": "",
            "description_tooltip": null,
            "layout": "IPY_MODEL_51aeeb1bd7754f6cb187c67b611ac25e",
            "placeholder": "​",
            "style": "IPY_MODEL_28ae044f4beb4dd58cc73724842e6759",
            "value": " 3/3 [00:00&lt;00:00, 150.42it/s]"
          }
        },
        "bd702a743d814b44a2e7c3f731a06047": {
          "model_module": "@jupyter-widgets/base",
          "model_name": "LayoutModel",
          "model_module_version": "1.2.0",
          "state": {
            "_model_module": "@jupyter-widgets/base",
            "_model_module_version": "1.2.0",
            "_model_name": "LayoutModel",
            "_view_count": null,
            "_view_module": "@jupyter-widgets/base",
            "_view_module_version": "1.2.0",
            "_view_name": "LayoutView",
            "align_content": null,
            "align_items": null,
            "align_self": null,
            "border": null,
            "bottom": null,
            "display": null,
            "flex": null,
            "flex_flow": null,
            "grid_area": null,
            "grid_auto_columns": null,
            "grid_auto_flow": null,
            "grid_auto_rows": null,
            "grid_column": null,
            "grid_gap": null,
            "grid_row": null,
            "grid_template_areas": null,
            "grid_template_columns": null,
            "grid_template_rows": null,
            "height": null,
            "justify_content": null,
            "justify_items": null,
            "left": null,
            "margin": null,
            "max_height": null,
            "max_width": null,
            "min_height": null,
            "min_width": null,
            "object_fit": null,
            "object_position": null,
            "order": null,
            "overflow": null,
            "overflow_x": null,
            "overflow_y": null,
            "padding": null,
            "right": null,
            "top": null,
            "visibility": null,
            "width": null
          }
        },
        "709c8ccae67c40b4ab1b5b6113e8263a": {
          "model_module": "@jupyter-widgets/base",
          "model_name": "LayoutModel",
          "model_module_version": "1.2.0",
          "state": {
            "_model_module": "@jupyter-widgets/base",
            "_model_module_version": "1.2.0",
            "_model_name": "LayoutModel",
            "_view_count": null,
            "_view_module": "@jupyter-widgets/base",
            "_view_module_version": "1.2.0",
            "_view_name": "LayoutView",
            "align_content": null,
            "align_items": null,
            "align_self": null,
            "border": null,
            "bottom": null,
            "display": null,
            "flex": null,
            "flex_flow": null,
            "grid_area": null,
            "grid_auto_columns": null,
            "grid_auto_flow": null,
            "grid_auto_rows": null,
            "grid_column": null,
            "grid_gap": null,
            "grid_row": null,
            "grid_template_areas": null,
            "grid_template_columns": null,
            "grid_template_rows": null,
            "height": null,
            "justify_content": null,
            "justify_items": null,
            "left": null,
            "margin": null,
            "max_height": null,
            "max_width": null,
            "min_height": null,
            "min_width": null,
            "object_fit": null,
            "object_position": null,
            "order": null,
            "overflow": null,
            "overflow_x": null,
            "overflow_y": null,
            "padding": null,
            "right": null,
            "top": null,
            "visibility": null,
            "width": null
          }
        },
        "2a5e63c9400449e689b7fa7a4c3139a9": {
          "model_module": "@jupyter-widgets/controls",
          "model_name": "DescriptionStyleModel",
          "model_module_version": "1.5.0",
          "state": {
            "_model_module": "@jupyter-widgets/controls",
            "_model_module_version": "1.5.0",
            "_model_name": "DescriptionStyleModel",
            "_view_count": null,
            "_view_module": "@jupyter-widgets/base",
            "_view_module_version": "1.2.0",
            "_view_name": "StyleView",
            "description_width": ""
          }
        },
        "0c23037b2fb34ef3b3ae9b8ffb162b4c": {
          "model_module": "@jupyter-widgets/base",
          "model_name": "LayoutModel",
          "model_module_version": "1.2.0",
          "state": {
            "_model_module": "@jupyter-widgets/base",
            "_model_module_version": "1.2.0",
            "_model_name": "LayoutModel",
            "_view_count": null,
            "_view_module": "@jupyter-widgets/base",
            "_view_module_version": "1.2.0",
            "_view_name": "LayoutView",
            "align_content": null,
            "align_items": null,
            "align_self": null,
            "border": null,
            "bottom": null,
            "display": null,
            "flex": null,
            "flex_flow": null,
            "grid_area": null,
            "grid_auto_columns": null,
            "grid_auto_flow": null,
            "grid_auto_rows": null,
            "grid_column": null,
            "grid_gap": null,
            "grid_row": null,
            "grid_template_areas": null,
            "grid_template_columns": null,
            "grid_template_rows": null,
            "height": null,
            "justify_content": null,
            "justify_items": null,
            "left": null,
            "margin": null,
            "max_height": null,
            "max_width": null,
            "min_height": null,
            "min_width": null,
            "object_fit": null,
            "object_position": null,
            "order": null,
            "overflow": null,
            "overflow_x": null,
            "overflow_y": null,
            "padding": null,
            "right": null,
            "top": null,
            "visibility": null,
            "width": null
          }
        },
        "afceb5fea67348cb86651f071486e990": {
          "model_module": "@jupyter-widgets/controls",
          "model_name": "ProgressStyleModel",
          "model_module_version": "1.5.0",
          "state": {
            "_model_module": "@jupyter-widgets/controls",
            "_model_module_version": "1.5.0",
            "_model_name": "ProgressStyleModel",
            "_view_count": null,
            "_view_module": "@jupyter-widgets/base",
            "_view_module_version": "1.2.0",
            "_view_name": "StyleView",
            "bar_color": null,
            "description_width": ""
          }
        },
        "51aeeb1bd7754f6cb187c67b611ac25e": {
          "model_module": "@jupyter-widgets/base",
          "model_name": "LayoutModel",
          "model_module_version": "1.2.0",
          "state": {
            "_model_module": "@jupyter-widgets/base",
            "_model_module_version": "1.2.0",
            "_model_name": "LayoutModel",
            "_view_count": null,
            "_view_module": "@jupyter-widgets/base",
            "_view_module_version": "1.2.0",
            "_view_name": "LayoutView",
            "align_content": null,
            "align_items": null,
            "align_self": null,
            "border": null,
            "bottom": null,
            "display": null,
            "flex": null,
            "flex_flow": null,
            "grid_area": null,
            "grid_auto_columns": null,
            "grid_auto_flow": null,
            "grid_auto_rows": null,
            "grid_column": null,
            "grid_gap": null,
            "grid_row": null,
            "grid_template_areas": null,
            "grid_template_columns": null,
            "grid_template_rows": null,
            "height": null,
            "justify_content": null,
            "justify_items": null,
            "left": null,
            "margin": null,
            "max_height": null,
            "max_width": null,
            "min_height": null,
            "min_width": null,
            "object_fit": null,
            "object_position": null,
            "order": null,
            "overflow": null,
            "overflow_x": null,
            "overflow_y": null,
            "padding": null,
            "right": null,
            "top": null,
            "visibility": null,
            "width": null
          }
        },
        "28ae044f4beb4dd58cc73724842e6759": {
          "model_module": "@jupyter-widgets/controls",
          "model_name": "DescriptionStyleModel",
          "model_module_version": "1.5.0",
          "state": {
            "_model_module": "@jupyter-widgets/controls",
            "_model_module_version": "1.5.0",
            "_model_name": "DescriptionStyleModel",
            "_view_count": null,
            "_view_module": "@jupyter-widgets/base",
            "_view_module_version": "1.2.0",
            "_view_name": "StyleView",
            "description_width": ""
          }
        }
      }
    }
  },
  "cells": [
    {
      "cell_type": "markdown",
      "metadata": {
        "id": "view-in-github",
        "colab_type": "text"
      },
      "source": [
        "<a href=\"https://colab.research.google.com/github/naro-naro/Colab/blob/main/230327_NLP.ipynb\" target=\"_parent\"><img src=\"https://colab.research.google.com/assets/colab-badge.svg\" alt=\"Open In Colab\"/></a>"
      ]
    },
    {
      "cell_type": "code",
      "execution_count": null,
      "metadata": {
        "colab": {
          "base_uri": "https://localhost:8080/"
        },
        "id": "KhD5aMpj1sXH",
        "outputId": "6e84b942-1141-4b9d-f2da-9bfeaded1885"
      },
      "outputs": [
        {
          "output_type": "stream",
          "name": "stdout",
          "text": [
            "Looking in indexes: https://pypi.org/simple, https://us-python.pkg.dev/colab-wheels/public/simple/\n",
            "Requirement already satisfied: datasets in /usr/local/lib/python3.9/dist-packages (2.10.1)\n",
            "Requirement already satisfied: pyarrow>=6.0.0 in /usr/local/lib/python3.9/dist-packages (from datasets) (9.0.0)\n",
            "Requirement already satisfied: numpy>=1.17 in /usr/local/lib/python3.9/dist-packages (from datasets) (1.22.4)\n",
            "Requirement already satisfied: aiohttp in /usr/local/lib/python3.9/dist-packages (from datasets) (3.8.4)\n",
            "Requirement already satisfied: fsspec[http]>=2021.11.1 in /usr/local/lib/python3.9/dist-packages (from datasets) (2023.3.0)\n",
            "Requirement already satisfied: multiprocess in /usr/local/lib/python3.9/dist-packages (from datasets) (0.70.14)\n",
            "Requirement already satisfied: xxhash in /usr/local/lib/python3.9/dist-packages (from datasets) (3.2.0)\n",
            "Requirement already satisfied: pyyaml>=5.1 in /usr/local/lib/python3.9/dist-packages (from datasets) (6.0)\n",
            "Requirement already satisfied: requests>=2.19.0 in /usr/local/lib/python3.9/dist-packages (from datasets) (2.27.1)\n",
            "Requirement already satisfied: pandas in /usr/local/lib/python3.9/dist-packages (from datasets) (1.4.4)\n",
            "Requirement already satisfied: responses<0.19 in /usr/local/lib/python3.9/dist-packages (from datasets) (0.18.0)\n",
            "Requirement already satisfied: tqdm>=4.62.1 in /usr/local/lib/python3.9/dist-packages (from datasets) (4.65.0)\n",
            "Requirement already satisfied: packaging in /usr/local/lib/python3.9/dist-packages (from datasets) (23.0)\n",
            "Requirement already satisfied: dill<0.3.7,>=0.3.0 in /usr/local/lib/python3.9/dist-packages (from datasets) (0.3.6)\n",
            "Requirement already satisfied: huggingface-hub<1.0.0,>=0.2.0 in /usr/local/lib/python3.9/dist-packages (from datasets) (0.13.3)\n",
            "Requirement already satisfied: charset-normalizer<4.0,>=2.0 in /usr/local/lib/python3.9/dist-packages (from aiohttp->datasets) (2.0.12)\n",
            "Requirement already satisfied: multidict<7.0,>=4.5 in /usr/local/lib/python3.9/dist-packages (from aiohttp->datasets) (6.0.4)\n",
            "Requirement already satisfied: attrs>=17.3.0 in /usr/local/lib/python3.9/dist-packages (from aiohttp->datasets) (22.2.0)\n",
            "Requirement already satisfied: yarl<2.0,>=1.0 in /usr/local/lib/python3.9/dist-packages (from aiohttp->datasets) (1.8.2)\n",
            "Requirement already satisfied: aiosignal>=1.1.2 in /usr/local/lib/python3.9/dist-packages (from aiohttp->datasets) (1.3.1)\n",
            "Requirement already satisfied: frozenlist>=1.1.1 in /usr/local/lib/python3.9/dist-packages (from aiohttp->datasets) (1.3.3)\n",
            "Requirement already satisfied: async-timeout<5.0,>=4.0.0a3 in /usr/local/lib/python3.9/dist-packages (from aiohttp->datasets) (4.0.2)\n",
            "Requirement already satisfied: filelock in /usr/local/lib/python3.9/dist-packages (from huggingface-hub<1.0.0,>=0.2.0->datasets) (3.10.1)\n",
            "Requirement already satisfied: typing-extensions>=3.7.4.3 in /usr/local/lib/python3.9/dist-packages (from huggingface-hub<1.0.0,>=0.2.0->datasets) (4.5.0)\n",
            "Requirement already satisfied: certifi>=2017.4.17 in /usr/local/lib/python3.9/dist-packages (from requests>=2.19.0->datasets) (2022.12.7)\n",
            "Requirement already satisfied: idna<4,>=2.5 in /usr/local/lib/python3.9/dist-packages (from requests>=2.19.0->datasets) (3.4)\n",
            "Requirement already satisfied: urllib3<1.27,>=1.21.1 in /usr/local/lib/python3.9/dist-packages (from requests>=2.19.0->datasets) (1.26.15)\n",
            "Requirement already satisfied: pytz>=2020.1 in /usr/local/lib/python3.9/dist-packages (from pandas->datasets) (2022.7.1)\n",
            "Requirement already satisfied: python-dateutil>=2.8.1 in /usr/local/lib/python3.9/dist-packages (from pandas->datasets) (2.8.2)\n",
            "Requirement already satisfied: six>=1.5 in /usr/local/lib/python3.9/dist-packages (from python-dateutil>=2.8.1->pandas->datasets) (1.16.0)\n"
          ]
        }
      ],
      "source": [
        "\n",
        "!pip install datasets"
      ]
    },
    {
      "cell_type": "code",
      "source": [
        "from datasets import load_dataset\n",
        "data = load_dataset(\"sepidmnorozy/Korean_sentiment\")"
      ],
      "metadata": {
        "colab": {
          "base_uri": "https://localhost:8080/",
          "height": 88,
          "referenced_widgets": [
            "80c79d13ee934b6fab072db913e1f459",
            "b919bff646a646599a17b58393d6d869",
            "68fe8ce0d26546799ff0c4fd3c947a7b",
            "8d8d24810980418d86e2860e714fb2cd",
            "bd702a743d814b44a2e7c3f731a06047",
            "709c8ccae67c40b4ab1b5b6113e8263a",
            "2a5e63c9400449e689b7fa7a4c3139a9",
            "0c23037b2fb34ef3b3ae9b8ffb162b4c",
            "afceb5fea67348cb86651f071486e990",
            "51aeeb1bd7754f6cb187c67b611ac25e",
            "28ae044f4beb4dd58cc73724842e6759"
          ]
        },
        "id": "Kr98OB2e4d75",
        "outputId": "ceced666-3508-46e7-d282-3c2521efa5e6"
      },
      "execution_count": null,
      "outputs": [
        {
          "output_type": "stream",
          "name": "stderr",
          "text": [
            "WARNING:datasets.builder:Found cached dataset csv (/root/.cache/huggingface/datasets/sepidmnorozy___csv/sepidmnorozy--Korean_sentiment-c4fbcaaf8f2ffcfa/0.0.0/6b34fb8fcf56f7c8ba51dc895bfa2bfbe43546f190a60fcf74bb5e8afdcc2317)\n"
          ]
        },
        {
          "output_type": "display_data",
          "data": {
            "text/plain": [
              "  0%|          | 0/3 [00:00<?, ?it/s]"
            ],
            "application/vnd.jupyter.widget-view+json": {
              "version_major": 2,
              "version_minor": 0,
              "model_id": "80c79d13ee934b6fab072db913e1f459"
            }
          },
          "metadata": {}
        }
      ]
    },
    {
      "cell_type": "code",
      "source": [
        "print(\"Data type : \",type(data))\n",
        "print(\"Data keys : \",data.keys())\n",
        "print(\"Data structure : \", data)\n",
        "\n",
        "print(data['train'][0])\n",
        "print(data['train'][-1])"
      ],
      "metadata": {
        "colab": {
          "base_uri": "https://localhost:8080/"
        },
        "id": "hjwL_rOq4884",
        "outputId": "e9a82a2e-4bde-41df-c4e0-690af815b423"
      },
      "execution_count": null,
      "outputs": [
        {
          "output_type": "stream",
          "name": "stdout",
          "text": [
            "Data type :  <class 'datasets.dataset_dict.DatasetDict'>\n",
            "Data keys :  dict_keys(['train', 'test', 'validation'])\n",
            "Data structure :  DatasetDict({\n",
            "    train: Dataset({\n",
            "        features: ['label', 'text'],\n",
            "        num_rows: 36000\n",
            "    })\n",
            "    test: Dataset({\n",
            "        features: ['label', 'text'],\n",
            "        num_rows: 2667\n",
            "    })\n",
            "    validation: Dataset({\n",
            "        features: ['label', 'text'],\n",
            "        num_rows: 1333\n",
            "    })\n",
            "})\n",
            "{'label': 1, 'text': '역시 명작 어렸을때 봤을때도 재밌었고 지금 봐도 몇억배 이상으로 재밌어요'}\n",
            "{'label': 0, 'text': \"큰 의미없이 연결'만' 되는 살인들.\"}\n"
          ]
        }
      ]
    },
    {
      "cell_type": "markdown",
      "source": [
        "긍정 레이블은 1 / 부정 레이블은 0이구나"
      ],
      "metadata": {
        "id": "OWga4CuT5mkJ"
      }
    },
    {
      "cell_type": "code",
      "source": [
        "train_data = data['train']\n",
        "dev_data = data['validation']\n",
        "test_data = data['test']\n",
        "print(train_data[0])"
      ],
      "metadata": {
        "colab": {
          "base_uri": "https://localhost:8080/"
        },
        "id": "LP-k6Rki56_m",
        "outputId": "7f4bd4de-c15e-4dac-acf9-fa75c0d4ca4f"
      },
      "execution_count": null,
      "outputs": [
        {
          "output_type": "stream",
          "name": "stdout",
          "text": [
            "{'label': 1, 'text': '역시 명작 어렸을때 봤을때도 재밌었고 지금 봐도 몇억배 이상으로 재밌어요'}\n"
          ]
        }
      ]
    },
    {
      "cell_type": "code",
      "source": [
        "from sklearn.feature_extraction.text import CountVectorizer\n",
        "\n",
        "vectorizer = CountVectorizer(ngram_range=(1,3))\n",
        "vectorizer.fit(train_data['text'])\n",
        "\n",
        "print(vectorizer.vocabulary_) # 각 단어의 인덱스 값을 출력\n",
        "print(len(vectorizer.vocabulary_)) # 내가 갖고있는 트레인데이터의 텍스트 전체 개수 : 단어의 종류의 개수\n",
        "print()\n",
        "\n",
        "train_vectors = vectorizer.transform(train_data['text']) # 트랜스폼 ; 우리가 아는 학습 모델들로 바꿔주는\n",
        "dev_vectors = vectorizer.transform(dev_data['text'])\n",
        "test_vectors = vectorizer.transform(test_data['text'])\n",
        "\n",
        "print(train_vectors)\n",
        "# 0번 문장에 32925번 단어가 있었다\n",
        "# n그램을 적용하면 단어가 늘어남 159339번 단어가 되어버림"
      ],
      "metadata": {
        "colab": {
          "base_uri": "https://localhost:8080/"
        },
        "id": "vTo8SQE78o5w",
        "outputId": "6bb83d23-3cba-4e4e-f61b-0564a2c25c8c"
      },
      "execution_count": null,
      "outputs": [
        {
          "output_type": "stream",
          "name": "stderr",
          "text": [
            "IOPub data rate exceeded.\n",
            "The notebook server will temporarily stop sending output\n",
            "to the client in order to avoid crashing it.\n",
            "To change this limit, set the config variable\n",
            "`--NotebookApp.iopub_data_rate_limit`.\n",
            "\n",
            "Current values:\n",
            "NotebookApp.iopub_data_rate_limit=1000000.0 (bytes/sec)\n",
            "NotebookApp.rate_limit_window=3.0 (secs)\n",
            "\n"
          ]
        },
        {
          "output_type": "stream",
          "name": "stdout",
          "text": [
            "  (0, 159339)\t1\n",
            "  (0, 159416)\t1\n",
            "  (0, 159417)\t1\n",
            "  (0, 160563)\t1\n",
            "  (0, 160564)\t1\n",
            "  (0, 160565)\t1\n",
            "  (0, 203377)\t1\n",
            "  (0, 203483)\t1\n",
            "  (0, 203484)\t1\n",
            "  (0, 207086)\t1\n",
            "  (0, 207099)\t1\n",
            "  (0, 207100)\t1\n",
            "  (0, 289153)\t1\n",
            "  (0, 289181)\t1\n",
            "  (0, 289182)\t1\n",
            "  (0, 305219)\t1\n",
            "  (0, 305439)\t1\n",
            "  (0, 305440)\t1\n",
            "  (0, 361818)\t1\n",
            "  (0, 361830)\t1\n",
            "  (0, 393711)\t1\n",
            "  (0, 393923)\t1\n",
            "  (0, 393945)\t1\n",
            "  (0, 393946)\t1\n",
            "  (0, 427608)\t1\n",
            "  :\t:\n",
            "  (35998, 5461)\t1\n",
            "  (35998, 5462)\t1\n",
            "  (35998, 73032)\t1\n",
            "  (35998, 245143)\t1\n",
            "  (35998, 245154)\t1\n",
            "  (35998, 245155)\t1\n",
            "  (35998, 353918)\t1\n",
            "  (35998, 354522)\t1\n",
            "  (35998, 354523)\t1\n",
            "  (35998, 403661)\t1\n",
            "  (35998, 406285)\t1\n",
            "  (35998, 406286)\t1\n",
            "  (35998, 433526)\t2\n",
            "  (35998, 433553)\t1\n",
            "  (35998, 433554)\t1\n",
            "  (35998, 433789)\t1\n",
            "  (35999, 124544)\t1\n",
            "  (35999, 124606)\t1\n",
            "  (35999, 224501)\t1\n",
            "  (35999, 306290)\t1\n",
            "  (35999, 306293)\t1\n",
            "  (35999, 306294)\t1\n",
            "  (35999, 350325)\t1\n",
            "  (35999, 350328)\t1\n",
            "  (35999, 350329)\t1\n"
          ]
        }
      ]
    },
    {
      "cell_type": "code",
      "source": [
        "sample_num = 100\n",
        "sample_origin = train_data[sample_num]\n",
        "sample_transform = train_vectors[sample_num]\n",
        "sample_inverse_transform = vectorizer.inverse_transform(sample_transform)\n",
        "print(sample_origin)\n",
        "print(sample_transform)\n",
        "print(sample_inverse_transform)\n",
        "# 순서가 보존되지 않고 단어의 개수와 유무로만 텍스트를 수치화, 벡터화 한다\n",
        "# n그램을 사용하면 바이그램 트라이그램 등등 어절 두개 세개짜리 단어가 생김"
      ],
      "metadata": {
        "colab": {
          "base_uri": "https://localhost:8080/"
        },
        "id": "PkxPwuzX-287",
        "outputId": "d842b621-594f-47fe-860c-47eef1f5390e"
      },
      "execution_count": null,
      "outputs": [
        {
          "output_type": "stream",
          "name": "stdout",
          "text": [
            "{'label': 0, 'text': '드래곤볼은 만화책부분만 벗어나면 왜이리 재미가 없는 건가,,'}\n",
            "  (0, 37774)\t1\n",
            "  (0, 129311)\t1\n",
            "  (0, 129312)\t1\n",
            "  (0, 129313)\t1\n",
            "  (0, 148286)\t1\n",
            "  (0, 148287)\t1\n",
            "  (0, 148288)\t1\n",
            "  (0, 188815)\t1\n",
            "  (0, 188816)\t1\n",
            "  (0, 188817)\t1\n",
            "  (0, 296166)\t1\n",
            "  (0, 296216)\t1\n",
            "  (0, 335654)\t1\n",
            "  (0, 335703)\t1\n",
            "  (0, 335704)\t1\n",
            "  (0, 388464)\t1\n",
            "  (0, 388505)\t1\n",
            "  (0, 388506)\t1\n",
            "[array(['건가', '드래곤볼은', '드래곤볼은 만화책부분만', '드래곤볼은 만화책부분만 벗어나면', '만화책부분만',\n",
            "       '만화책부분만 벗어나면', '만화책부분만 벗어나면 왜이리', '벗어나면', '벗어나면 왜이리',\n",
            "       '벗어나면 왜이리 재미가', '없는', '없는 건가', '왜이리', '왜이리 재미가', '왜이리 재미가 없는',\n",
            "       '재미가', '재미가 없는', '재미가 없는 건가'], dtype='<U140')]\n"
          ]
        }
      ]
    },
    {
      "cell_type": "code",
      "source": [
        "from sklearn.svm import LinearSVC\n",
        "# 학습은 데이터와 그 데이터가 갖고있는 '레이블'이 필요하다\n",
        "\n",
        "my_model = LinearSVC()\n",
        "my_model.fit(train_vectors, train_data['label'])\n",
        "# 학습데이터의 입력은 트레인벡터 / 출력은 트레인벡터'레이블' << 레이블을 넣어주는 것이 중요\n",
        "\n",
        "print(my_model.coef_)\n",
        "print(my_model.intercept_)\n",
        "\n",
        "# 학습이 완료 됨"
      ],
      "metadata": {
        "colab": {
          "base_uri": "https://localhost:8080/"
        },
        "id": "BiZYn7HyAKWF",
        "outputId": "b695d3ff-f281-4337-deb3-fab4aa292a74"
      },
      "execution_count": null,
      "outputs": [
        {
          "output_type": "stream",
          "name": "stdout",
          "text": [
            "[[-0.15848394 -0.15848394 -0.15848394 ...  0.03646929  0.03646929\n",
            "  -0.65334896]]\n",
            "[-0.0199766]\n"
          ]
        }
      ]
    },
    {
      "cell_type": "code",
      "source": [
        "from sklearn.metrics import accuracy_score\n",
        "\n",
        "final_model = svm\n",
        "\n",
        "pred_results = final_model.predict(test_vectors)\n",
        "accuracy = accuracy_score(test_data['label'], pred_results)\n",
        "\n",
        "print(accuracy)"
      ],
      "metadata": {
        "colab": {
          "base_uri": "https://localhost:8080/",
          "height": 251
        },
        "id": "zq0-ynt1KQ1x",
        "outputId": "ad58f2f6-4940-45c5-e3d2-c074b67d2b49"
      },
      "execution_count": null,
      "outputs": [
        {
          "output_type": "error",
          "ename": "NameError",
          "evalue": "ignored",
          "traceback": [
            "\u001b[0;31m---------------------------------------------------------------------------\u001b[0m",
            "\u001b[0;31mNameError\u001b[0m                                 Traceback (most recent call last)",
            "\u001b[0;32m<ipython-input-45-bcdbeb59a692>\u001b[0m in \u001b[0;36m<module>\u001b[0;34m\u001b[0m\n\u001b[1;32m      1\u001b[0m \u001b[0;32mfrom\u001b[0m \u001b[0msklearn\u001b[0m\u001b[0;34m.\u001b[0m\u001b[0mmetrics\u001b[0m \u001b[0;32mimport\u001b[0m \u001b[0maccuracy_score\u001b[0m\u001b[0;34m\u001b[0m\u001b[0;34m\u001b[0m\u001b[0m\n\u001b[1;32m      2\u001b[0m \u001b[0;34m\u001b[0m\u001b[0m\n\u001b[0;32m----> 3\u001b[0;31m \u001b[0mfinal_model\u001b[0m \u001b[0;34m=\u001b[0m \u001b[0msvm\u001b[0m\u001b[0;34m\u001b[0m\u001b[0;34m\u001b[0m\u001b[0m\n\u001b[0m\u001b[1;32m      4\u001b[0m \u001b[0;34m\u001b[0m\u001b[0m\n\u001b[1;32m      5\u001b[0m \u001b[0mpred_results\u001b[0m \u001b[0;34m=\u001b[0m \u001b[0mfinal_model\u001b[0m\u001b[0;34m.\u001b[0m\u001b[0mpredict\u001b[0m\u001b[0;34m(\u001b[0m\u001b[0mtest_vectors\u001b[0m\u001b[0;34m)\u001b[0m\u001b[0;34m\u001b[0m\u001b[0;34m\u001b[0m\u001b[0m\n",
            "\u001b[0;31mNameError\u001b[0m: name 'svm' is not defined"
          ]
        }
      ]
    },
    {
      "cell_type": "markdown",
      "source": [
        "###### 성능을 높이고 싶을 때 피처 엔지니어링\n",
        "###### 도메인 지식을 활용하여 데이터에서 특징을 추출하는작업\n",
        "###### 기계학습 모델의 정확성 개선\n",
        "###### 대표적 피쳐) n그램 / tf-idf"
      ],
      "metadata": {
        "id": "VWh3kn3_N911"
      }
    },
    {
      "cell_type": "markdown",
      "source": [
        "###### 필요없는 피쳐를 너무 많이 넣어주면 성능이 오히려 떨어진다."
      ],
      "metadata": {
        "id": "c_pnp8OMQEsv"
      }
    },
    {
      "cell_type": "markdown",
      "source": [
        "###### 유니그램 바이그램 트라이그램 등은 단어간의 순서를 가지므로 의미가 있음"
      ],
      "metadata": {
        "id": "tCWpf_g-QOZ3"
      }
    }
  ]
}