{
 "cells": [
  {
   "cell_type": "markdown",
   "id": "fface23d-bc0b-40d7-9c46-3ef5fa727ce7",
   "metadata": {},
   "source": [
    "# 주피터 노트북 사용법\n",
    "- shift + enter : 셀 실행, 다음셀로 커서 이동\n",
    "- 셀 선택\n",
    "    - \\+ enter : 편집하기\n",
    "    - \\+ 'a' : 위에 새로운 셀 생성\n",
    "    - \\+ 'b' : 아래에 새로운 셀 생성\n",
    "    - \\+ 'dd' : 셀 삭제\n",
    "    - \\+ 'm' : 셀을 마크다운으로 전환\n",
    "    - \\+ 'y' : 셀을 코드로 전환 "
   ]
  },
  {
   "cell_type": "markdown",
   "id": "6ae8a065-82c1-49d6-95e7-206d0275c55f",
   "metadata": {},
   "source": [
    "## 마크다운(Markdown)이란?\n",
    "* 코드와 함께 문서화할 수 있는 문법\n",
    "```\n",
    "여러 줄의 설명을\n",
    "줄바꿈으로 "
   ]
  },
  {
   "cell_type": "code",
   "execution_count": 1,
   "id": "9fc4ef61-2ba3-442e-93a4-7086d1560116",
   "metadata": {},
   "outputs": [
    {
     "name": "stdout",
     "output_type": "stream",
     "text": [
      "Hello World!\n"
     ]
    }
   ],
   "source": [
    "print(\"Hello World!\")"
   ]
  },
  {
   "cell_type": "code",
   "execution_count": 2,
   "id": "485e26e9-7a67-4114-b0cf-27c53df4577e",
   "metadata": {},
   "outputs": [
    {
     "data": {
      "text/plain": [
       "3"
      ]
     },
     "execution_count": 2,
     "metadata": {},
     "output_type": "execute_result"
    }
   ],
   "source": [
    "a = 1\n",
    "b = 2\n",
    "a + b"
   ]
  },
  {
   "cell_type": "code",
   "execution_count": null,
   "id": "1997be1d-7ec9-4f4c-af5c-0fb08f1be9b0",
   "metadata": {},
   "outputs": [],
   "source": [
    "for i in range(100):\n",
    "    print(i)"
   ]
  },
  {
   "cell_type": "code",
   "execution_count": null,
   "id": "31ad5f2a-7187-414a-ad81-bc2e6debb3ec",
   "metadata": {},
   "outputs": [],
   "source": []
  }
 ],
 "metadata": {
  "kernelspec": {
   "display_name": "Python 3 (ipykernel)",
   "language": "python",
   "name": "python3"
  },
  "language_info": {
   "codemirror_mode": {
    "name": "ipython",
    "version": 3
   },
   "file_extension": ".py",
   "mimetype": "text/x-python",
   "name": "python",
   "nbconvert_exporter": "python",
   "pygments_lexer": "ipython3",
   "version": "3.11.7"
  }
 },
 "nbformat": 4,
 "nbformat_minor": 5
}
