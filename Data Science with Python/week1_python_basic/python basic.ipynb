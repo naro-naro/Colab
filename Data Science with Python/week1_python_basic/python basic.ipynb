{
 "cells": [
  {
   "cell_type": "markdown",
   "id": "128c2268-201c-4427-a77e-ab26ab1bb1f4",
   "metadata": {},
   "source": [
    "# Python for data analysis\n",
    "- [파이썬 공식 튜토리얼](http://docs.python.org/3/tutorial/index.html)"
   ]
  },
  {
   "cell_type": "markdown",
   "id": "d14e38f7-bfbd-4eac-adbc-07a7158e4b2f",
   "metadata": {},
   "source": [
    "# Zen of Python\n",
    "- 파이썬의 철학이 잘 담겨있는 Zen of Python을 출력해 봅시다.\n",
    "- import를 통해 파이썬의 라이브러리나 패키지를 가져올 수 있습니다."
   ]
  },
  {
   "cell_type": "code",
   "execution_count": 2,
   "id": "49b5902f-7159-4a32-8652-ce0d099a5415",
   "metadata": {},
   "outputs": [
    {
     "name": "stdout",
     "output_type": "stream",
     "text": [
      "The Zen of Python, by Tim Peters\n",
      "\n",
      "Beautiful is better than ugly.\n",
      "Explicit is better than implicit.\n",
      "Simple is better than complex.\n",
      "Complex is better than complicated.\n",
      "Flat is better than nested.\n",
      "Sparse is better than dense.\n",
      "Readability counts.\n",
      "Special cases aren't special enough to break the rules.\n",
      "Although practicality beats purity.\n",
      "Errors should never pass silently.\n",
      "Unless explicitly silenced.\n",
      "In the face of ambiguity, refuse the temptation to guess.\n",
      "There should be one-- and preferably only one --obvious way to do it.\n",
      "Although that way may not be obvious at first unless you're Dutch.\n",
      "Now is better than never.\n",
      "Although never is often better than *right* now.\n",
      "If the implementation is hard to explain, it's a bad idea.\n",
      "If the implementation is easy to explain, it may be a good idea.\n",
      "Namespaces are one honking great idea -- let's do more of those!\n"
     ]
    }
   ],
   "source": [
    "import this"
   ]
  },
  {
   "cell_type": "markdown",
   "id": "363f7b54-9aab-4c6c-b133-3f600201f9a0",
   "metadata": {},
   "source": [
    "# boolean\n",
    "- 파이썬에는 명시적인 것이 암시적인 것보다 낫다라는 철학이 있습니다.\n",
    "- True나 False는 0과 1로도 표현할 수 있으나, 명시적으로 표현하기 위해 True와 False를 사용합니다."
   ]
  },
  {
   "cell_type": "code",
   "execution_count": 3,
   "id": "4708de22-9652-42e9-949b-dba9ba9b8d5e",
   "metadata": {},
   "outputs": [
    {
     "data": {
      "text/plain": [
       "True"
      ]
     },
     "execution_count": 3,
     "metadata": {},
     "output_type": "execute_result"
    }
   ],
   "source": [
    "# True를 출력\n",
    "True"
   ]
  },
  {
   "cell_type": "code",
   "execution_count": 4,
   "id": "99b8517a-267e-4990-9496-eae0d86e8458",
   "metadata": {},
   "outputs": [
    {
     "data": {
      "text/plain": [
       "False"
      ]
     },
     "execution_count": 4,
     "metadata": {},
     "output_type": "execute_result"
    }
   ],
   "source": [
    "# False를 출력\n",
    "False"
   ]
  },
  {
   "cell_type": "code",
   "execution_count": 5,
   "id": "d6ab934e-61ae-4588-9584-65664bb47a3b",
   "metadata": {},
   "outputs": [
    {
     "data": {
      "text/plain": [
       "True"
      ]
     },
     "execution_count": 5,
     "metadata": {},
     "output_type": "execute_result"
    }
   ],
   "source": [
    "# True는 1과 같음을 표현\n",
    "True == 1"
   ]
  },
  {
   "cell_type": "code",
   "execution_count": 6,
   "id": "81873517-2ebe-4d80-b2ff-0a45f51b7f03",
   "metadata": {},
   "outputs": [
    {
     "data": {
      "text/plain": [
       "True"
      ]
     },
     "execution_count": 6,
     "metadata": {},
     "output_type": "execute_result"
    }
   ],
   "source": [
    "# False는 0과 같음을 표현\n",
    "False == 0"
   ]
  },
  {
   "cell_type": "code",
   "execution_count": 7,
   "id": "15f0f10c-66d6-4dce-ba9d-a9039966933f",
   "metadata": {},
   "outputs": [
    {
     "data": {
      "text/plain": [
       "False"
      ]
     },
     "execution_count": 7,
     "metadata": {},
     "output_type": "execute_result"
    }
   ],
   "source": [
    "# True는 \"1\"(문자열)과는 다름을 표현\n",
    "True == \"1\""
   ]
  },
  {
   "cell_type": "code",
   "execution_count": 8,
   "id": "6476d0ef-fc3e-466e-8212-1f61287c64aa",
   "metadata": {},
   "outputs": [
    {
     "data": {
      "text/plain": [
       "True"
      ]
     },
     "execution_count": 8,
     "metadata": {},
     "output_type": "execute_result"
    }
   ],
   "source": [
    "# True는 \"1\"(문자열)과는 다름을 표현\n",
    "True != \"1\""
   ]
  },
  {
   "cell_type": "code",
   "execution_count": 10,
   "id": "bbfe3e57-6ca8-4ad9-945a-11658b573d0c",
   "metadata": {},
   "outputs": [
    {
     "data": {
      "text/plain": [
       "False"
      ]
     },
     "execution_count": 10,
     "metadata": {},
     "output_type": "execute_result"
    }
   ],
   "source": [
    "# False는 \"0\"(문자열)과는 다름을 표현\n",
    "False == \"0\""
   ]
  },
  {
   "cell_type": "code",
   "execution_count": 11,
   "id": "86648552-85a6-4e66-90e3-416de60c6153",
   "metadata": {},
   "outputs": [
    {
     "data": {
      "text/plain": [
       "True"
      ]
     },
     "execution_count": 11,
     "metadata": {},
     "output_type": "execute_result"
    }
   ],
   "source": [
    "# False는 \"0\"(문자열)과는 다름을 표현\n",
    "False != \"0\""
   ]
  },
  {
   "cell_type": "code",
   "execution_count": 13,
   "id": "94ff279d-4309-4baf-a65e-ec2cf69c8afb",
   "metadata": {},
   "outputs": [
    {
     "data": {
      "text/plain": [
       "True"
      ]
     },
     "execution_count": 13,
     "metadata": {},
     "output_type": "execute_result"
    }
   ],
   "source": [
    "# and 연산 : 조건 중 하나라도 False라면 False\n",
    "True and True"
   ]
  },
  {
   "cell_type": "code",
   "execution_count": 14,
   "id": "7bbb5599-16e4-48cc-8d2c-52a5537c16d7",
   "metadata": {},
   "outputs": [
    {
     "data": {
      "text/plain": [
       "False"
      ]
     },
     "execution_count": 14,
     "metadata": {},
     "output_type": "execute_result"
    }
   ],
   "source": [
    "# and 연산 : 조건 중 하나라도 False라면 False\n",
    "True and False"
   ]
  },
  {
   "cell_type": "code",
   "execution_count": 15,
   "id": "ff3016ef-25c8-4002-9f8d-cb47461a0ac4",
   "metadata": {},
   "outputs": [
    {
     "data": {
      "text/plain": [
       "True"
      ]
     },
     "execution_count": 15,
     "metadata": {},
     "output_type": "execute_result"
    }
   ],
   "source": [
    "# or 연산 : 조건 중 하나라도 True라면 True\n",
    "True or False"
   ]
  },
  {
   "cell_type": "code",
   "execution_count": 16,
   "id": "63eb46ef-c2a1-4fa1-8bdf-8f3ee08836b1",
   "metadata": {},
   "outputs": [
    {
     "data": {
      "text/plain": [
       "False"
      ]
     },
     "execution_count": 16,
     "metadata": {},
     "output_type": "execute_result"
    }
   ],
   "source": [
    "# or 연산 : 조건 중 하나라도 True라면 True\n",
    "False or False"
   ]
  },
  {
   "cell_type": "markdown",
   "id": "1b9f9f1c-428d-4009-a833-2749c289805a",
   "metadata": {},
   "source": [
    "# Number and String\n",
    "- 숫자 1과 문자 \"1\"은 다릅니다.\n",
    "- 숫자 1과 문자 \"1\"의 데이터 타입을 출력해 보세요.\n",
    "- 데이터 타입을 표현할 때 type을 통해 데이터를 출력합니다."
   ]
  },
  {
   "cell_type": "code",
   "execution_count": 17,
   "id": "21e0c487-1f84-49a5-97a7-d4a14d6dd658",
   "metadata": {},
   "outputs": [
    {
     "name": "stdout",
     "output_type": "stream",
     "text": [
      "1 <class 'int'>\n"
     ]
    }
   ],
   "source": [
    "# 숫자 1과 데이터 타입 출력\n",
    "print(1, type(1))"
   ]
  },
  {
   "cell_type": "code",
   "execution_count": 18,
   "id": "127b1868-66c0-4374-8c04-272ddc7057e3",
   "metadata": {},
   "outputs": [
    {
     "name": "stdout",
     "output_type": "stream",
     "text": [
      "1 <class 'str'>\n"
     ]
    }
   ],
   "source": [
    "# 문자 \"1\"과 데이터 타입 출력\n",
    "print(\"1\", type(\"1\"))"
   ]
  },
  {
   "cell_type": "code",
   "execution_count": 19,
   "id": "e7e7af34-b5ba-428f-81f0-f01950dbeb45",
   "metadata": {},
   "outputs": [
    {
     "data": {
      "text/plain": [
       "False"
      ]
     },
     "execution_count": 19,
     "metadata": {},
     "output_type": "execute_result"
    }
   ],
   "source": [
    "# 숫자 1과 문자 \"1\"을 비교\n",
    "1 == \"1\""
   ]
  },
  {
   "cell_type": "markdown",
   "id": "fe8996b0-8930-47e5-ae60-4b2a1290c61a",
   "metadata": {},
   "source": [
    "# Strings and Lists\n",
    "- [Strings](http://docs.python.org/3/tutorial/introduction.html#strings)\n",
    "- [Lists](http://docs.python.org/3/tutorial/introduction.html#lists)"
   ]
  },
  {
   "cell_type": "code",
   "execution_count": 21,
   "id": "465de27b-7c92-482c-9e7a-80d70dbc55da",
   "metadata": {},
   "outputs": [
    {
     "data": {
      "text/plain": [
       "'Hello World!'"
      ]
     },
     "execution_count": 21,
     "metadata": {},
     "output_type": "execute_result"
    }
   ],
   "source": [
    "# \"Hello World!\"를 출력\n",
    "\"Hello World!\""
   ]
  },
  {
   "cell_type": "code",
   "execution_count": 22,
   "id": "9b934f38-e2e4-45dc-8fcf-adf0bc21690b",
   "metadata": {},
   "outputs": [
    {
     "data": {
      "text/plain": [
       "'경기도 성남시 분당구'"
      ]
     },
     "execution_count": 22,
     "metadata": {},
     "output_type": "execute_result"
    }
   ],
   "source": [
    "# 주소 \"경기도 성남시 분당구\"를 출력\n",
    "\"경기도 성남시 분당구\""
   ]
  },
  {
   "cell_type": "markdown",
   "id": "d33e835d-9f1b-4b95-9c0d-353d1d1ae249",
   "metadata": {},
   "source": [
    "## strings"
   ]
  },
  {
   "cell_type": "code",
   "execution_count": 24,
   "id": "d7daaa09-646c-44fb-b4b1-1ff0a2dbfd8c",
   "metadata": {},
   "outputs": [
    {
     "data": {
      "text/plain": [
       "'today I Learned'"
      ]
     },
     "execution_count": 24,
     "metadata": {},
     "output_type": "execute_result"
    }
   ],
   "source": [
    "# til 이라는 변수에 문자열 담기\n",
    "til = \"today I Learned\"\n",
    "til"
   ]
  },
  {
   "cell_type": "code",
   "execution_count": 25,
   "id": "b8cc8d89-157a-4c85-825f-0cb484db72cf",
   "metadata": {},
   "outputs": [
    {
     "data": {
      "text/plain": [
       "'today i learned'"
      ]
     },
     "execution_count": 25,
     "metadata": {},
     "output_type": "execute_result"
    }
   ],
   "source": [
    "# 모두 소문자로 변환\n",
    "til.lower()"
   ]
  },
  {
   "cell_type": "code",
   "execution_count": 26,
   "id": "5db3f7e9-dbdf-4908-bcba-f39ce7cc1c8b",
   "metadata": {},
   "outputs": [
    {
     "data": {
      "text/plain": [
       "'TODAY I LEARNED'"
      ]
     },
     "execution_count": 26,
     "metadata": {},
     "output_type": "execute_result"
    }
   ],
   "source": [
    "# 모두 대문자로 변환\n",
    "til.upper()"
   ]
  },
  {
   "cell_type": "markdown",
   "id": "2601b7e8-3296-4962-9dc0-f8b2964a4b31",
   "metadata": {},
   "source": [
    "## lists"
   ]
  },
  {
   "cell_type": "code",
   "execution_count": 31,
   "id": "d9f6a003-cbe7-4823-b1e6-c45aa6a7b25d",
   "metadata": {},
   "outputs": [
    {
     "data": {
      "text/plain": [
       "[]"
      ]
     },
     "execution_count": 31,
     "metadata": {},
     "output_type": "execute_result"
    }
   ],
   "source": [
    "# lang 이라는 변수에 비어있는 리스트 담기\n",
    "lang = []\n",
    "lang"
   ]
  },
  {
   "cell_type": "code",
   "execution_count": 32,
   "id": "81334486-e6d2-4ddc-9ae7-619e42fba5f4",
   "metadata": {},
   "outputs": [
    {
     "data": {
      "text/plain": [
       "['python', 'java', 'c']"
      ]
     },
     "execution_count": 32,
     "metadata": {},
     "output_type": "execute_result"
    }
   ],
   "source": [
    "# lang에 원소 python, java, c를 추가\n",
    "lang.append(\"python\")\n",
    "lang.append(\"java\")\n",
    "lang.append(\"c\")\n",
    "lang"
   ]
  },
  {
   "cell_type": "code",
   "execution_count": 34,
   "id": "ecaa65ab-76c2-4e3c-a3fb-c892807ee768",
   "metadata": {},
   "outputs": [
    {
     "name": "stdout",
     "output_type": "stream",
     "text": [
      "python\n",
      "java\n",
      "c\n",
      "c\n"
     ]
    }
   ],
   "source": [
    "# lang에 담겨있는 언어를 인덱싱을 통해 가져오기\n",
    "print(lang[0])\n",
    "print(lang[1])\n",
    "print(lang[2])\n",
    "print(lang[-1])"
   ]
  },
  {
   "cell_type": "markdown",
   "id": "1dc964d9-78b5-4202-a3ae-92338d11c482",
   "metadata": {},
   "source": [
    "# Control Flow\n",
    "- 제어문 : 조건문, 반복문\n"
   ]
  },
  {
   "cell_type": "code",
   "execution_count": 35,
   "id": "1a93cff2-b58c-4ae7-8a42-f6db97610ae4",
   "metadata": {},
   "outputs": [
    {
     "name": "stdout",
     "output_type": "stream",
     "text": [
      "python\n",
      "java\n",
      "c\n"
     ]
    }
   ],
   "source": [
    "# 반복문을 통해 리스트의 원소를 하나씩 출력\n",
    "for i in lang:\n",
    "    print(i)"
   ]
  },
  {
   "cell_type": "code",
   "execution_count": 36,
   "id": "3fe77b9e-93ec-4ef3-a744-2d25a46c0d1f",
   "metadata": {},
   "outputs": [
    {
     "name": "stdout",
     "output_type": "stream",
     "text": [
      "python\n",
      "기타\n",
      "기타\n"
     ]
    }
   ],
   "source": [
    "# 위 코드에서 python일 때는 그대로 출력하고\n",
    "# 나머지는 \"기타\"라고 출력\n",
    "for i in lang:\n",
    "    if i == \"python\":\n",
    "        print(i)\n",
    "    else:\n",
    "        print(\"기타\")"
   ]
  },
  {
   "cell_type": "code",
   "execution_count": 40,
   "id": "7076ff69-68c0-4996-aeb1-0fd8e6f9ad3c",
   "metadata": {},
   "outputs": [
    {
     "name": "stdout",
     "output_type": "stream",
     "text": [
      "Hello\n",
      "Hello\n",
      "Hello\n",
      "Hello\n",
      "Hello\n"
     ]
    }
   ],
   "source": [
    "# 특정 횟수만큼 반복문 실행\n",
    "for i in range(5):\n",
    "    print(\"Hello\")"
   ]
  },
  {
   "cell_type": "code",
   "execution_count": 39,
   "id": "d3d6721b-a7dc-414e-a53d-448c8ac79401",
   "metadata": {},
   "outputs": [
    {
     "name": "stdout",
     "output_type": "stream",
     "text": [
      "Hello\n",
      "Hello\n",
      "Hello\n",
      "Hello\n",
      "Hello\n"
     ]
    }
   ],
   "source": [
    "# 특정 횟수만큼 반복문 실행\n",
    "i = 1\n",
    "while i<=5:\n",
    "    print(\"Hello\")\n",
    "    i += 1"
   ]
  },
  {
   "cell_type": "code",
   "execution_count": 43,
   "id": "eaaacecd-d018-4c6e-892d-ec130c21c877",
   "metadata": {},
   "outputs": [
    {
     "name": "stdout",
     "output_type": "stream",
     "text": [
      "0 python\n",
      "1 java\n",
      "2 python\n",
      "3 java\n",
      "4 python\n",
      "5 java\n",
      "6 python\n",
      "7 java\n",
      "8 python\n",
      "9 java\n"
     ]
    }
   ],
   "source": [
    "# for문과 if문 함꼐 사용\n",
    "# 짝수일 때 python을, 홀수일 때 java를 출력\n",
    "for i in range(0, 10):\n",
    "    if i % 2 == 0:\n",
    "        print(i, \"python\")\n",
    "    else:\n",
    "        print(i, \"java\")"
   ]
  },
  {
   "cell_type": "code",
   "execution_count": 44,
   "id": "99bd876c-1ef7-4a9d-9664-64b7aeaf766d",
   "metadata": {},
   "outputs": [
    {
     "name": "stdout",
     "output_type": "stream",
     "text": [
      "0 python\n",
      "1 java\n",
      "2 c\n"
     ]
    }
   ],
   "source": [
    "# enumerate를 사용해 인덱스와 원소를 함께 가져오기\n",
    "for i, val in enumerate(lang):\n",
    "    print(i, val)"
   ]
  },
  {
   "cell_type": "markdown",
   "id": "6cf2c93f-3f56-4124-ba90-b0fa91062a30",
   "metadata": {},
   "source": [
    "# 문자열"
   ]
  },
  {
   "cell_type": "code",
   "execution_count": 47,
   "id": "0182f997-3231-4b75-906b-1d0e47b52549",
   "metadata": {},
   "outputs": [
    {
     "data": {
      "text/plain": [
       "' 경기도 성남시 분당구 불정로 6 NAVER 그린팩토리 16층 '"
      ]
     },
     "execution_count": 47,
     "metadata": {},
     "output_type": "execute_result"
    }
   ],
   "source": [
    "# 변수 address에 주소 담기\n",
    "address = \" 경기도 성남시 분당구 불정로 6 NAVER 그린팩토리 16층 \"\n",
    "address"
   ]
  },
  {
   "cell_type": "code",
   "execution_count": 51,
   "id": "2ace3733-e775-4587-80b2-7a61aa876828",
   "metadata": {},
   "outputs": [
    {
     "data": {
      "text/plain": [
       "'경기도 성남시 분당구 불정로 6 NAVER 그린팩토리 16층'"
      ]
     },
     "execution_count": 51,
     "metadata": {},
     "output_type": "execute_result"
    }
   ],
   "source": [
    "# 앞뒤 공백 제거\n",
    "# 데이터 전처리 시 주로 사용\n",
    "address = address.strip()\n",
    "address"
   ]
  },
  {
   "cell_type": "code",
   "execution_count": 52,
   "id": "410d57b2-021c-4ece-b371-67e9fbf6b401",
   "metadata": {},
   "outputs": [
    {
     "data": {
      "text/plain": [
       "33"
      ]
     },
     "execution_count": 52,
     "metadata": {},
     "output_type": "execute_result"
    }
   ],
   "source": [
    "# 문자열의 길이\n",
    "len(address)"
   ]
  },
  {
   "cell_type": "code",
   "execution_count": 55,
   "id": "802d1c0a-2005-424e-bbbb-ae2a893ddeb5",
   "metadata": {},
   "outputs": [
    {
     "data": {
      "text/plain": [
       "['경기도', '성남시', '분당구', '불정로', '6', 'NAVER', '그린팩토리', '16층']"
      ]
     },
     "execution_count": 55,
     "metadata": {},
     "output_type": "execute_result"
    }
   ],
   "source": [
    "# 공백으로 문자열 분리\n",
    "address_list = address.split()\n",
    "address_list"
   ]
  },
  {
   "cell_type": "code",
   "execution_count": 56,
   "id": "eedea9ae-bad3-4f0a-9419-0fa0d8c998d7",
   "metadata": {},
   "outputs": [
    {
     "data": {
      "text/plain": [
       "8"
      ]
     },
     "execution_count": 56,
     "metadata": {},
     "output_type": "execute_result"
    }
   ],
   "source": [
    "# 리스트의 길이\n",
    "len(address_list)"
   ]
  },
  {
   "cell_type": "markdown",
   "id": "b01e7737-70a7-4c98-9abd-6c33f679d786",
   "metadata": {},
   "source": [
    "- 슬라이싱, startswith, in 을 통해 문자열에 경기가 있는지 확인하기"
   ]
  },
  {
   "cell_type": "code",
   "execution_count": 57,
   "id": "ad47800c-7739-4b9e-b7d4-1bc1d08d3ade",
   "metadata": {},
   "outputs": [
    {
     "data": {
      "text/plain": [
       "'경기'"
      ]
     },
     "execution_count": 57,
     "metadata": {},
     "output_type": "execute_result"
    }
   ],
   "source": [
    "# 슬라이싱\n",
    "address[:2]"
   ]
  },
  {
   "cell_type": "code",
   "execution_count": 60,
   "id": "5ee1cd5b-6387-4437-8f31-aea6c6295c1f",
   "metadata": {},
   "outputs": [
    {
     "data": {
      "text/plain": [
       "True"
      ]
     },
     "execution_count": 60,
     "metadata": {},
     "output_type": "execute_result"
    }
   ],
   "source": [
    "# startswith으로 특장 문자 포함 여부 확인\n",
    "address.startswith(\"경기\")"
   ]
  },
  {
   "cell_type": "code",
   "execution_count": 61,
   "id": "a6adeddb-cb35-4091-b860-db9b24ee15a5",
   "metadata": {},
   "outputs": [
    {
     "data": {
      "text/plain": [
       "True"
      ]
     },
     "execution_count": 61,
     "metadata": {},
     "output_type": "execute_result"
    }
   ],
   "source": [
    "# in으로 특정 문자 포함 여부 확인\n",
    "\"경기\" in address"
   ]
  },
  {
   "cell_type": "markdown",
   "id": "17d8f8cd-5029-4a98-bb6a-c1035b5fab12",
   "metadata": {},
   "source": [
    "# 리스트\n",
    "- 문자열에서 쓰는 방법과 비슷하게 메소드 등을 사용할 수 있습니다.\n",
    "- 차이를 비교해 보세요."
   ]
  },
  {
   "cell_type": "code",
   "execution_count": 66,
   "id": "232815d5-5976-456d-a70e-0d10b8d1eb90",
   "metadata": {},
   "outputs": [
    {
     "data": {
      "text/plain": [
       "'분당구'"
      ]
     },
     "execution_count": 66,
     "metadata": {},
     "output_type": "execute_result"
    }
   ],
   "source": [
    "# 인덱싱으로 리스트의 원소 가져오기\n",
    "# 주소에서 구를 가져와 gu 변수에 담기\n",
    "gu = address_list[2]\n",
    "gu"
   ]
  },
  {
   "cell_type": "code",
   "execution_count": 67,
   "id": "05e680f6-0976-46ea-ae14-87fe0872aaa8",
   "metadata": {},
   "outputs": [
    {
     "data": {
      "text/plain": [
       "'불정로'"
      ]
     },
     "execution_count": 67,
     "metadata": {},
     "output_type": "execute_result"
    }
   ],
   "source": [
    "# 인덱싱으로 리스트의 원소 가져오기\n",
    "# 주소에서 도로명을 가져와 street 변수에 담기\n",
    "street = address_list[3]\n",
    "street"
   ]
  },
  {
   "cell_type": "code",
   "execution_count": 69,
   "id": "54a3679a-7114-4c86-829a-c9d4549ad3ca",
   "metadata": {},
   "outputs": [
    {
     "data": {
      "text/plain": [
       "'16층'"
      ]
     },
     "execution_count": 69,
     "metadata": {},
     "output_type": "execute_result"
    }
   ],
   "source": [
    "# 리스트의 마지막을 가져오기\n",
    "address_list[-1]"
   ]
  },
  {
   "cell_type": "code",
   "execution_count": 72,
   "id": "3cb81105-a41a-4213-bd3d-613d24a1aad6",
   "metadata": {},
   "outputs": [
    {
     "name": "stdout",
     "output_type": "stream",
     "text": [
      "['경기도', '성남시', '분당구', '불정로', '6', 'NAVER', '그린팩토리', '16층']\n",
      "경기도성남시분당구불정로6NAVER그린팩토리16층\n",
      "경기도 성남시 분당구 불정로 6 NAVER 그린팩토리 16층\n",
      "경기도_성남시_분당구_불정로_6_NAVER_그린팩토리_16층\n",
      "경기도-성남시-분당구-불정로-6-NAVER-그린팩토리-16층\n",
      "경기도ㅋㅋ성남시ㅋㅋ분당구ㅋㅋ불정로ㅋㅋ6ㅋㅋNAVERㅋㅋ그린팩토리ㅋㅋ16층\n"
     ]
    }
   ],
   "source": [
    "# \" \".join(리스트)를 사용해 공백 문자열 연결\n",
    "# 리스트로 분리된 문자열을 다시 연결\n",
    "print(address_list)\n",
    "print(\"\".join(address_list))\n",
    "print(\" \".join(address_list))\n",
    "print(\"_\".join(address_list))\n",
    "print(\"-\".join(address_list))\n",
    "print(\"ㅋㅋ\".join(address_list))"
   ]
  },
  {
   "cell_type": "code",
   "execution_count": 75,
   "id": "9ddb2ebe-626b-401f-b6c7-9f559ab684fd",
   "metadata": {},
   "outputs": [
    {
     "data": {
      "text/plain": [
       "False"
      ]
     },
     "execution_count": 75,
     "metadata": {},
     "output_type": "execute_result"
    }
   ],
   "source": [
    "# in으로 리스트에 해당 원소가 포함되는지 확인\n",
    "# \"경기\"가 포함되는지 확인\n",
    "\"경기\" in address_list"
   ]
  },
  {
   "cell_type": "code",
   "execution_count": 76,
   "id": "ee3242b4-8f1c-4047-8385-8efc04e9587d",
   "metadata": {},
   "outputs": [
    {
     "data": {
      "text/plain": [
       "True"
      ]
     },
     "execution_count": 76,
     "metadata": {},
     "output_type": "execute_result"
    }
   ],
   "source": [
    "# in으로 리스트에 해당 원소가 포함되는지 확인\n",
    "# \"경기도\"가 포함되는지 확인\n",
    "\"경기도\" in address_list"
   ]
  },
  {
   "cell_type": "code",
   "execution_count": 74,
   "id": "809d902e-5cb6-483d-93ba-2750dcab1967",
   "metadata": {},
   "outputs": [
    {
     "data": {
      "text/plain": [
       "True"
      ]
     },
     "execution_count": 74,
     "metadata": {},
     "output_type": "execute_result"
    }
   ],
   "source": [
    "# in으로 리스트에 해당 원소가 포함되는지 확인\n",
    "# \"분당구\"가 포함되는지 확인\n",
    "\"분당구\" in address_list"
   ]
  },
  {
   "cell_type": "code",
   "execution_count": null,
   "id": "1ba07cee-f806-4171-9bb7-8dae8c0c1c02",
   "metadata": {},
   "outputs": [],
   "source": []
  }
 ],
 "metadata": {
  "kernelspec": {
   "display_name": "Python 3 (ipykernel)",
   "language": "python",
   "name": "python3"
  },
  "language_info": {
   "codemirror_mode": {
    "name": "ipython",
    "version": 3
   },
   "file_extension": ".py",
   "mimetype": "text/x-python",
   "name": "python",
   "nbconvert_exporter": "python",
   "pygments_lexer": "ipython3",
   "version": "3.11.7"
  }
 },
 "nbformat": 4,
 "nbformat_minor": 5
}
