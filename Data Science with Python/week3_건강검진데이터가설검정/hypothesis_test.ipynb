{
  "nbformat": 4,
  "nbformat_minor": 0,
  "metadata": {
    "colab": {
      "provenance": []
    },
    "kernelspec": {
      "name": "python3",
      "display_name": "Python 3"
    },
    "language_info": {
      "name": "python"
    }
  },
  "cells": [
    {
      "cell_type": "markdown",
      "source": [
        "# 가설 세우기\n",
        "1. 음주 여부에 따라 건강검진 수치 차이가 있을까?\n",
        "2. 신장과 허리둘레의 크기는 체중과 상관관계가 있을까?\n",
        "\n",
        "- 분석을 통해 가설을 검정해 봅시다."
      ],
      "metadata": {
        "id": "0aJnD5ggHzVL"
      }
    },
    {
      "cell_type": "markdown",
      "source": [
        "# 라이브러리 로드"
      ],
      "metadata": {
        "id": "OUy4MHzJIB7_"
      }
    },
    {
      "cell_type": "code",
      "execution_count": null,
      "metadata": {
        "id": "9zme9VYDFWLx"
      },
      "outputs": [],
      "source": []
    },
    {
      "cell_type": "markdown",
      "source": [
        "# 한글폰트 설정"
      ],
      "metadata": {
        "id": "IrMaJhliIDVK"
      }
    },
    {
      "cell_type": "code",
      "source": [],
      "metadata": {
        "id": "vyKsQyxlIHcT"
      },
      "execution_count": null,
      "outputs": []
    },
    {
      "cell_type": "markdown",
      "source": [
        "# 데이터 불러오기"
      ],
      "metadata": {
        "id": "1kSN8I2RIFLf"
      }
    },
    {
      "cell_type": "code",
      "source": [],
      "metadata": {
        "id": "TXSKJR_bIHLX"
      },
      "execution_count": null,
      "outputs": []
    }
  ]
}