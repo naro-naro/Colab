{
  "nbformat": 4,
  "nbformat_minor": 0,
  "metadata": {
    "colab": {
      "provenance": [],
      "authorship_tag": "ABX9TyOm/SiCXcFXJl8CygZQCfLQ",
      "include_colab_link": true
    },
    "kernelspec": {
      "name": "python3",
      "display_name": "Python 3"
    },
    "language_info": {
      "name": "python"
    }
  },
  "cells": [
    {
      "cell_type": "markdown",
      "metadata": {
        "id": "view-in-github",
        "colab_type": "text"
      },
      "source": [
        "<a href=\"https://colab.research.google.com/github/naro-naro/Colab/blob/main/assignment1.ipynb\" target=\"_parent\"><img src=\"https://colab.research.google.com/assets/colab-badge.svg\" alt=\"Open In Colab\"/></a>"
      ]
    },
    {
      "cell_type": "code",
      "execution_count": null,
      "metadata": {
        "id": "9BKo9hShul_w"
      },
      "outputs": [],
      "source": [
        "# 연습문제 4\n",
        "month = int(input('월 입력: '))\n",
        "if month<3 and month>11:\n",
        "    print('{}월은 겨울'.format(month))\n",
        "elif month<12 and month>8:\n",
        "    print('{}월은 가을'.format(month))\n",
        "elif month<9 and month>5:\n",
        "    print('{}월은 여름'.format(month))\n",
        "elif month<6 and month>2:\n",
        "    print('{}월은 봄'.format(month))"
      ]
    },
    {
      "cell_type": "code",
      "source": [
        "# 연습문제 5\n",
        "score1 = int(input('1차 점수 입력: '))\n",
        "score2 = int(input('2차 점수 입력: '))\n",
        "mean = (score1+score2)/2\n",
        "if score1>=50 and score2>=50 and mean>=70:\n",
        "    print('합격')\n",
        "elif:\n",
        "    score1>=50 and score2>=50 and mean<70:\n",
        "    print('불합격 - 평균 미달')\n",
        "elif:\n",
        "    (score1<50 or score2<50) and mean>=70:\n",
        "    print('불합격 - 과락')"
      ],
      "metadata": {
        "id": "8kVtcHAiuveI"
      },
      "execution_count": null,
      "outputs": []
    },
    {
      "cell_type": "code",
      "source": [
        "# 연습문제 6\n",
        "import random\n",
        "\n",
        "for i in range(30):\n",
        "    x=random.random()\n",
        "answer = int(input('숫자 입력(종료0): '))\n",
        "\n",
        "while answer != x:\n",
        "    if answer<x:\n",
        "        print('더 큰 숫자 입력!')\n",
        "    elif answer>x:\n",
        "        print('더 작은 숫자 입력!')\n",
        "    elif answer==x:\n",
        "        print('정답!!')\n",
        "    elif answer==0:\n",
        "        break\n"
      ],
      "metadata": {
        "id": "_kDCipu-uv5w"
      },
      "execution_count": null,
      "outputs": []
    }
  ]
}