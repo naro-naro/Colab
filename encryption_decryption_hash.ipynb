{
  "nbformat": 4,
  "nbformat_minor": 0,
  "metadata": {
    "colab": {
      "provenance": [],
      "authorship_tag": "ABX9TyP3wlL9Q4GVRv0O+a22i1Uh",
      "include_colab_link": true
    },
    "kernelspec": {
      "name": "python3",
      "display_name": "Python 3"
    },
    "language_info": {
      "name": "python"
    }
  },
  "cells": [
    {
      "cell_type": "markdown",
      "metadata": {
        "id": "view-in-github",
        "colab_type": "text"
      },
      "source": [
        "<a href=\"https://colab.research.google.com/github/naro-naro/Colab/blob/main/encryption_decryption_hash.ipynb\" target=\"_parent\"><img src=\"https://colab.research.google.com/assets/colab-badge.svg\" alt=\"Open In Colab\"/></a>"
      ]
    },
    {
      "cell_type": "markdown",
      "source": [
        "# 문제1 AES 암복호화 프로그램"
      ],
      "metadata": {
        "id": "ssY5AxymdYqP"
      }
    },
    {
      "cell_type": "code",
      "execution_count": null,
      "metadata": {
        "colab": {
          "base_uri": "https://localhost:8080/"
        },
        "id": "mDC7b-goUtiX",
        "outputId": "bab1f1b5-e754-4367-afaf-e3b71e72076b"
      },
      "outputs": [
        {
          "output_type": "stream",
          "name": "stdout",
          "text": [
            "Collecting cryptocode\n",
            "  Downloading cryptocode-0.1-py3-none-any.whl (4.1 kB)\n",
            "Collecting pycryptodomex (from cryptocode)\n",
            "  Downloading pycryptodomex-3.19.0-cp35-abi3-manylinux_2_17_x86_64.manylinux2014_x86_64.whl (2.1 MB)\n",
            "\u001b[2K     \u001b[90m━━━━━━━━━━━━━━━━━━━━━━━━━━━━━━━━━━━━━━━━\u001b[0m \u001b[32m2.1/2.1 MB\u001b[0m \u001b[31m28.0 MB/s\u001b[0m eta \u001b[36m0:00:00\u001b[0m\n",
            "\u001b[?25hInstalling collected packages: pycryptodomex, cryptocode\n",
            "Successfully installed cryptocode-0.1 pycryptodomex-3.19.0\n"
          ]
        }
      ],
      "source": [
        "pip install cryptocode"
      ]
    },
    {
      "cell_type": "code",
      "source": [
        "import cryptocode"
      ],
      "metadata": {
        "id": "2n54qTRLW9W-"
      },
      "execution_count": null,
      "outputs": []
    },
    {
      "cell_type": "code",
      "source": [
        "key = 'hufs_2023_infosec_tue_9am'"
      ],
      "metadata": {
        "id": "6Ph96ZkhVS9_"
      },
      "execution_count": null,
      "outputs": []
    },
    {
      "cell_type": "code",
      "source": [
        "while True:\n",
        "    print(\"1. 암호화\")\n",
        "    print(\"2. 복호화\")\n",
        "    menu = int(input(\"메뉴를 선택하세요: \"))\n",
        "    if menu == 1:\n",
        "        text = input(\"문장: \")\n",
        "        text_encrypt = cryptocode.encrypt(text, key)\n",
        "        print(f\"암호화 : {text_encrypt}\")\n",
        "        print()\n",
        "    elif menu == 2:\n",
        "        text = input(\"문장: \")\n",
        "        text_decrypt = cryptocode.decrypt(text, key)\n",
        "        print(f\"복호화 : {text_decrypt}\")\n",
        "        print()\n",
        "    else :\n",
        "        break"
      ],
      "metadata": {
        "colab": {
          "base_uri": "https://localhost:8080/"
        },
        "id": "VRgWqOkBVXQR",
        "outputId": "54a0aba4-e60c-418b-e0b8-a074dcd14c14"
      },
      "execution_count": null,
      "outputs": [
        {
          "name": "stdout",
          "output_type": "stream",
          "text": [
            "1. 암호화\n",
            "2. 복호화\n",
            "메뉴를 선택하세요: 1\n",
            "문장: goodmorning\n",
            "암호화 : pouccukmpcPsmNs=*MpEw1hKxKkLweVIOJOI10A==*ygHZjPQsE90/LhuOJUG8tg==*W46TNM0hjRsvkCBdJFswHw==\n",
            "\n",
            "1. 암호화\n",
            "2. 복호화\n",
            "메뉴를 선택하세요: 2\n",
            "문장: pouccukmpcPsmNs=*MpEw1hKxKkLweVIOJOI10A==*ygHZjPQsE90/LhuOJUG8tg==*W46TNM0hjRsvkCBdJFswHw==\n",
            "복호화 : goodmorning\n",
            "\n",
            "1. 암호화\n",
            "2. 복호화\n",
            "메뉴를 선택하세요: 0\n"
          ]
        }
      ]
    },
    {
      "cell_type": "markdown",
      "source": [
        "# 문제2 해시를 이용한 파일 변조 확인"
      ],
      "metadata": {
        "id": "6-nkpttzdeXu"
      }
    },
    {
      "cell_type": "code",
      "source": [
        "from google.colab import drive\n",
        "drive.mount('/content/drive')"
      ],
      "metadata": {
        "colab": {
          "base_uri": "https://localhost:8080/"
        },
        "id": "2XWwn-Xfq5Bq",
        "outputId": "4f303abf-fe94-4fe9-a96a-84af5385e3b0"
      },
      "execution_count": null,
      "outputs": [
        {
          "output_type": "stream",
          "name": "stdout",
          "text": [
            "Mounted at /content/drive\n"
          ]
        }
      ]
    },
    {
      "cell_type": "code",
      "source": [
        "import hashlib"
      ],
      "metadata": {
        "id": "ieBoU3IBo3mK"
      },
      "execution_count": null,
      "outputs": []
    },
    {
      "cell_type": "code",
      "source": [
        "def hash_md5():\n",
        "    file_path = '/content/drive/MyDrive/Colab Notebooks/'\n",
        "    input_name = input(\"파일 이름을 입력하시오: \")\n",
        "    file_name = file_path + input_name\n",
        "    hashData = []\n",
        "\n",
        "    try:\n",
        "        f = open(file_name, 'rb')\n",
        "        data = f.read()\n",
        "    finally:\n",
        "        f.close()\n",
        "\n",
        "    hashData.insert(0, hashlib.md5(data).hexdigest())\n",
        "\n",
        "    print('파일의 해시 값(md5)은',hashData)\n",
        "\n",
        "hash_md5()"
      ],
      "metadata": {
        "colab": {
          "base_uri": "https://localhost:8080/"
        },
        "id": "9iUbG_e9dX6v",
        "outputId": "d98631e9-847f-44d8-ab1c-969b77263101"
      },
      "execution_count": null,
      "outputs": [
        {
          "output_type": "stream",
          "name": "stdout",
          "text": [
            "파일 이름을 입력하시오: python-3.12.0-embed-win32.zip\n",
            "파일의 해시 값(md5)은 ['c2047dc270c4936f9c64619bb193b721']\n"
          ]
        }
      ]
    }
  ]
}