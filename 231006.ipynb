{
  "nbformat": 4,
  "nbformat_minor": 0,
  "metadata": {
    "colab": {
      "provenance": [],
      "mount_file_id": "1bGeSLKgCLlpG-4Ieo8WKkZ6YjkgtG2l2",
      "authorship_tag": "ABX9TyMWvBGJAW7E/DYdtVFiYqpn",
      "include_colab_link": true
    },
    "kernelspec": {
      "name": "python3",
      "display_name": "Python 3"
    },
    "language_info": {
      "name": "python"
    }
  },
  "cells": [
    {
      "cell_type": "markdown",
      "metadata": {
        "id": "view-in-github",
        "colab_type": "text"
      },
      "source": [
        "<a href=\"https://colab.research.google.com/github/naro-naro/Colab/blob/main/231006.ipynb\" target=\"_parent\"><img src=\"https://colab.research.google.com/assets/colab-badge.svg\" alt=\"Open In Colab\"/></a>"
      ]
    },
    {
      "cell_type": "code",
      "source": [
        "# 연습문제 1번\n",
        "spot= ['을지로', '가로수길', '홍대', '대학로']\n",
        "select = spot[2:]\n",
        "print(select)"
      ],
      "metadata": {
        "colab": {
          "base_uri": "https://localhost:8080/"
        },
        "id": "sy1Y3jnxbwR6",
        "outputId": "7e2e3fed-0f2c-4df9-dfe9-ba2e561090fa"
      },
      "execution_count": null,
      "outputs": [
        {
          "output_type": "stream",
          "name": "stdout",
          "text": [
            "['홍대', '대학로']\n"
          ]
        }
      ]
    },
    {
      "cell_type": "code",
      "source": [
        "# 연습문제 2번\n",
        "person = {100:'yang', 200:'jang', 300:'oh'}\n",
        "print(list(person.keys()))\n",
        "print(list(person.values()))\n",
        "print(list(person.items()))\n",
        "print(person.get(200))\n",
        "del person[100]\n",
        "print(person)"
      ],
      "metadata": {
        "colab": {
          "base_uri": "https://localhost:8080/"
        },
        "id": "D6D-TI12b0H6",
        "outputId": "e80b4fe9-959d-45a4-ce63-d7fa94cf0a1a"
      },
      "execution_count": null,
      "outputs": [
        {
          "output_type": "stream",
          "name": "stdout",
          "text": [
            "[100, 200, 300]\n",
            "['yang', 'jang', 'oh']\n",
            "[(100, 'yang'), (200, 'jang'), (300, 'oh')]\n",
            "jang\n",
            "{200: 'jang', 300: 'oh'}\n"
          ]
        }
      ]
    },
    {
      "cell_type": "code",
      "source": [
        "# 연습문제 3번\n",
        "addr = {}\n",
        "\n",
        "addr['kim'] = '010-1111-1111'\n",
        "addr['lee'] = '010-2222-2222'\n",
        "addr['park'] = '010-3333-3333'\n",
        "addr['choi'] = '010-4444-4444'\n",
        "addr['jeong'] = '010-5555-5555'\n",
        "addr['kang'] = '010-6666-6666'\n",
        "\n",
        "print(addr)\n",
        "print()\n",
        "\n",
        "print(list(addr.keys()))\n",
        "name = input(\"연락처 검색: \")\n",
        "print(addr.get(name, 'Not found'))"
      ],
      "metadata": {
        "colab": {
          "base_uri": "https://localhost:8080/"
        },
        "id": "xmevuQr4b1H4",
        "outputId": "89c3d7a8-7f0a-422c-e2ce-2a412e0cb433"
      },
      "execution_count": null,
      "outputs": [
        {
          "output_type": "stream",
          "name": "stdout",
          "text": [
            "{'kim': '010-1111-1111', 'lee': '010-2222-2222', 'park': '010-3333-3333', 'choi': '010-4444-4444', 'jeong': '010-5555-5555', 'kang': '010-6666-6666'}\n",
            "\n",
            "['kim', 'lee', 'park', 'choi', 'jeong', 'kang']\n",
            "연락처 검색: kim\n",
            "010-1111-1111\n"
          ]
        }
      ]
    },
    {
      "cell_type": "code",
      "execution_count": null,
      "metadata": {
        "colab": {
          "base_uri": "https://localhost:8080/"
        },
        "id": "_v8jp8cyOTY2",
        "outputId": "379b662c-27f6-4ba4-a108-4a50d70eb0b9"
      },
      "outputs": [
        {
          "output_type": "stream",
          "name": "stdout",
          "text": [
            "{'hwang', 'lee', 'park', 'kim', 'choi'}\n",
            "{'park'}\n",
            "{'kim', 'hwang'}\n",
            "{'choi', 'lee'}\n",
            "{'kim', 'hwang', 'yang', 'park'}\n",
            "{'choi', 'park'}\n"
          ]
        }
      ],
      "source": [
        "# 연습문제 4번\n",
        "\n",
        "clubA = {'kim', 'park', 'hwang'}\n",
        "clubB = {'park', 'lee', 'choi'}\n",
        "clubC = clubA|clubB\n",
        "print(clubC)\n",
        "print(clubA&clubB)\n",
        "print(clubA-clubB)\n",
        "print(clubB-clubA)\n",
        "clubA.add('yang')\n",
        "clubB.remove('lee')\n",
        "print(clubA)\n",
        "print(clubB)"
      ]
    },
    {
      "cell_type": "code",
      "source": [
        "# 연습문제 5번\n",
        "vote = {'가평':0, '대성리':0, '남이섬':0, '청평':0}\n",
        "print(vote)\n",
        "print()\n",
        "\n",
        "print('Best MT spot')\n",
        "while True:\n",
        "    area = input('area: ')\n",
        "    if not area:\n",
        "        break\n",
        "    vote[area] = vote[area]+1\n",
        "print(vote)"
      ],
      "metadata": {
        "colab": {
          "base_uri": "https://localhost:8080/"
        },
        "id": "Sb38D32HhuMF",
        "outputId": "f4e5449f-95a7-466f-a145-98cfbf9668dd"
      },
      "execution_count": null,
      "outputs": [
        {
          "output_type": "stream",
          "name": "stdout",
          "text": [
            "{'가평': 0, '대성리': 0, '남이섬': 0, '청평': 0}\n",
            "\n",
            "Best MT spot\n",
            "area: 가평\n",
            "area: 가평\n",
            "area: 남이섬\n",
            "area: \n",
            "{'가평': 2, '대성리': 0, '남이섬': 1, '청평': 0}\n"
          ]
        }
      ]
    },
    {
      "cell_type": "code",
      "source": [
        "# 연습문제 6번\n",
        "food = ['apple', 'banana', 'chocolate', 'dessert', 'melon', 'grape']\n",
        "result = [x for x in food if len(x)==5]\n",
        "print(result)"
      ],
      "metadata": {
        "colab": {
          "base_uri": "https://localhost:8080/"
        },
        "id": "aXJou9MOiuht",
        "outputId": "9dc0739d-fb05-4af1-f179-2a546f6e5bb6"
      },
      "execution_count": null,
      "outputs": [
        {
          "output_type": "stream",
          "name": "stdout",
          "text": [
            "['apple', 'melon', 'grape']\n"
          ]
        }
      ]
    },
    {
      "cell_type": "markdown",
      "source": [
        "# 정규표현식\n",
        "* 패턴 매칭을 기반으로 특정 규칙을 갖는 문자열을 검색, 분리, 교체하는 기능\n",
        "* import re\n",
        "\n",
        "* re.match('패턴' '문자열') : 문자열 처음부터 매칭 문법\n",
        "* re.search('패턴', '문자열') : 문자열 일부분 매칭 문법\n",
        "\n",
        "* 찾는 문자열이 없으면 아무것도 반환하지 않는다"
      ],
      "metadata": {
        "id": "6V7NfT7QlWVd"
      }
    },
    {
      "cell_type": "code",
      "source": [
        "import re\n",
        "re.match(\"Hello\", \"Hello, world!\")\n",
        "# 실행결과 : <re.Match object; span=(0, 5), match='Hello'>\n",
        "\n",
        "re.match('Python','Hello, world!')\n",
        "# 실행결과 :"
      ],
      "metadata": {
        "id": "osmOoZ1OmH0M"
      },
      "execution_count": null,
      "outputs": []
    },
    {
      "cell_type": "markdown",
      "source": [
        "# 대표 메타문자\n",
        "* ^ 시작패턴표현\n",
        "* $ 종료시작패턴\n",
        "* [문자들] 문자들 중에 하나만 허용, 뭔하는 문자들의 집합 표현\n",
        "* [^문자들] [문자들]을 제외한 문자들의 집합 표현\n",
        "* | or연산(또는)\n",
        "* ? 앞 패턴이 없거나 하나만 허용\n",
        "* \\+ 앞 패턴이 하나 이상 존재하는 표현"
      ],
      "metadata": {
        "id": "rzKBp-V0njOL"
      }
    },
    {
      "cell_type": "code",
      "source": [
        "re.search(\"^Hello\", \"Hello, world!\")\n",
        "# 출력결과 : <re.Match object; span=(0, 5), match='Hello'>"
      ],
      "metadata": {
        "colab": {
          "base_uri": "https://localhost:8080/"
        },
        "id": "mdyb-G1Cog1Z",
        "outputId": "553f5bfc-7abf-4709-e84c-e9fe0f2f0b20"
      },
      "execution_count": null,
      "outputs": [
        {
          "output_type": "execute_result",
          "data": {
            "text/plain": [
              "<re.Match object; span=(0, 5), match='Hello'>"
            ]
          },
          "metadata": {},
          "execution_count": 38
        }
      ]
    },
    {
      "cell_type": "code",
      "source": [
        "re.search(\"world!$\", \"Hello, world!\")\n",
        "# 출력결과 : <re.Match object; span=(7, 13), match='world!'>"
      ],
      "metadata": {
        "colab": {
          "base_uri": "https://localhost:8080/"
        },
        "id": "zOymrsNYoolq",
        "outputId": "f5ad7975-222d-47c5-f3b1-65db92a52639"
      },
      "execution_count": null,
      "outputs": [
        {
          "output_type": "execute_result",
          "data": {
            "text/plain": [
              "<re.Match object; span=(7, 13), match='world!'>"
            ]
          },
          "metadata": {},
          "execution_count": 37
        }
      ]
    },
    {
      "cell_type": "markdown",
      "source": [
        "* [ ] 안에 범위를 넣음\n",
        "* 0~9 숫자범위\n",
        "* \\* 문자가 0개 이상 있는지\n",
        "* \\+ 문자가 1개 이상 있는지"
      ],
      "metadata": {
        "id": "ODG5LxO1pL9K"
      }
    },
    {
      "cell_type": "code",
      "source": [
        "re.match(\"[0~9]*\", \"1234\")\n",
        "re.match(\"[0~9]+\", \"1234\")\n",
        "re.match(\"[0~9]+\", \"abcd\")"
      ],
      "metadata": {
        "id": "Ca78zeeEpKlh"
      },
      "execution_count": null,
      "outputs": []
    },
    {
      "cell_type": "code",
      "source": [
        "re.match(\"a*b\", \"b\")\n",
        "re.match(\"a+b\", \"b\")\n",
        "re.match(\"a*b\", \"aab\")\n",
        "re.match(\"a+b\", \"aab\")"
      ],
      "metadata": {
        "colab": {
          "base_uri": "https://localhost:8080/"
        },
        "id": "qyBENrvUqYok",
        "outputId": "a13d1011-7ad2-4a4e-d8b2-61af1191f5d3"
      },
      "execution_count": null,
      "outputs": [
        {
          "output_type": "execute_result",
          "data": {
            "text/plain": [
              "<re.Match object; span=(0, 3), match='aab'>"
            ]
          },
          "metadata": {},
          "execution_count": 47
        }
      ]
    },
    {
      "cell_type": "code",
      "source": [
        "re.match(\"abc?d\", \"abd\")\n",
        "re.match(\"ab[0-9]?\", \"ab3c\")\n",
        "re.match(\"ab.d\", \"abxd\")"
      ],
      "metadata": {
        "colab": {
          "base_uri": "https://localhost:8080/"
        },
        "id": "rXBrqbg3ql-h",
        "outputId": "446cdac2-b525-41ca-ca5d-c39d7d1ce4d1"
      },
      "execution_count": null,
      "outputs": [
        {
          "output_type": "execute_result",
          "data": {
            "text/plain": [
              "<re.Match object; span=(0, 4), match='abxd'>"
            ]
          },
          "metadata": {},
          "execution_count": 49
        }
      ]
    },
    {
      "cell_type": "code",
      "source": [
        "re.match(\"h{3}\", \"hhhello\")\n",
        "re.match(\"(hello){3}\", \"hellohellohelloworld\")"
      ],
      "metadata": {
        "colab": {
          "base_uri": "https://localhost:8080/"
        },
        "id": "VjJbAs1Hq9Q0",
        "outputId": "35a8c75c-4c6a-445f-f1a3-52d6bb607bae"
      },
      "execution_count": null,
      "outputs": [
        {
          "output_type": "execute_result",
          "data": {
            "text/plain": [
              "<re.Match object; span=(0, 15), match='hellohellohello'>"
            ]
          },
          "metadata": {},
          "execution_count": 50
        }
      ]
    },
    {
      "cell_type": "code",
      "source": [
        "re.match(\"[0-9]{3}-[0-9]{4}-[0-9]{4}\", \"010-1000-1000\")\n",
        "re.match(\"[0-9]{3}-[0-9]{4}-[0-9]{4}\", \"010-100-100\")"
      ],
      "metadata": {
        "id": "f9ApTJEGrDKi"
      },
      "execution_count": null,
      "outputs": []
    },
    {
      "cell_type": "code",
      "source": [
        "re.match(\"[0-9]{2,3}-[0-9]{3,4}-[0-9]{4}\", \"02-100-1000\")\n",
        "re.match(\"[0-9]{2,3}-[0-9]{3,4}-[0-9]{4}\", \"02-10-1000\")"
      ],
      "metadata": {
        "id": "Vh8D2z_9rNoQ"
      },
      "execution_count": null,
      "outputs": []
    },
    {
      "cell_type": "code",
      "source": [
        "re.match(\"[a-zA-Z0-9]+\", \"Hello1234\")\n",
        "re.match(\"[A-Z0-9]+\", \"hello\")"
      ],
      "metadata": {
        "id": "YCbcdzfPremo"
      },
      "execution_count": null,
      "outputs": []
    },
    {
      "cell_type": "code",
      "source": [
        "re.match(\"[가-힣]+\", \"홍길동\")"
      ],
      "metadata": {
        "colab": {
          "base_uri": "https://localhost:8080/"
        },
        "id": "508Ca4kmr-6Z",
        "outputId": "c650bafa-321f-473d-ffcb-37ec229c8dd4"
      },
      "execution_count": null,
      "outputs": [
        {
          "output_type": "execute_result",
          "data": {
            "text/plain": [
              "<re.Match object; span=(0, 3), match='홍길동'>"
            ]
          },
          "metadata": {},
          "execution_count": 54
        }
      ]
    },
    {
      "cell_type": "code",
      "source": [
        "re.match(\"[^A-Z]+\", \"Hello\")\n",
        "re.match(\"[^A-Z]+\", \"hello\")"
      ],
      "metadata": {
        "colab": {
          "base_uri": "https://localhost:8080/"
        },
        "id": "XiLTJgFgsEBo",
        "outputId": "8a26ab92-4dc9-4696-93ee-f30a2f2a81cc"
      },
      "execution_count": null,
      "outputs": [
        {
          "output_type": "execute_result",
          "data": {
            "text/plain": [
              "<re.Match object; span=(0, 5), match='hello'>"
            ]
          },
          "metadata": {},
          "execution_count": 58
        }
      ]
    },
    {
      "cell_type": "code",
      "source": [
        "re.search(\"^[A-Z]+\", \"Hello\")\n",
        "re.search(\"[0-9]+$\", \"Hello1234\")"
      ],
      "metadata": {
        "colab": {
          "base_uri": "https://localhost:8080/"
        },
        "id": "3mMCykg9sP5L",
        "outputId": "6c335af3-e489-4276-8159-43935fed0c37"
      },
      "execution_count": null,
      "outputs": [
        {
          "output_type": "execute_result",
          "data": {
            "text/plain": [
              "<re.Match object; span=(5, 9), match='1234'>"
            ]
          },
          "metadata": {},
          "execution_count": 57
        }
      ]
    },
    {
      "cell_type": "code",
      "source": [
        "re.search(\"\\*+\", \"1**2\")\n",
        "re.match(\"[$()a-zA-Z0-9]+\", \"$(document)\")"
      ],
      "metadata": {
        "colab": {
          "base_uri": "https://localhost:8080/"
        },
        "id": "Ek6uhvR4siSQ",
        "outputId": "6260a3b8-38bd-440f-c056-54df43ac22e2"
      },
      "execution_count": null,
      "outputs": [
        {
          "output_type": "execute_result",
          "data": {
            "text/plain": [
              "<re.Match object; span=(0, 11), match='$(document)'>"
            ]
          },
          "metadata": {},
          "execution_count": 59
        }
      ]
    },
    {
      "cell_type": "code",
      "source": [
        "# 3장 연습문제 7번\n",
        "import re\n",
        "\n",
        "p = re.compile('^[a-zA-Z0-9+-_.]+@[a-zA-Z0-9+-_.]+.[a-zA-Z0-9+-_.]+$')\n",
        "emails = ['py@mail.exam.com', 'sky@exam.info', '@exam.com']\n",
        "for email in emails:\n",
        "    print(p.match(email) != None, end=\" \")"
      ],
      "metadata": {
        "colab": {
          "base_uri": "https://localhost:8080/"
        },
        "id": "2KWJ5NDJlCWN",
        "outputId": "56c53f50-5abd-4741-be98-b1e6d71fcfd3"
      },
      "execution_count": null,
      "outputs": [
        {
          "output_type": "stream",
          "name": "stdout",
          "text": [
            "True True False "
          ]
        }
      ]
    },
    {
      "cell_type": "markdown",
      "source": [
        "# 파일 입출력\n",
        "\n",
        "* open() : 파일 열기\n",
        "* read() , readline() , readlines() : 읽기\n",
        "* write() , writelines() : 쓰기\n",
        "* close() : 파일 닫기"
      ],
      "metadata": {
        "id": "qzgf-RyXwdKX"
      }
    },
    {
      "cell_type": "code",
      "source": [
        "dir = '/content/drive/MyDrive/Colab Notebooks/2023-2 언분프/1006실습/name.txt'\n",
        "\n",
        "f=open(dir, 'r',encoding='cp949')\n",
        "data = f.read()\n",
        "print(data)\n",
        "f.close()"
      ],
      "metadata": {
        "colab": {
          "base_uri": "https://localhost:8080/"
        },
        "id": "8BB4WHWcx_KI",
        "outputId": "d5d3229d-79f0-4438-bcd3-819f7ca24b22"
      },
      "execution_count": null,
      "outputs": [
        {
          "output_type": "stream",
          "name": "stdout",
          "text": [
            "홍길동\n",
            "홍이동\n",
            "홍삼동\n"
          ]
        }
      ]
    }
  ]
}