{
  "nbformat": 4,
  "nbformat_minor": 0,
  "metadata": {
    "colab": {
      "provenance": [],
      "authorship_tag": "ABX9TyPkFUwzOR3uKVdOi1yh30/T",
      "include_colab_link": true
    },
    "kernelspec": {
      "name": "python3",
      "display_name": "Python 3"
    },
    "language_info": {
      "name": "python"
    }
  },
  "cells": [
    {
      "cell_type": "markdown",
      "metadata": {
        "id": "view-in-github",
        "colab_type": "text"
      },
      "source": [
        "<a href=\"https://colab.research.google.com/github/naro-naro/Colab/blob/main/230908.ipynb\" target=\"_parent\"><img src=\"https://colab.research.google.com/assets/colab-badge.svg\" alt=\"Open In Colab\"/></a>"
      ]
    },
    {
      "cell_type": "markdown",
      "source": [
        "# 변수란 무엇인가? - 값을 저장할 수 있는 상자\n",
        "# 변수명, 식별자규칙?\n",
        "* 첫글자가 숫자 (X)\n",
        "* 첫글자가 특수기호(X), 단, 밑줄(_)만 가능\n",
        "* 예약어 사용? (X)\n",
        "* 영문자 대,소구별 (O)\n",
        "* 의미전달이 가능한 길이의 변수명\n",
        "\n"
      ],
      "metadata": {
        "id": "X3IKupgTRRj4"
      }
    },
    {
      "cell_type": "code",
      "source": [
        "a = 10\n",
        "b = 3\n",
        "hap = a+b\n",
        "print(hap)\n",
        "b = 5\n",
        "print(hap)\n",
        "print(b)"
      ],
      "metadata": {
        "colab": {
          "base_uri": "https://localhost:8080/"
        },
        "id": "8N-xsIsLRBOQ",
        "outputId": "50a7691a-464f-45da-bbc3-1e56997e7b75"
      },
      "execution_count": null,
      "outputs": [
        {
          "output_type": "stream",
          "name": "stdout",
          "text": [
            "13\n",
            "13\n",
            "5\n"
          ]
        }
      ]
    },
    {
      "cell_type": "code",
      "source": [
        "hap = num+b\n",
        "print(hap)\n",
        "# num을 정의하지 않음"
      ],
      "metadata": {
        "colab": {
          "base_uri": "https://localhost:8080/",
          "height": 203
        },
        "id": "-AudiYCcWcMi",
        "outputId": "3a43990a-f84b-4d06-a9c9-9024ee349529"
      },
      "execution_count": null,
      "outputs": [
        {
          "output_type": "error",
          "ename": "NameError",
          "evalue": "ignored",
          "traceback": [
            "\u001b[0;31m---------------------------------------------------------------------------\u001b[0m",
            "\u001b[0;31mNameError\u001b[0m                                 Traceback (most recent call last)",
            "\u001b[0;32m<ipython-input-6-31ba125b3d7b>\u001b[0m in \u001b[0;36m<cell line: 1>\u001b[0;34m()\u001b[0m\n\u001b[0;32m----> 1\u001b[0;31m \u001b[0mhap\u001b[0m \u001b[0;34m=\u001b[0m \u001b[0mnum\u001b[0m\u001b[0;34m+\u001b[0m\u001b[0mb\u001b[0m\u001b[0;34m\u001b[0m\u001b[0;34m\u001b[0m\u001b[0m\n\u001b[0m\u001b[1;32m      2\u001b[0m \u001b[0mprint\u001b[0m\u001b[0;34m(\u001b[0m\u001b[0mhap\u001b[0m\u001b[0;34m)\u001b[0m\u001b[0;34m\u001b[0m\u001b[0;34m\u001b[0m\u001b[0m\n",
            "\u001b[0;31mNameError\u001b[0m: name 'num' is not defined"
          ]
        }
      ]
    },
    {
      "cell_type": "code",
      "source": [
        "num =input('숫자입력: ')\n",
        "hap = num+b # 왜 오류? input으로 입력받은 숫자는 문자열이므로 문자열+정수형의 덧셈연산 불가\n",
        "print(hap)"
      ],
      "metadata": {
        "colab": {
          "base_uri": "https://localhost:8080/",
          "height": 239
        },
        "id": "rYQHhre7WoPY",
        "outputId": "60b5c46a-cb4b-4e98-a652-0efdb245c639"
      },
      "execution_count": null,
      "outputs": [
        {
          "name": "stdout",
          "output_type": "stream",
          "text": [
            "숫자입력: 3\n"
          ]
        },
        {
          "output_type": "error",
          "ename": "TypeError",
          "evalue": "ignored",
          "traceback": [
            "\u001b[0;31m---------------------------------------------------------------------------\u001b[0m",
            "\u001b[0;31mTypeError\u001b[0m                                 Traceback (most recent call last)",
            "\u001b[0;32m<ipython-input-7-a5ad3582c090>\u001b[0m in \u001b[0;36m<cell line: 2>\u001b[0;34m()\u001b[0m\n\u001b[1;32m      1\u001b[0m \u001b[0mnum\u001b[0m \u001b[0;34m=\u001b[0m\u001b[0minput\u001b[0m\u001b[0;34m(\u001b[0m\u001b[0;34m'숫자입력: '\u001b[0m\u001b[0;34m)\u001b[0m\u001b[0;34m\u001b[0m\u001b[0;34m\u001b[0m\u001b[0m\n\u001b[0;32m----> 2\u001b[0;31m \u001b[0mhap\u001b[0m \u001b[0;34m=\u001b[0m \u001b[0mnum\u001b[0m\u001b[0;34m+\u001b[0m\u001b[0mb\u001b[0m\u001b[0;34m\u001b[0m\u001b[0;34m\u001b[0m\u001b[0m\n\u001b[0m\u001b[1;32m      3\u001b[0m \u001b[0mprint\u001b[0m\u001b[0;34m(\u001b[0m\u001b[0mhap\u001b[0m\u001b[0;34m)\u001b[0m\u001b[0;34m\u001b[0m\u001b[0;34m\u001b[0m\u001b[0m\n",
            "\u001b[0;31mTypeError\u001b[0m: can only concatenate str (not \"int\") to str"
          ]
        }
      ]
    },
    {
      "cell_type": "markdown",
      "source": [
        "# 파이썬 자료형\n",
        "* 문자열형(string, str)\n",
        "* 정수형(integer, int)\n",
        "* 실수형(float)\n",
        "* 불린형(bool), Ture, False"
      ],
      "metadata": {
        "id": "0wKo7rF0XLup"
      }
    },
    {
      "cell_type": "code",
      "source": [
        "num =int(input('숫자입력: '))\n",
        "hap = num+b\n",
        "print(hap)"
      ],
      "metadata": {
        "colab": {
          "base_uri": "https://localhost:8080/"
        },
        "id": "kmzICRumXCP7",
        "outputId": "54bf59df-0640-4bdd-8ac2-a57248f92dc6"
      },
      "execution_count": null,
      "outputs": [
        {
          "output_type": "stream",
          "name": "stdout",
          "text": [
            "숫자입력: 3\n",
            "8\n"
          ]
        }
      ]
    },
    {
      "cell_type": "code",
      "source": [
        "text = '3.14'\n",
        "print(type(text))"
      ],
      "metadata": {
        "colab": {
          "base_uri": "https://localhost:8080/"
        },
        "id": "HAXc7EUCXxzT",
        "outputId": "0e2d84bb-bfe2-49e2-e8e1-4af84a570aff"
      },
      "execution_count": null,
      "outputs": [
        {
          "output_type": "stream",
          "name": "stdout",
          "text": [
            "<class 'str'>\n"
          ]
        }
      ]
    },
    {
      "cell_type": "code",
      "source": [
        "text1='3'\n",
        "print(int(text1))"
      ],
      "metadata": {
        "colab": {
          "base_uri": "https://localhost:8080/"
        },
        "id": "Nq9czIPLYTMI",
        "outputId": "0801f681-4885-4e4c-8dd5-b20e8f44b5a1"
      },
      "execution_count": null,
      "outputs": [
        {
          "output_type": "stream",
          "name": "stdout",
          "text": [
            "3\n"
          ]
        }
      ]
    },
    {
      "cell_type": "code",
      "source": [
        "text = '3.14'\n",
        "# print(int(text)) # 왜 오류? 실수는 바로 정수로 바꿀 수 없다\n",
        "text2=float('3.14')\n",
        "print(int(text2))"
      ],
      "metadata": {
        "colab": {
          "base_uri": "https://localhost:8080/"
        },
        "id": "MVFjsoGNYAbQ",
        "outputId": "b827372a-83aa-4361-eb45-8438b131f35f"
      },
      "execution_count": null,
      "outputs": [
        {
          "output_type": "stream",
          "name": "stdout",
          "text": [
            "3\n"
          ]
        }
      ]
    },
    {
      "cell_type": "markdown",
      "source": [
        "# 산술연산자\n",
        "\n",
        " \\+ (덧셈, 같은 자료형을 연결)\n",
        "\n",
        " \\* (곱셈, 반복연산자)\n",
        "\n",
        " \\- (뺄셈)\n",
        "\n",
        " / (나눗셈, 실수형변환)\n",
        "\n",
        " // (몫 연산자, 정수형변환)\n",
        "\n",
        " % (나머지 연산자, 정수형)\n",
        "\n",
        " \\** (거듭제곱)"
      ],
      "metadata": {
        "id": "kInRODv7Y9Ah"
      }
    },
    {
      "cell_type": "code",
      "source": [
        "print('='*30)"
      ],
      "metadata": {
        "colab": {
          "base_uri": "https://localhost:8080/"
        },
        "id": "wZb_vkDcL0DD",
        "outputId": "21001dc1-ccf3-4fba-e20c-7b8889ead75b"
      },
      "execution_count": null,
      "outputs": [
        {
          "output_type": "stream",
          "name": "stdout",
          "text": [
            "==============================\n"
          ]
        }
      ]
    },
    {
      "cell_type": "code",
      "source": [
        "a = 10\n",
        "b = 5\n",
        "print(a/b)"
      ],
      "metadata": {
        "colab": {
          "base_uri": "https://localhost:8080/"
        },
        "id": "jNCiHNwnZdJh",
        "outputId": "f3eca098-f2dc-4e3d-e5ad-7797e5fdb2f2"
      },
      "execution_count": null,
      "outputs": [
        {
          "output_type": "stream",
          "name": "stdout",
          "text": [
            "2.0\n"
          ]
        }
      ]
    },
    {
      "cell_type": "code",
      "source": [
        "a,b = 10, 5\n",
        "print(a//b)"
      ],
      "metadata": {
        "colab": {
          "base_uri": "https://localhost:8080/"
        },
        "id": "Hhit5ueZZyQY",
        "outputId": "e949d3bf-1819-48e3-bd1b-d63f5b4f7d0c"
      },
      "execution_count": null,
      "outputs": [
        {
          "output_type": "stream",
          "name": "stdout",
          "text": [
            "2\n"
          ]
        }
      ]
    },
    {
      "cell_type": "code",
      "source": [
        "a,b = 10.0, 5 # 하나만 실수여도 결과가 실수\n",
        "print(a//b)"
      ],
      "metadata": {
        "colab": {
          "base_uri": "https://localhost:8080/"
        },
        "id": "0jCMI2z4Z6sp",
        "outputId": "bf010639-188a-4c4a-c70c-a7b722ddc3bb"
      },
      "execution_count": null,
      "outputs": [
        {
          "output_type": "stream",
          "name": "stdout",
          "text": [
            "2.0\n"
          ]
        }
      ]
    },
    {
      "cell_type": "code",
      "source": [
        "a,b,c = 10, 5, 3\n",
        "print(a%c)"
      ],
      "metadata": {
        "colab": {
          "base_uri": "https://localhost:8080/"
        },
        "id": "nK26OhcgaBaJ",
        "outputId": "193e5465-e173-4fe6-8ff3-2cdf80d98c66"
      },
      "execution_count": null,
      "outputs": [
        {
          "output_type": "stream",
          "name": "stdout",
          "text": [
            "1\n"
          ]
        }
      ]
    },
    {
      "cell_type": "code",
      "source": [
        "a,b,c = 10, 5, 3.0\n",
        "print(a%c)"
      ],
      "metadata": {
        "colab": {
          "base_uri": "https://localhost:8080/"
        },
        "id": "f36PqYEYaJoB",
        "outputId": "bafcb158-004e-42c8-96e5-8b59fd68d802"
      },
      "execution_count": null,
      "outputs": [
        {
          "output_type": "stream",
          "name": "stdout",
          "text": [
            "1.0\n"
          ]
        }
      ]
    },
    {
      "cell_type": "code",
      "source": [
        "a,b,c = 10, 5, 3.0\n",
        "print(c**2) # (3.0)**2 --> 9.0"
      ],
      "metadata": {
        "colab": {
          "base_uri": "https://localhost:8080/"
        },
        "id": "Bum5XiYgadZ7",
        "outputId": "6e0211f1-00c0-4017-d147-93965dfa6fde"
      },
      "execution_count": null,
      "outputs": [
        {
          "output_type": "stream",
          "name": "stdout",
          "text": [
            "9.0\n"
          ]
        }
      ]
    },
    {
      "cell_type": "code",
      "source": [
        "test = \"Hello~ \"\n",
        "print(test*30)"
      ],
      "metadata": {
        "colab": {
          "base_uri": "https://localhost:8080/"
        },
        "id": "c-UXHwypa_06",
        "outputId": "cd8e3002-6468-4166-dcc6-7bccb224fad5"
      },
      "execution_count": null,
      "outputs": [
        {
          "output_type": "stream",
          "name": "stdout",
          "text": [
            "Hello~ Hello~ Hello~ Hello~ Hello~ Hello~ Hello~ Hello~ Hello~ Hello~ Hello~ Hello~ Hello~ Hello~ Hello~ Hello~ Hello~ Hello~ Hello~ Hello~ Hello~ Hello~ Hello~ Hello~ Hello~ Hello~ Hello~ Hello~ Hello~ Hello~ \n"
          ]
        }
      ]
    },
    {
      "cell_type": "code",
      "source": [
        "# 내 호주머니에 23,760원이 있다. 잔돈으로 바꿨을 때 가장 적도록\n",
        "my_money = 23760\n",
        "\n",
        "my_5000 = my_money//5000\n",
        "after_5000 = my_money%5000\n",
        "\n",
        "my_1000 = after_5000//1000\n",
        "after_1000 = after_5000%1000\n",
        "\n",
        "my_500 = after_1000//500\n",
        "after_500 = after_1000%500\n",
        "\n",
        "my_100 = after_500//100\n",
        "after_100 = after_500%100\n",
        "\n",
        "my_50 = after_100//50\n",
        "after_50 = after_100%50\n",
        "\n",
        "my_10 = after_50//10\n",
        "\n",
        "print(my_5000, my_1000, my_500, my_100, my_50, my_10)"
      ],
      "metadata": {
        "colab": {
          "base_uri": "https://localhost:8080/"
        },
        "id": "VjWNdaGbdTb7",
        "outputId": "61b019d5-38e1-4db1-c31a-139fdec8d97f"
      },
      "execution_count": null,
      "outputs": [
        {
          "output_type": "stream",
          "name": "stdout",
          "text": [
            "4 3 1 2 1 1\n"
          ]
        }
      ]
    },
    {
      "cell_type": "code",
      "source": [
        "my_money = 23760\n",
        "for i in (5000,1000,500,100,50,10):\n",
        "    my_coin = my_money//i\n",
        "    print('{}원 : {}개'.format(i, my_coin))\n",
        "    my_money %= i"
      ],
      "metadata": {
        "colab": {
          "base_uri": "https://localhost:8080/"
        },
        "id": "Cvc9k5Gwjqbm",
        "outputId": "641bebef-68dd-4441-aff5-52842e7126f6"
      },
      "execution_count": null,
      "outputs": [
        {
          "output_type": "stream",
          "name": "stdout",
          "text": [
            "5000원 : 4개\n",
            "1000원 : 3개\n",
            "500원 : 1개\n",
            "100원 : 2개\n",
            "50원 : 1개\n",
            "10원 : 1개\n"
          ]
        }
      ]
    },
    {
      "cell_type": "markdown",
      "source": [
        "# 대입연산자\n",
        "\n",
        "* =\n",
        "\n",
        "* += (왼쪽 변수에 오른쪽 값을 더하고 결과를 왼쪽 변수에 할당)\n",
        "\n",
        "* -=\n",
        "\n",
        "* *=\n",
        "\n",
        "* /=\n",
        "\n",
        "\n",
        "\n",
        "# 비교연산자\n",
        "\n",
        "* == 같다\n",
        "\n",
        "* != 같지 않다\n",
        "\n",
        "*  |>\n",
        "\n",
        "* |>=, <\n",
        "\n",
        "* <=\n"
      ],
      "metadata": {
        "id": "GikOHsjgi1Ez"
      }
    },
    {
      "cell_type": "code",
      "source": [
        "age= int(input('나이를 입력하세요: '))\n",
        "if age>=20:\n",
        "        print('성인입니다.')\n",
        "else:\n",
        "        print('성인이 아닙니다.')\n",
        "print('이용해 주셔서 감사합니다.')"
      ],
      "metadata": {
        "colab": {
          "base_uri": "https://localhost:8080/"
        },
        "id": "JRHUGtLLiNJV",
        "outputId": "abd48131-6f81-4d74-ed47-780a5de60e45"
      },
      "execution_count": null,
      "outputs": [
        {
          "output_type": "stream",
          "name": "stdout",
          "text": [
            "나이를 입력하세요: 10\n",
            "성인이 아닙니다.\n",
            "이용해 주셔서 감사합니다.\n"
          ]
        }
      ]
    },
    {
      "cell_type": "markdown",
      "source": [
        "#논리연산자\n",
        "\n",
        "*and : 모두 참일 때 참\n",
        "\n",
        "*or : 하나만 참이면 참\n",
        "\n",
        "*not : 논리 상태 반전\n"
      ],
      "metadata": {
        "id": "Ze2dvW9XjeIT"
      }
    },
    {
      "cell_type": "code",
      "source": [
        "#키 155, 몸무게 45이상부터 탑승 가능한 놀이기구\n",
        "\n",
        "weight=int(input(\"몸무게를 입력하세요: \"))\n",
        "height=int(input(\"키를 입력하세요: \"))\n",
        "if weight>=45 and height>=155:\n",
        "    print(\"탑승가능!\")\n",
        "else:\n",
        "    print(\"탑승불가!!\")"
      ],
      "metadata": {
        "colab": {
          "base_uri": "https://localhost:8080/"
        },
        "id": "5dBwxBgMkEPE",
        "outputId": "473e2dd1-1d6a-4783-bd8c-ef039e1943fe"
      },
      "execution_count": null,
      "outputs": [
        {
          "output_type": "stream",
          "name": "stdout",
          "text": [
            "몸무게를 입력하세요: 50\n",
            "키를 입력하세요: 155\n",
            "탑승가능!\n"
          ]
        }
      ]
    },
    {
      "cell_type": "markdown",
      "source": [
        "#표준입출력\n",
        "\n",
        "#입력\n",
        "\n",
        "* input()로 입력받은 자료는 문자열로 저장된다\n",
        "\n",
        "* int, float 자료형 등을 이용해 변환 가능\n",
        "\n",
        "\n",
        "#출력\n",
        "\n",
        "* print() 함수\n",
        "\n",
        "* end옵션을 이용해 줄바꿈 제어 가능"
      ],
      "metadata": {
        "id": "GsdL3xKTl56F"
      }
    },
    {
      "cell_type": "code",
      "source": [
        "print(\"파이썬\",end=' ')\n",
        "print(\"짱\")"
      ],
      "metadata": {
        "colab": {
          "base_uri": "https://localhost:8080/"
        },
        "id": "RusHQbr7ljK0",
        "outputId": "e8247ff3-dfd4-4976-ad34-84129129a6fe"
      },
      "execution_count": null,
      "outputs": [
        {
          "output_type": "stream",
          "name": "stdout",
          "text": [
            "파이썬 짱\n"
          ]
        }
      ]
    },
    {
      "cell_type": "markdown",
      "source": [
        "#표준출력\n",
        "* %형식지정\n",
        "\n",
        "* format함수\n",
        "\n",
        "* f-string"
      ],
      "metadata": {
        "id": "bUKWmC9SnKkM"
      }
    },
    {
      "cell_type": "code",
      "source": [
        "a = int(input('첫번째 숫자 입력: '))\n",
        "b = int(input('두번째 숫자 입력: '))\n",
        "print('%d+%d=%d'%(a,b,a+b))"
      ],
      "metadata": {
        "colab": {
          "base_uri": "https://localhost:8080/"
        },
        "id": "wBqC_Dzbl3RU",
        "outputId": "0ec5e475-7643-46ee-c096-adcfee2d51f6"
      },
      "execution_count": null,
      "outputs": [
        {
          "output_type": "stream",
          "name": "stdout",
          "text": [
            "첫번째 숫자 입력: 3\n",
            "두번째 숫자 입력: 4\n",
            "3+4=7\n"
          ]
        }
      ]
    },
    {
      "cell_type": "code",
      "source": [
        "a = int(input('첫번째 숫자 입력: '))\n",
        "b = int(input('두번째 숫자 입력: '))\n",
        "print('%04d / %02d = %2.2f'%(a,b,a/b)) # 자릿수맞추기"
      ],
      "metadata": {
        "colab": {
          "base_uri": "https://localhost:8080/"
        },
        "id": "NfPKwO0yOc9c",
        "outputId": "e8be01e4-9072-4634-9554-e0b2a0ff2f66"
      },
      "execution_count": null,
      "outputs": [
        {
          "output_type": "stream",
          "name": "stdout",
          "text": [
            "첫번째 숫자 입력: 10\n",
            "두번째 숫자 입력: 3\n",
            "0010 / 03 = 3.33\n"
          ]
        }
      ]
    },
    {
      "cell_type": "code",
      "source": [
        "a = int(input('첫번째 숫자 입력: '))\n",
        "b = int(input('두번째 숫자 입력: '))\n",
        "print('{0}*{1}={2}'.format(a,b,a*b))"
      ],
      "metadata": {
        "colab": {
          "base_uri": "https://localhost:8080/"
        },
        "id": "gCSMBffSnnTl",
        "outputId": "51e4fcdd-1a02-45e1-a75a-6f160dceea35"
      },
      "execution_count": null,
      "outputs": [
        {
          "output_type": "stream",
          "name": "stdout",
          "text": [
            "첫번째 숫자 입력: 2\n",
            "두번째 숫자 입력: 3\n",
            "2*3=6\n"
          ]
        }
      ]
    },
    {
      "cell_type": "code",
      "source": [
        "print('{1} {1} 빛나는 {0}'.format('별','반짝'))"
      ],
      "metadata": {
        "colab": {
          "base_uri": "https://localhost:8080/"
        },
        "id": "Gi4LwAaYo3qF",
        "outputId": "a31030d4-feff-4d51-df5f-847cad5c05c1"
      },
      "execution_count": null,
      "outputs": [
        {
          "output_type": "stream",
          "name": "stdout",
          "text": [
            "반짝 반짝 빛나는 별\n"
          ]
        }
      ]
    },
    {
      "cell_type": "code",
      "source": [
        "a = int(input('첫번째 숫자 입력: '))\n",
        "b = int(input('두번째 숫자 입력: '))\n",
        "print(f'{a}-{b}={a-b}')"
      ],
      "metadata": {
        "colab": {
          "base_uri": "https://localhost:8080/"
        },
        "id": "i-qV4jwuoVu3",
        "outputId": "81541dc4-c613-484d-b926-f8e97a4a8ed1"
      },
      "execution_count": null,
      "outputs": [
        {
          "output_type": "stream",
          "name": "stdout",
          "text": [
            "첫번째 숫자 입력: 5\n",
            "두번째 숫자 입력: 3\n",
            "5-3=2\n"
          ]
        }
      ]
    }
  ]
}