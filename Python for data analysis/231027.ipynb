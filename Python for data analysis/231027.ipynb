{
  "nbformat": 4,
  "nbformat_minor": 0,
  "metadata": {
    "colab": {
      "provenance": [],
      "mount_file_id": "1Ir4fIFQ6sn0wVAEOFxLwiapFG1CClW1a",
      "authorship_tag": "ABX9TyMUW7gku2ZHA7neSEs3elh+",
      "include_colab_link": true
    },
    "kernelspec": {
      "name": "python3",
      "display_name": "Python 3"
    },
    "language_info": {
      "name": "python"
    }
  },
  "cells": [
    {
      "cell_type": "markdown",
      "metadata": {
        "id": "view-in-github",
        "colab_type": "text"
      },
      "source": [
        "<a href=\"https://colab.research.google.com/github/naro-naro/Colab/blob/main/231027.ipynb\" target=\"_parent\"><img src=\"https://colab.research.google.com/assets/colab-badge.svg\" alt=\"Open In Colab\"/></a>"
      ]
    },
    {
      "cell_type": "code",
      "execution_count": null,
      "metadata": {
        "colab": {
          "base_uri": "https://localhost:8080/"
        },
        "id": "lQKpIUcSae6f",
        "outputId": "58b3da4a-0184-4e25-979d-8053b5313e24"
      },
      "outputs": [
        {
          "output_type": "stream",
          "name": "stdout",
          "text": [
            "첫번째 숫자 입력: 20\n",
            "en번째 숫자 입력: 10\n",
            "[8, 6, 5, 4, 2]\n",
            "원본 내용 --> Python_is_Fun!\n",
            "변경 내용 --> !@u@_@i@n@h@y@\n"
          ]
        }
      ],
      "source": [
        "# 중간고사 리뷰 3번\n",
        "a = int(input ('첫번째 숫자 입력: '))\n",
        "b = float(input ('en번째 숫자 입력: '))\n",
        "# print('%d + %.1f = %.1f'%(a,b)) : 변수가 하나 모자라서 오류 발생\n",
        "\n",
        "\n",
        "# 중간고사 리뷰 12번\n",
        "num = [8,6,5,2,4]\n",
        "num.sort(reverse=True)\n",
        "print(num)\n",
        "\n",
        "\n",
        "# 중간고사 리뷰 16번\n",
        "# 튜플은 insert()사용이 불가능함\n",
        "\n",
        "\n",
        "# 중간고사 리뷰 20번\n",
        "inStr = 'Python_is_Fun!'\n",
        "outStr=''\n",
        "for i in range(0, len(inStr)):\n",
        "    if i%2==0:\n",
        "        outStr+=inStr[len(inStr)-(i+1)]\n",
        "    else:\n",
        "        outStr+='@'\n",
        "print(\"원본 내용 --> Python_is_Fun!\")\n",
        "print(\"변경 내용 -->\",outStr)"
      ]
    },
    {
      "cell_type": "code",
      "source": [
        "# 중간고사 리뷰 서술 A번\n",
        "fruitdb = []\n",
        "fruitdb.append(['apple',1000,1])\n",
        "print(f'fruitdb={fruitdb}')"
      ],
      "metadata": {
        "colab": {
          "base_uri": "https://localhost:8080/"
        },
        "id": "kLL_aA7mej2P",
        "outputId": "60d3171a-6ad4-4946-9947-940a24b5d4aa"
      },
      "execution_count": null,
      "outputs": [
        {
          "output_type": "stream",
          "name": "stdout",
          "text": [
            "fruitdb=[['apple', 1000, 1]]\n"
          ]
        }
      ]
    },
    {
      "cell_type": "code",
      "source": [
        "# 중간고사 리뷰 서술 A번\n",
        "fruitdb = []\n",
        "for i in range(3):\n",
        "    name=input('과일이름 입력: ')\n",
        "    cost=int(input('단가 입력: '))\n",
        "    many=int(input('수량 입력: '))\n",
        "    fruitdb.append([name, cost, many])\n",
        "print(f'fruitdb={fruitdb}')\n",
        "\n",
        "hap, count = 0,0\n",
        "for i in range(len(fruitdb)):\n",
        "    hap += fruitdb[i][1]*fruitdb[i][2]\n",
        "    count += fruitdb[i][2]\n",
        "avg=hap/count\n",
        "print(\"구매한 모든 과일의 평균은 %.1f원\"%(avg))"
      ],
      "metadata": {
        "colab": {
          "base_uri": "https://localhost:8080/"
        },
        "id": "nAZ5ZNRkg7Ue",
        "outputId": "dc3ca0eb-5baf-4f39-dbef-9afd9c5e9321"
      },
      "execution_count": null,
      "outputs": [
        {
          "output_type": "stream",
          "name": "stdout",
          "text": [
            "과일이름 입력: apple\n",
            "단가 입력: 1000\n",
            "수량 입력: 1\n",
            "과일이름 입력: orange\n",
            "단가 입력: 1500\n",
            "수량 입력: 2\n",
            "과일이름 입력: banana\n",
            "단가 입력: 2000\n",
            "수량 입력: 1\n",
            "fruitdb=[['apple', 1000, 1], ['orange', 1500, 2], ['banana', 2000, 1]]\n",
            "구매한 모든 과일의 평균은 1500.0원\n"
          ]
        }
      ]
    },
    {
      "cell_type": "code",
      "source": [
        "# 중간고사 리뷰 서술 B번\n",
        "class You:\n",
        "    def __init__(self):\n",
        "        self.name=input(\"이름: \")\n",
        "        self.age=int(input(\"나이: \"))\n",
        "    def show(self):\n",
        "        print('='*10,'입력받은 학생정보','='*10)\n",
        "        print('이름:',self.name,'나이:',self.age)\n",
        "\n",
        "student=[]\n",
        "for i in range(3):\n",
        "    student.append(You())\n",
        "\n",
        "for i in range(len(student)):\n",
        "    student[i].show()"
      ],
      "metadata": {
        "colab": {
          "base_uri": "https://localhost:8080/"
        },
        "id": "9Vo5M4cYjICW",
        "outputId": "c1bc3b94-a6a2-4ab1-95b2-57ce0c5014eb"
      },
      "execution_count": null,
      "outputs": [
        {
          "output_type": "stream",
          "name": "stdout",
          "text": [
            "이름: 홍길동\n",
            "나이: 20\n",
            "이름: 수지\n",
            "나이: 22\n",
            "이름: 아이유\n",
            "나이: 24\n",
            "========== 입력받은 학생정보 ==========\n",
            "이름: 홍길동 나이: 20\n",
            "========== 입력받은 학생정보 ==========\n",
            "이름: 수지 나이: 22\n",
            "========== 입력받은 학생정보 ==========\n",
            "이름: 아이유 나이: 24\n"
          ]
        }
      ]
    },
    {
      "cell_type": "markdown",
      "source": [
        "# 객체지향 프로그래밍 - 빈도수"
      ],
      "metadata": {
        "id": "MHWIHTow-L_c"
      }
    },
    {
      "cell_type": "code",
      "source": [
        "# 빈도수를 구하는 프로그램\n",
        "\n",
        "text = \"AI! 나는 인공지능 로봇 입니다. 나는 'AI 로봇' 입니다.\"\n",
        "print(text.split(' ')) # 리스트 형태로 출력"
      ],
      "metadata": {
        "colab": {
          "base_uri": "https://localhost:8080/"
        },
        "id": "zEGUo8Po7G8D",
        "outputId": "96456515-93e9-4211-a8f1-8439edcb3adc"
      },
      "execution_count": null,
      "outputs": [
        {
          "output_type": "stream",
          "name": "stdout",
          "text": [
            "['AI!', '나는', '인공지능', '로봇', '입니다.', '나는', \"'AI\", \"로봇'\", '입니다.']\n"
          ]
        }
      ]
    },
    {
      "cell_type": "code",
      "source": [
        "# 빈도수\n",
        "text = \"AI! 나는 인공지능 로봇 입니다. 나는 'AI 로봇' 입니다.\"\n",
        "text.split(' ')\n",
        "print(text)"
      ],
      "metadata": {
        "colab": {
          "base_uri": "https://localhost:8080/"
        },
        "id": "QkGWfb6KlV3m",
        "outputId": "25ded341-6e9b-4e86-8b5c-bcdaca40da7c"
      },
      "execution_count": null,
      "outputs": [
        {
          "output_type": "stream",
          "name": "stdout",
          "text": [
            "AI! 나는 인공지능 로봇 입니다. 나는 'AI 로봇' 입니다.\n"
          ]
        }
      ]
    },
    {
      "cell_type": "code",
      "source": [
        "# 빈도수 계산1\n",
        "\n",
        "text = \"AI! 나는 인공지능 로봇 입니다. 나는 'AI 로봇' 입니다.\"\n",
        "def max_counts(text):\n",
        "    counts = {} # 딕셔너리\n",
        "    for i in text.split(' '): #Ai!, 나는, 인공지능, 로봇, 입니다., 나는, 'Ai, 로봇', 입니다.\n",
        "        if i in counts:    # 딕셔너리에 이미 추가된 key라면 +1 (앞에서 이미 나왔다면 +!)\n",
        "            counts[i] +=1\n",
        "        else:    # 처음보는 글자면 counts에 key로 추가\n",
        "            counts[i] = 1\n",
        "    return counts\n",
        "\n",
        "# max_counts(text)\n",
        "print(max_counts(text))"
      ],
      "metadata": {
        "colab": {
          "base_uri": "https://localhost:8080/"
        },
        "id": "KLeqDr7956hK",
        "outputId": "bf425176-8075-4fea-da26-4ca786d489cd"
      },
      "execution_count": null,
      "outputs": [
        {
          "output_type": "stream",
          "name": "stdout",
          "text": [
            "{'AI!': 1, '나는': 2, '인공지능': 1, '로봇': 1, '입니다.': 2, \"'AI\": 1, \"로봇'\": 1}\n"
          ]
        }
      ]
    },
    {
      "cell_type": "code",
      "source": [
        "# 빈도수 계산2\n",
        "\n",
        "text = \"AI! 나는 인공지능 로봇 입니다. 나는 'AI 로봇' 입니다.\"\n",
        "\n",
        "def max_counts(text):\n",
        "    skips = ['.', '!', ',', \"'\", '\"', ':', ';', '?']\n",
        "    for ch in skips:\n",
        "        text = text.replace(ch, '')\n",
        "    counts = {}\n",
        "    for i in text.split(' '):\n",
        "        if i in counts:\n",
        "            counts[i] += 1\n",
        "        else:\n",
        "            counts[i] = 1\n",
        "    return counts\n",
        "\n",
        "print(max_counts(text))"
      ],
      "metadata": {
        "id": "_d4xZ0ZsmKGO",
        "colab": {
          "base_uri": "https://localhost:8080/"
        },
        "outputId": "76d5e63f-67c0-4795-b517-b676ac1a09ee"
      },
      "execution_count": null,
      "outputs": [
        {
          "output_type": "stream",
          "name": "stdout",
          "text": [
            "{'AI': 2, '나는': 2, '인공지능': 1, '로봇': 2, '입니다': 2}\n"
          ]
        }
      ]
    },
    {
      "cell_type": "code",
      "source": [
        "people = ['홍', '이', '김', '이', '이', '김']\n",
        "\n",
        "def max_count(people):\n",
        "    counts = {}\n",
        "    for i in people:\n",
        "        if i in counts:\n",
        "            counts[i] += 1\n",
        "        else:\n",
        "            counts[i] = 1\n",
        "    return counts\n",
        "\n",
        "counts = max_count(people)\n",
        "\n",
        "print(counts)\n",
        "print(max(counts))\n",
        "print(max(counts, key=counts.get)) #빈도수가 가장 높은 value"
      ],
      "metadata": {
        "colab": {
          "base_uri": "https://localhost:8080/"
        },
        "id": "Au1YFJuuqlIX",
        "outputId": "08cdcdee-a572-4ed5-a1e3-247de0f8e9f1"
      },
      "execution_count": null,
      "outputs": [
        {
          "output_type": "stream",
          "name": "stdout",
          "text": [
            "{'홍': 1, '이': 3, '김': 2}\n",
            "홍\n",
            "이\n"
          ]
        }
      ]
    },
    {
      "cell_type": "code",
      "source": [
        "people = ['홍', '이', '김', '이', '이', '김']\n",
        "\n",
        "def max_count(people):\n",
        "    counts = {}\n",
        "    for i in people:\n",
        "        if i in counts:\n",
        "            counts[i] += 1\n",
        "        else:\n",
        "            counts[i] = 1\n",
        "    return counts\n",
        "\n",
        "counts = max_count(people)\n",
        "\n",
        "print(counts)\n",
        "print(max(counts))\n",
        "print(max(counts, key=counts.get)) #빈도수가 가장 높은 value\n",
        "\n",
        "print(max(counts.values()))\n",
        "print(counts.items())\n",
        "for name, count in counts.items():\n",
        "    print(name, count)"
      ],
      "metadata": {
        "colab": {
          "base_uri": "https://localhost:8080/"
        },
        "outputId": "6bc8cfcb-fe46-4a6f-b8ad-f2173c45fbd4",
        "id": "qUz94lIjsu-x"
      },
      "execution_count": null,
      "outputs": [
        {
          "output_type": "stream",
          "name": "stdout",
          "text": [
            "{'홍': 1, '이': 3, '김': 2}\n",
            "홍\n",
            "이\n",
            "3\n",
            "dict_items([('홍', 1), ('이', 3), ('김', 2)])\n",
            "홍 1\n",
            "이 3\n",
            "김 2\n"
          ]
        }
      ]
    },
    {
      "cell_type": "code",
      "source": [
        "people = ['홍', '홍', '김', '이', '홍', '김']\n",
        "\n",
        "def max_count(people):\n",
        "    counts = {}\n",
        "    for i in people:\n",
        "        if i in counts:\n",
        "            counts[i] += 1\n",
        "        else:\n",
        "            counts[i] = 1\n",
        "    return counts\n",
        "\n",
        "counts=max_count(people)\n",
        "first = []\n",
        "max_num = max(counts.values())\n",
        "\n",
        "for name, count in counts.items():\n",
        "    print(name, ':', count,'번')\n",
        "    if count == max_num:\n",
        "        first.append(name)\n",
        "print('1등:', first)"
      ],
      "metadata": {
        "colab": {
          "base_uri": "https://localhost:8080/"
        },
        "id": "LioXOLD6tM7G",
        "outputId": "f662e573-c1b9-463d-c866-aadf8e5ffa01"
      },
      "execution_count": null,
      "outputs": [
        {
          "output_type": "stream",
          "name": "stdout",
          "text": [
            "홍 : 3 번\n",
            "김 : 2 번\n",
            "이 : 1 번\n",
            "1등: ['홍']\n"
          ]
        }
      ]
    },
    {
      "cell_type": "code",
      "source": [
        "nums = [1, 1, 1, 2, 2, 3, 2, 3, 3, 3, 1]\n",
        "\n",
        "def max_count(nums):\n",
        "    counts = {}\n",
        "    for i in nums:\n",
        "        if i in counts:\n",
        "            counts[i] += 1\n",
        "        else:\n",
        "            counts[i] = 1\n",
        "    return counts\n",
        "\n",
        "counts = max_count(nums)\n",
        "first = []\n",
        "max_num = max(counts.values())\n",
        "\n",
        "for name, count in counts.items():\n",
        "    print(name, ':', count,'번')\n",
        "    if count == max_num:\n",
        "        first.append(name)\n",
        "print('1등:', first)"
      ],
      "metadata": {
        "colab": {
          "base_uri": "https://localhost:8080/"
        },
        "id": "wIe2W3wAt2Ee",
        "outputId": "1b5452dd-cd7b-47c1-8d78-80c3dc327969"
      },
      "execution_count": null,
      "outputs": [
        {
          "output_type": "stream",
          "name": "stdout",
          "text": [
            "1 : 4 번\n",
            "2 : 3 번\n",
            "3 : 4 번\n",
            "1등: [1, 3]\n"
          ]
        }
      ]
    },
    {
      "cell_type": "markdown",
      "source": [
        "# 넘파이 Numpy"
      ],
      "metadata": {
        "id": "xV0ZVJ4RumZF"
      }
    },
    {
      "cell_type": "code",
      "source": [
        "import numpy as np\n",
        "arr= np.array([1,2,3,4,5])\n",
        "print(arr)"
      ],
      "metadata": {
        "colab": {
          "base_uri": "https://localhost:8080/"
        },
        "id": "iAlTda3-usUW",
        "outputId": "77f4b9f6-f496-40f4-c37f-4eacad07405a"
      },
      "execution_count": null,
      "outputs": [
        {
          "output_type": "stream",
          "name": "stdout",
          "text": [
            "[1 2 3 4 5]\n"
          ]
        }
      ]
    },
    {
      "cell_type": "code",
      "source": [
        "arr=np.array([[1,2,3],[4,5,6]])\n",
        "print(arr)"
      ],
      "metadata": {
        "colab": {
          "base_uri": "https://localhost:8080/"
        },
        "id": "Yaa1NJ3fwXsW",
        "outputId": "c26346e3-b89a-4fc9-eba1-80c6e3d4a91e"
      },
      "execution_count": null,
      "outputs": [
        {
          "output_type": "stream",
          "name": "stdout",
          "text": [
            "[[1 2 3]\n",
            " [4 5 6]]\n"
          ]
        }
      ]
    },
    {
      "cell_type": "code",
      "source": [
        "import numpy as np\n",
        "a= np.zeros(10)\n",
        "print(a)"
      ],
      "metadata": {
        "colab": {
          "base_uri": "https://localhost:8080/"
        },
        "id": "R8s1-Q6QwoAt",
        "outputId": "3f086192-1bcf-4313-9303-0162b11458ff"
      },
      "execution_count": null,
      "outputs": [
        {
          "output_type": "stream",
          "name": "stdout",
          "text": [
            "[0. 0. 0. 0. 0. 0. 0. 0. 0. 0.]\n"
          ]
        }
      ]
    },
    {
      "cell_type": "code",
      "source": [
        "import numpy as np\n",
        "a= np.zeros(9)\n",
        "print(a)\n",
        "b=np.zeros((3,3))\n",
        "print(b)"
      ],
      "metadata": {
        "colab": {
          "base_uri": "https://localhost:8080/"
        },
        "id": "ZCdKufaNxK89",
        "outputId": "26b01b42-0f94-401a-f0df-422ea7300c5c"
      },
      "execution_count": null,
      "outputs": [
        {
          "output_type": "stream",
          "name": "stdout",
          "text": [
            "[0. 0. 0. 0. 0. 0. 0. 0. 0.]\n",
            "[[0. 0. 0.]\n",
            " [0. 0. 0.]\n",
            " [0. 0. 0.]]\n"
          ]
        }
      ]
    },
    {
      "cell_type": "code",
      "source": [
        "import numpy as np\n",
        "a= np.ones(10)\n",
        "print(a)"
      ],
      "metadata": {
        "colab": {
          "base_uri": "https://localhost:8080/"
        },
        "id": "oRFQsDJ8xADl",
        "outputId": "017db8dc-b842-4e3c-e5a0-3ab8bc989948"
      },
      "execution_count": null,
      "outputs": [
        {
          "output_type": "stream",
          "name": "stdout",
          "text": [
            "[1. 1. 1. 1. 1. 1. 1. 1. 1. 1.]\n"
          ]
        }
      ]
    },
    {
      "cell_type": "code",
      "source": [
        "import numpy as np\n",
        "a= np.ones(9)\n",
        "print(a)\n",
        "b=np.ones((2,3))\n",
        "print(b)"
      ],
      "metadata": {
        "colab": {
          "base_uri": "https://localhost:8080/"
        },
        "id": "jVOS0DWdxZBV",
        "outputId": "c7c16667-ead1-4e3e-ef24-89aa281e4719"
      },
      "execution_count": null,
      "outputs": [
        {
          "output_type": "stream",
          "name": "stdout",
          "text": [
            "[1. 1. 1. 1. 1. 1. 1. 1. 1.]\n",
            "[[1. 1. 1.]\n",
            " [1. 1. 1.]]\n"
          ]
        }
      ]
    },
    {
      "cell_type": "code",
      "source": [
        "b=np.ones((2,3,4))\n",
        "print(b)"
      ],
      "metadata": {
        "colab": {
          "base_uri": "https://localhost:8080/"
        },
        "id": "1IcNNLuuxwG9",
        "outputId": "f7e81177-8d2f-4d5b-f62a-b596b9b62dc3"
      },
      "execution_count": null,
      "outputs": [
        {
          "output_type": "stream",
          "name": "stdout",
          "text": [
            "[[[1. 1. 1. 1.]\n",
            "  [1. 1. 1. 1.]\n",
            "  [1. 1. 1. 1.]]\n",
            "\n",
            " [[1. 1. 1. 1.]\n",
            "  [1. 1. 1. 1.]\n",
            "  [1. 1. 1. 1.]]]\n"
          ]
        }
      ]
    },
    {
      "cell_type": "code",
      "source": [
        "b=np.full((2,3), 1.5)\n",
        "print(b)"
      ],
      "metadata": {
        "colab": {
          "base_uri": "https://localhost:8080/"
        },
        "id": "rrBkHPFRyCXG",
        "outputId": "26f4d9f2-9e29-4530-fab2-a96f81ddc150"
      },
      "execution_count": null,
      "outputs": [
        {
          "output_type": "stream",
          "name": "stdout",
          "text": [
            "[[1.5 1.5 1.5]\n",
            " [1.5 1.5 1.5]]\n"
          ]
        }
      ]
    },
    {
      "cell_type": "code",
      "source": [
        "a=np.eye(3)\n",
        "print(a)"
      ],
      "metadata": {
        "colab": {
          "base_uri": "https://localhost:8080/"
        },
        "id": "wzHDISWcyEU9",
        "outputId": "d675f391-243b-4861-de0f-e7de18616682"
      },
      "execution_count": null,
      "outputs": [
        {
          "output_type": "stream",
          "name": "stdout",
          "text": [
            "[[1. 0. 0.]\n",
            " [0. 1. 0.]\n",
            " [0. 0. 1.]]\n"
          ]
        }
      ]
    },
    {
      "cell_type": "code",
      "source": [
        "a=np.tri(4)\n",
        "print(a)"
      ],
      "metadata": {
        "colab": {
          "base_uri": "https://localhost:8080/"
        },
        "id": "FTclRISOy4Et",
        "outputId": "2ff9e1ed-8574-483a-94bd-9a09f903c870"
      },
      "execution_count": null,
      "outputs": [
        {
          "output_type": "stream",
          "name": "stdout",
          "text": [
            "[[1. 0. 0. 0.]\n",
            " [1. 1. 0. 0.]\n",
            " [1. 1. 1. 0.]\n",
            " [1. 1. 1. 1.]]\n"
          ]
        }
      ]
    },
    {
      "cell_type": "code",
      "source": [
        "a=np.arange(1, 21)\n",
        "print(a)"
      ],
      "metadata": {
        "colab": {
          "base_uri": "https://localhost:8080/"
        },
        "id": "0buH3qrLzTNd",
        "outputId": "79d6a16e-8892-4945-9fe5-38d52450ff61"
      },
      "execution_count": null,
      "outputs": [
        {
          "output_type": "stream",
          "name": "stdout",
          "text": [
            "[ 1  2  3  4  5  6  7  8  9 10 11 12 13 14 15 16 17 18 19 20]\n"
          ]
        }
      ]
    },
    {
      "cell_type": "code",
      "source": [
        "a=np.arange(1, 21,2)\n",
        "print(a)"
      ],
      "metadata": {
        "colab": {
          "base_uri": "https://localhost:8080/"
        },
        "id": "8UF-gfUgzjAd",
        "outputId": "38258a96-b0c8-4d76-e840-14eda377b481"
      },
      "execution_count": null,
      "outputs": [
        {
          "output_type": "stream",
          "name": "stdout",
          "text": [
            "[ 1  3  5  7  9 11 13 15 17 19]\n"
          ]
        }
      ]
    },
    {
      "cell_type": "code",
      "source": [
        "a=np.linspace(0,10,5)\n",
        "print(a)"
      ],
      "metadata": {
        "colab": {
          "base_uri": "https://localhost:8080/"
        },
        "id": "8EnxX5Kuzuge",
        "outputId": "834e0ae0-731e-4355-c1df-4558fcb7a377"
      },
      "execution_count": null,
      "outputs": [
        {
          "output_type": "stream",
          "name": "stdout",
          "text": [
            "[ 0.   2.5  5.   7.5 10. ]\n"
          ]
        }
      ]
    },
    {
      "cell_type": "code",
      "source": [
        "a=np.logspace(np.log10(10), np.log10(100),5)\n",
        "print(a)"
      ],
      "metadata": {
        "colab": {
          "base_uri": "https://localhost:8080/"
        },
        "id": "drTmsTJiz-Tc",
        "outputId": "c6b0e0ac-3eff-4c63-a5d7-0a418e34c48a"
      },
      "execution_count": null,
      "outputs": [
        {
          "output_type": "stream",
          "name": "stdout",
          "text": [
            "[ 10.          17.7827941   31.6227766   56.23413252 100.        ]\n"
          ]
        }
      ]
    },
    {
      "cell_type": "code",
      "source": [
        "a=np.random.random()\n",
        "print(a)"
      ],
      "metadata": {
        "colab": {
          "base_uri": "https://localhost:8080/"
        },
        "id": "PY0jd4H_0RJF",
        "outputId": "ddaff986-7241-4711-a91f-9d725cb82020"
      },
      "execution_count": null,
      "outputs": [
        {
          "output_type": "stream",
          "name": "stdout",
          "text": [
            "0.22080885264370587\n"
          ]
        }
      ]
    },
    {
      "cell_type": "code",
      "source": [
        "a=np.random.randint(1,10)\n",
        "print(a)"
      ],
      "metadata": {
        "colab": {
          "base_uri": "https://localhost:8080/"
        },
        "id": "oRDIDhVI0dtW",
        "outputId": "3155811e-aadd-4697-9ee4-5366cef1e84a"
      },
      "execution_count": null,
      "outputs": [
        {
          "output_type": "stream",
          "name": "stdout",
          "text": [
            "2\n"
          ]
        }
      ]
    },
    {
      "cell_type": "code",
      "source": [
        "a=np.random.randint(1,10,(4,4))\n",
        "print(a)"
      ],
      "metadata": {
        "colab": {
          "base_uri": "https://localhost:8080/"
        },
        "id": "POyAhMsq0kg-",
        "outputId": "22e9d45f-418c-434a-ee7e-8db0574e5197"
      },
      "execution_count": null,
      "outputs": [
        {
          "output_type": "stream",
          "name": "stdout",
          "text": [
            "[[2 6 2 6]\n",
            " [5 3 7 2]\n",
            " [9 4 2 8]\n",
            " [9 5 2 5]]\n"
          ]
        }
      ]
    },
    {
      "cell_type": "code",
      "source": [
        "randint_list=[]\n",
        "for i in range(10000):\n",
        "    a=np.random.randint(1,10)\n",
        "    randint_list.append(a)\n",
        "\n",
        "def max_count(nums):\n",
        "    counts = {}\n",
        "    for i in nums:\n",
        "        if i in counts:\n",
        "            counts[i] += 1\n",
        "        else:\n",
        "            counts[i] = 1\n",
        "    return counts\n",
        "\n",
        "counts = max_count(randint_list)\n",
        "first = []\n",
        "max_num = max(counts.values())\n",
        "\n",
        "for name, count in counts.items():\n",
        "    print(name, ':', count,'번')\n",
        "    if count == max_num:\n",
        "        first.append(name)\n",
        "print('1등:', first)"
      ],
      "metadata": {
        "colab": {
          "base_uri": "https://localhost:8080/"
        },
        "id": "ju8Ga5xU3DWN",
        "outputId": "8bd74497-c87a-405b-b408-02b23a8045f8"
      },
      "execution_count": null,
      "outputs": [
        {
          "output_type": "stream",
          "name": "stdout",
          "text": [
            "1 : 1108 번\n",
            "5 : 1142 번\n",
            "7 : 1088 번\n",
            "2 : 1130 번\n",
            "4 : 1127 번\n",
            "3 : 1101 번\n",
            "8 : 1115 번\n",
            "9 : 1121 번\n",
            "6 : 1068 번\n",
            "1등: [5]\n"
          ]
        }
      ]
    },
    {
      "cell_type": "code",
      "source": [
        "a1=np.arange(9)\n",
        "print(a1)\n",
        "print(a1[0])\n",
        "print(a1[-1])\n",
        "a1[0]=10\n",
        "print(a1)"
      ],
      "metadata": {
        "colab": {
          "base_uri": "https://localhost:8080/"
        },
        "id": "_LZARmdz5Clt",
        "outputId": "22662b23-542e-4769-9b52-c646d2b89c77"
      },
      "execution_count": null,
      "outputs": [
        {
          "output_type": "stream",
          "name": "stdout",
          "text": [
            "[0 1 2 3 4 5 6 7 8]\n",
            "0\n",
            "8\n",
            "[10  1  2  3  4  5  6  7  8]\n"
          ]
        }
      ]
    },
    {
      "cell_type": "code",
      "source": [
        "a1=np.arange(9).reshape((3,3))\n",
        "print(a1)\n",
        "print(a1[0,1]) #0행 1열\n",
        "print(a1[1,2]) #1행 2열\n",
        "a1[0,0]=10 #0행 0열의 원소 변경\n",
        "print(a1)"
      ],
      "metadata": {
        "colab": {
          "base_uri": "https://localhost:8080/"
        },
        "id": "ClGANXEL5O9W",
        "outputId": "9bd55cac-3dee-4f03-8287-56a7daeb4287"
      },
      "execution_count": null,
      "outputs": [
        {
          "output_type": "stream",
          "name": "stdout",
          "text": [
            "[[0 1 2]\n",
            " [3 4 5]\n",
            " [6 7 8]]\n",
            "1\n",
            "5\n",
            "[[10  1  2]\n",
            " [ 3  4  5]\n",
            " [ 6  7  8]]\n"
          ]
        }
      ]
    },
    {
      "cell_type": "markdown",
      "source": [
        "# 배열 슬라이싱"
      ],
      "metadata": {
        "id": "Q5q3JjXl91AW"
      }
    },
    {
      "cell_type": "code",
      "source": [
        "a2 = np.arange(1,25).reshape((4,6))\n",
        "\n",
        "print(a2)\n",
        "print(\"-\"*20)\n",
        "print()\n",
        "\n",
        "print(a2[1])\n",
        "print()\n",
        "\n",
        "print(a2[1:3,1:5]) #1행~2행, 1열~4열\n",
        "print()\n",
        "\n",
        "print(a2[2,:]) #인덱스 2인 요소 전부 다 출력\n",
        "print()\n",
        "\n",
        "print(a2[:3,:3])\n",
        "print()\n",
        "\n",
        "print(a2[2:,::-1]) # 역순으로\n",
        "print()\n",
        "\n",
        "print(a2[::-1,::-1])"
      ],
      "metadata": {
        "colab": {
          "base_uri": "https://localhost:8080/"
        },
        "id": "HFcEl6e65uPW",
        "outputId": "174d8ed3-676d-4de8-86b7-ecbf8134c382"
      },
      "execution_count": null,
      "outputs": [
        {
          "output_type": "stream",
          "name": "stdout",
          "text": [
            "[[ 1  2  3  4  5  6]\n",
            " [ 7  8  9 10 11 12]\n",
            " [13 14 15 16 17 18]\n",
            " [19 20 21 22 23 24]]\n",
            "--------------------\n",
            "\n",
            "[ 7  8  9 10 11 12]\n",
            "\n",
            "[[ 8  9 10 11]\n",
            " [14 15 16 17]]\n",
            "\n",
            "[13 14 15 16 17 18]\n",
            "\n",
            "[[ 1  2  3]\n",
            " [ 7  8  9]\n",
            " [13 14 15]]\n",
            "\n",
            "[[18 17 16 15 14 13]\n",
            " [24 23 22 21 20 19]]\n",
            "\n",
            "[[24 23 22 21 20 19]\n",
            " [18 17 16 15 14 13]\n",
            " [12 11 10  9  8  7]\n",
            " [ 6  5  4  3  2  1]]\n"
          ]
        }
      ]
    },
    {
      "cell_type": "markdown",
      "source": [
        "# 논리 인덱싱"
      ],
      "metadata": {
        "id": "dq04Up1V9vBs"
      }
    },
    {
      "cell_type": "code",
      "source": [
        "a = np.arange(11)\n",
        "print(a)\n",
        "print(a[a<5], end='\\n\\n')\n",
        "\n",
        "print(a>=5)\n",
        "five_up = (a>=5)\n",
        "print(five_up)\n",
        "print(a[five_up], end='\\n\\n')\n",
        "\n",
        "divide_by_2 = a[a%2==0]\n",
        "print(divide_by_2, end='\\n\\n')\n",
        "\n",
        "divide_by_o = a[~(a%2==0)]    # divide_by_o = a[~(a%2!=0)]\n",
        "print(divide_by_o)"
      ],
      "metadata": {
        "colab": {
          "base_uri": "https://localhost:8080/"
        },
        "id": "oIT7YE6o6_up",
        "outputId": "30c4d3e0-ff93-4fe9-8d24-b9a0f8e08677"
      },
      "execution_count": null,
      "outputs": [
        {
          "output_type": "stream",
          "name": "stdout",
          "text": [
            "[ 0  1  2  3  4  5  6  7  8  9 10]\n",
            "[0 1 2 3 4]\n",
            "\n",
            "\n",
            "[False False False False False  True  True  True  True  True  True]\n",
            "[False False False False False  True  True  True  True  True  True]\n",
            "[ 5  6  7  8  9 10]\n",
            "\n",
            "\n",
            "[ 0  2  4  6  8 10]\n",
            "\n",
            "\n",
            "[1 3 5 7 9]\n"
          ]
        }
      ]
    },
    {
      "cell_type": "code",
      "source": [
        "# 논리 연산자 사용\n",
        "c= a[(a>5)&(a<11)]\n",
        "print(c)\n",
        "\n",
        "d=a[(a>9)|(a<5)]\n",
        "print(d)\n",
        "\n",
        "e=a[~(a%3==0)]\n",
        "print(e)"
      ],
      "metadata": {
        "colab": {
          "base_uri": "https://localhost:8080/"
        },
        "id": "LAkBVtWI8wOF",
        "outputId": "949cb6dc-603f-4fed-8540-edfaacf25231"
      },
      "execution_count": null,
      "outputs": [
        {
          "output_type": "stream",
          "name": "stdout",
          "text": [
            "[ 6  7  8  9 10]\n",
            "[ 0  1  2  3  4 10]\n",
            "[ 1  2  4  5  7  8 10]\n"
          ]
        }
      ]
    },
    {
      "cell_type": "code",
      "source": [
        "# 산술연산\n",
        "a=np.arange(1,11)\n",
        "b=np.arange(1,11)\n",
        "\n",
        "print(a+b)\n",
        "print(np.add(a,b))\n",
        "print()\n",
        "\n",
        "print(a-b)\n",
        "print(np.subtract(a,b))\n",
        "print()\n",
        "\n",
        "print(a*b)\n",
        "print(np.multiply(a,b))\n",
        "print()\n",
        "\n",
        "print(a/b)\n",
        "print(np.divide(a,b))\n"
      ],
      "metadata": {
        "colab": {
          "base_uri": "https://localhost:8080/"
        },
        "id": "GMzW1nTF9LH1",
        "outputId": "b0e5caa9-8dc2-4c48-9306-2f68097fa30f"
      },
      "execution_count": null,
      "outputs": [
        {
          "output_type": "stream",
          "name": "stdout",
          "text": [
            "[ 2  4  6  8 10 12 14 16 18 20]\n",
            "[ 2  4  6  8 10 12 14 16 18 20]\n",
            "\n",
            "[0 0 0 0 0 0 0 0 0 0]\n",
            "[0 0 0 0 0 0 0 0 0 0]\n",
            "\n",
            "[  1   4   9  16  25  36  49  64  81 100]\n",
            "[  1   4   9  16  25  36  49  64  81 100]\n",
            "\n",
            "[1. 1. 1. 1. 1. 1. 1. 1. 1. 1.]\n",
            "[1. 1. 1. 1. 1. 1. 1. 1. 1. 1.]\n"
          ]
        }
      ]
    },
    {
      "cell_type": "code",
      "source": [
        "# 제곱근\n",
        "print(np.sqrt(a))"
      ],
      "metadata": {
        "colab": {
          "base_uri": "https://localhost:8080/"
        },
        "id": "1NEWWang99r2",
        "outputId": "8ff5fe0a-81bd-4fae-96e2-64b719f68080"
      },
      "execution_count": null,
      "outputs": [
        {
          "output_type": "stream",
          "name": "stdout",
          "text": [
            "[1.         1.41421356 1.73205081 2.         2.23606798 2.44948974\n",
            " 2.64575131 2.82842712 3.         3.16227766]\n"
          ]
        }
      ]
    },
    {
      "cell_type": "markdown",
      "source": [
        "# 집계함수\n",
        "\n",
        "# 브로드캐스팅 연산\n",
        "\n",
        "#벡터 연산"
      ],
      "metadata": {
        "id": "EkE91e8_-YsV"
      }
    },
    {
      "cell_type": "code",
      "source": [
        "# 브로드캐스팅\n",
        "import numpy as np\n",
        "x= np.array([1,2,3,4,5])\n",
        "y=1\n",
        "print(x+y)"
      ],
      "metadata": {
        "colab": {
          "base_uri": "https://localhost:8080/"
        },
        "id": "W48KMj0RlF03",
        "outputId": "601a02f3-8304-474f-ca7e-2129405bbe94"
      },
      "execution_count": null,
      "outputs": [
        {
          "output_type": "stream",
          "name": "stdout",
          "text": [
            "[2 3 4 5 6]\n"
          ]
        }
      ]
    }
  ]
}