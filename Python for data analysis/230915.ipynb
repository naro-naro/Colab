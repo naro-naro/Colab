{
  "nbformat": 4,
  "nbformat_minor": 0,
  "metadata": {
    "colab": {
      "provenance": [],
      "mount_file_id": "198_ZXQxTpUFWZRGihSUTo8piBEcFQGQe",
      "authorship_tag": "ABX9TyNyki5dLFWuFRQS0h4QEfkQ",
      "include_colab_link": true
    },
    "kernelspec": {
      "name": "python3",
      "display_name": "Python 3"
    },
    "language_info": {
      "name": "python"
    }
  },
  "cells": [
    {
      "cell_type": "markdown",
      "metadata": {
        "id": "view-in-github",
        "colab_type": "text"
      },
      "source": [
        "<a href=\"https://colab.research.google.com/github/naro-naro/Colab/blob/main/230915.ipynb\" target=\"_parent\"><img src=\"https://colab.research.google.com/assets/colab-badge.svg\" alt=\"Open In Colab\"/></a>"
      ]
    },
    {
      "cell_type": "markdown",
      "source": [
        "# 선택문 규칙\n",
        "\n",
        "- if 조건문은 참 거짓 판별이 가능해야 함\n",
        "\n",
        "- 조건식의 끝에 항상 콜론(:)이 있어야 함\n",
        "\n",
        "- 실행 코드는 들여쓰기(tab)를 통해 종속 코드로 작성해야 함\n",
        "\n"
      ],
      "metadata": {
        "id": "morZL-OuS5NW"
      }
    },
    {
      "cell_type": "code",
      "execution_count": null,
      "metadata": {
        "colab": {
          "base_uri": "https://localhost:8080/"
        },
        "id": "EPqKFxb4IUHq",
        "outputId": "7e947b0b-6e0d-4cd5-d30b-6a7c80a5cca0"
      },
      "outputs": [
        {
          "output_type": "stream",
          "name": "stdout",
          "text": [
            "회원이십니까?(y/n) y\n",
            "어서오십시오.\n"
          ]
        }
      ],
      "source": [
        "member = input('회원이십니까?(y/n) ')\n",
        "if member =='y':\n",
        "    print('어서오십시오.')"
      ]
    },
    {
      "cell_type": "code",
      "source": [
        "member = input('회원이십니까?(y/n) ')\n",
        "if member =='y':\n",
        "    print('어서오십시오.')\n",
        "else:\n",
        "    print('회원가입을 해주세요.')"
      ],
      "metadata": {
        "id": "UjW0fuxmTO-N"
      },
      "execution_count": null,
      "outputs": []
    },
    {
      "cell_type": "code",
      "source": [
        "age = int(input('나이를 입력하세요: '))\n",
        "price = 20000\n",
        "if 1 <= age < 6:\n",
        "    print('입장료는 무료입니다')\n",
        "elif 6 <= age < 60:\n",
        "    print(\"입장료는\",price,\"원\")\n",
        "elif age>=60:\n",
        "    print(\"입장료는\",price*0.5,\"원\")"
      ],
      "metadata": {
        "colab": {
          "base_uri": "https://localhost:8080/"
        },
        "id": "cZdWESPYTXct",
        "outputId": "e376f8b2-843c-448e-df8d-784c602fa818"
      },
      "execution_count": null,
      "outputs": [
        {
          "output_type": "stream",
          "name": "stdout",
          "text": [
            "나이를 입력하세요: 30\n",
            "입장료는 20000 원\n"
          ]
        }
      ]
    },
    {
      "cell_type": "code",
      "source": [
        "# 실습 : 입력받는 나이에 따라 놀이동산 입장료를 출력한다\n",
        "# 입장료 정가 : 2만원, 1~6세: 무료, 6~60세: 정가, 60세 이상: 정가의 50%\n",
        "# 이외의 나이를 입력할 경우 오류 메시지 출력\n",
        "\n",
        "age = int(input(\"나이를 입력하세요: \"))\n",
        "price = 20000\n",
        "if 1<=age<6:\n",
        "    print(\"입장료는 무료입니다\")\n",
        "elif 6<=age<60:\n",
        "    print(\"입장료는 {}원입니다\".format(price))\n",
        "elif age>=60:\n",
        "    print(\"입장료는 {}원입니다\".format(price*0.5))\n",
        "else:\n",
        "    print(\"1세 이상의 나이를 입력하세요\")"
      ],
      "metadata": {
        "colab": {
          "base_uri": "https://localhost:8080/"
        },
        "id": "Vqtm0xJ_UBwO",
        "outputId": "36e35926-7289-47a5-eef1-814f91891825"
      },
      "execution_count": null,
      "outputs": [
        {
          "output_type": "stream",
          "name": "stdout",
          "text": [
            "나이를 입력하세요: 0\n",
            "1세 이상의 나이를 입력하세요\n"
          ]
        }
      ]
    },
    {
      "cell_type": "code",
      "source": [
        "# 중첩 선택문 : if문의 조건식이 참인 경우에 또다른 내부의 if문을 중첩\n",
        "id = input(\"아이디: \")\n",
        "pw = input(\"비밀번호: \")\n",
        "if id == \"admin\":\n",
        "    if pw ==\"1234\":\n",
        "        print(\"로그인 성공\")\n",
        "    else:\n",
        "        print(\"패스워드 오류\")\n",
        "else:\n",
        "    print('아이디 오류')"
      ],
      "metadata": {
        "colab": {
          "base_uri": "https://localhost:8080/"
        },
        "id": "ctxLdUtIUn3l",
        "outputId": "b444d006-f1e8-4f38-be11-321a45ec8b63"
      },
      "execution_count": null,
      "outputs": [
        {
          "output_type": "stream",
          "name": "stdout",
          "text": [
            "아이디: admin\n",
            "비밀번호: 234\n",
            "패스워드 오류\n"
          ]
        }
      ]
    },
    {
      "cell_type": "markdown",
      "source": [
        "# 반복문\n",
        "* for문\n",
        "\n",
        "특정 범위만큼 반복문 실행\n",
        "\n",
        "범위를 활용하여 반복 실행\n",
        "\n",
        "range()함수, 리스트, 문자열을 이용해 범위지정\n",
        "\n",
        "\n",
        "* while문\n",
        "\n",
        "논리 연산을 통한 조건적 반복 실행구조\n",
        "\n",
        "참 거짓 판별이 가능한 조건식 필요\n",
        "\n"
      ],
      "metadata": {
        "id": "hvjMpW96Yt2v"
      }
    },
    {
      "cell_type": "code",
      "source": [
        "for i in range(5):\n",
        "    print(\"★\"*(i+1))"
      ],
      "metadata": {
        "colab": {
          "base_uri": "https://localhost:8080/"
        },
        "id": "x_YbS1MTZtcH",
        "outputId": "fc890b0c-1666-48e2-f683-8602758d21c4"
      },
      "execution_count": null,
      "outputs": [
        {
          "output_type": "stream",
          "name": "stdout",
          "text": [
            "★\n",
            "★★\n",
            "★★★\n",
            "★★★★\n",
            "★★★★★\n"
          ]
        }
      ]
    },
    {
      "cell_type": "code",
      "source": [
        "# for i in [1,3,5,7,9]:\n",
        "for i in range(1,10,2):\n",
        "    print(\"☆\"*i)"
      ],
      "metadata": {
        "colab": {
          "base_uri": "https://localhost:8080/"
        },
        "id": "M6TfHHgWbRWp",
        "outputId": "b5ede23f-57e0-4c8f-eab8-b36c49545c3f"
      },
      "execution_count": null,
      "outputs": [
        {
          "output_type": "stream",
          "name": "stdout",
          "text": [
            "☆\n",
            "☆☆☆\n",
            "☆☆☆☆☆\n",
            "☆☆☆☆☆☆☆\n",
            "☆☆☆☆☆☆☆☆☆\n"
          ]
        }
      ]
    },
    {
      "cell_type": "code",
      "source": [
        "odd = [1, 3, 5, 7, 9]\n",
        "for i in odd:\n",
        "    print(i+1, end=\" \")"
      ],
      "metadata": {
        "colab": {
          "base_uri": "https://localhost:8080/"
        },
        "id": "3ssMTe-vatzQ",
        "outputId": "6460c71c-21e1-4568-cc15-2af0681ac292"
      },
      "execution_count": null,
      "outputs": [
        {
          "output_type": "stream",
          "name": "stdout",
          "text": [
            "2 4 6 8 10 "
          ]
        }
      ]
    },
    {
      "cell_type": "code",
      "source": [
        "for i in 'Python':\n",
        "    print(i, end=\" \")"
      ],
      "metadata": {
        "colab": {
          "base_uri": "https://localhost:8080/"
        },
        "id": "EgvcQyPLa8-f",
        "outputId": "807c7515-774a-4057-9fc4-cd5e48b6af5e"
      },
      "execution_count": null,
      "outputs": [
        {
          "output_type": "stream",
          "name": "stdout",
          "text": [
            "P y t h o n "
          ]
        }
      ]
    },
    {
      "cell_type": "code",
      "source": [
        "year = 1\n",
        "while year <=3:\n",
        "    print(\"서당개 {}년\".format(year))\n",
        "    year+=1\n",
        "print(\"풍월을 읊습니다.\")"
      ],
      "metadata": {
        "colab": {
          "base_uri": "https://localhost:8080/"
        },
        "id": "pkPOHl9LcKwA",
        "outputId": "39db750b-60b4-40af-bb79-9c5717f92c28"
      },
      "execution_count": null,
      "outputs": [
        {
          "output_type": "stream",
          "name": "stdout",
          "text": [
            "서당개 1년\n",
            "서당개 2년\n",
            "서당개 3년\n",
            "풍월을 읊습니다.\n"
          ]
        }
      ]
    },
    {
      "cell_type": "code",
      "source": [
        "# 구구단 출력\n",
        "# for문을 이용한 예제\n",
        "num1 = int(input('첫번째 단 입력: '))\n",
        "for i in range(1,10):\n",
        "    print(\"{} * {} = {}\".format(num1,i,num1*i))\n",
        "print()\n",
        "\n",
        "# while문을 이용한 예제\n",
        "j = 1\n",
        "num2 = int(input(\"두번째 단 입력: \"))\n",
        "while j <= 9:\n",
        "    print(\"{} * {} = {}\".format(num2, j, num2*j))\n",
        "    j +=1"
      ],
      "metadata": {
        "colab": {
          "base_uri": "https://localhost:8080/"
        },
        "id": "dERz-DZodQaw",
        "outputId": "a101c08a-8e31-4daf-98b6-ce3ed5b99f87"
      },
      "execution_count": null,
      "outputs": [
        {
          "output_type": "stream",
          "name": "stdout",
          "text": [
            "첫번째 단 입력: 7\n",
            "7 * 1 = 7\n",
            "7 * 2 = 14\n",
            "7 * 3 = 21\n",
            "7 * 4 = 28\n",
            "7 * 5 = 35\n",
            "7 * 6 = 42\n",
            "7 * 7 = 49\n",
            "7 * 8 = 56\n",
            "7 * 9 = 63\n",
            "\n",
            "두번째 단 입력: 8\n",
            "8 * 1 = 8\n",
            "8 * 2 = 16\n",
            "8 * 3 = 24\n",
            "8 * 4 = 32\n",
            "8 * 5 = 40\n",
            "8 * 6 = 48\n",
            "8 * 7 = 56\n",
            "8 * 8 = 64\n",
            "8 * 9 = 72\n"
          ]
        }
      ]
    },
    {
      "cell_type": "markdown",
      "source": [
        "# break문\n",
        "\n",
        ": 반복 구간을 더이상 실행하지 않고 종료한다\n",
        "\n",
        "# continue문\n",
        "\n",
        ": 반복 구간의 남은 명령문을 실행하지 않고 반복문 처음으로 이동한다\n"
      ],
      "metadata": {
        "id": "mSEaXIQ7fcSJ"
      }
    },
    {
      "cell_type": "code",
      "source": [
        "for i in range(1,31):\n",
        "    if i %7 ==0:\n",
        "        print('7의 배수: {}'.format(i))\n",
        "        # 0을 입력하기 전까지 무한 반복\n",
        "\n",
        "for j in range(1, 31):\n",
        "    if j%7 !=0:\n",
        "        continue\n",
        "        print('7의 배수: {}'.format(j))"
      ],
      "metadata": {
        "colab": {
          "base_uri": "https://localhost:8080/"
        },
        "id": "XbrbJCJcev6C",
        "outputId": "e816e1ef-8deb-4142-e3aa-183d16a58851"
      },
      "execution_count": null,
      "outputs": [
        {
          "output_type": "stream",
          "name": "stdout",
          "text": [
            "7의 배수: 7\n",
            "7의 배수: 14\n",
            "7의 배수: 21\n",
            "7의 배수: 28\n"
          ]
        }
      ]
    },
    {
      "cell_type": "markdown",
      "source": [
        "# pass문\n",
        "\n",
        ": 아무것도 실행하지 않는다"
      ],
      "metadata": {
        "id": "xQAxF8GKgJFw"
      }
    },
    {
      "cell_type": "code",
      "source": [
        "# 중첩 반목문의 예 : 0을 입력하기 전까지 단을 입력 받아 구구단을 출력한다\n",
        "while True:\n",
        "    num = int(input('단 입력(종료:0): '))\n",
        "    if num==0:\n",
        "        break\n",
        "    i = 1\n",
        "    while i <= 9:\n",
        "        print(\"{} * {} = {}\".format(num, i, num*i))\n",
        "        i +=1\n",
        "    print()"
      ],
      "metadata": {
        "colab": {
          "base_uri": "https://localhost:8080/"
        },
        "id": "fSX5Qm9xgIqh",
        "outputId": "555532c5-4e94-4013-bcb6-f7117673323a"
      },
      "execution_count": null,
      "outputs": [
        {
          "name": "stdout",
          "output_type": "stream",
          "text": [
            "단 입력(종료:0): 3\n",
            "3 * 1 = 3\n",
            "3 * 2 = 6\n",
            "3 * 3 = 9\n",
            "3 * 4 = 12\n",
            "3 * 5 = 15\n",
            "3 * 6 = 18\n",
            "3 * 7 = 21\n",
            "3 * 8 = 24\n",
            "3 * 9 = 27\n",
            "\n",
            "단 입력(종료:0): 7\n",
            "7 * 1 = 7\n",
            "7 * 2 = 14\n",
            "7 * 3 = 21\n",
            "7 * 4 = 28\n",
            "7 * 5 = 35\n",
            "7 * 6 = 42\n",
            "7 * 7 = 49\n",
            "7 * 8 = 56\n",
            "7 * 9 = 63\n",
            "\n",
            "단 입력(종료:0): 0\n"
          ]
        }
      ]
    },
    {
      "cell_type": "code",
      "source": [
        "alpha = {'A':\"1!\", \"B\":\"2@\", \"C\":\"3#\", \"D\":\"4$\", \"E\":\"5%\"}\n",
        "while True:\n",
        "    code = ''\n",
        "    word = input(\"대문자 A~E 단어 입력(종료:0): \")\n",
        "    if word == \"0\":\n",
        "        break\n",
        "    for ch in word:\n",
        "        code += alpha[ch]\n",
        "    print(\"단어: {}, 암호코드:{},\\n\".format(word, code))\n",
        "\n",
        "print(\"암호코드 변환 프로그램 종료\")"
      ],
      "metadata": {
        "colab": {
          "base_uri": "https://localhost:8080/"
        },
        "id": "5rVh6KOihDxR",
        "outputId": "cee7e78f-bfb0-44bd-e8df-808a59bae318"
      },
      "execution_count": null,
      "outputs": [
        {
          "output_type": "stream",
          "name": "stdout",
          "text": [
            "대문자 A~E 단어 입력(종료:0): A\n",
            "단어: A, 암호코드:1!,\n",
            "\n",
            "\n",
            "대문자 A~E 단어 입력(종료:0): 0\n",
            "암호코드 변환 프로그램 종료\n"
          ]
        }
      ]
    },
    {
      "cell_type": "code",
      "source": [
        "start = int(input('시작단 입력: '))\n",
        "end = int(input(\"종료단 입력: \"))\n",
        "for num in range(start, end+1):\n",
        "    i=1\n",
        "    while i <= 9:\n",
        "        print(\"{} * {} = {}\".format(num, i ,num*i))\n",
        "        i+=1\n",
        "print(\"구구단 프로그램 종료\")"
      ],
      "metadata": {
        "id": "W7o4KiDKkZMS"
      },
      "execution_count": null,
      "outputs": []
    },
    {
      "cell_type": "code",
      "source": [
        "main = ['참치', '불고기']\n",
        "side = ['오이', '계란']\n",
        "i=1\n",
        "for m in main:\n",
        "    for s in side:\n",
        "        print('{} {} + {} + 단무지'.format(i, m,s))\n",
        "        i+=1"
      ],
      "metadata": {
        "colab": {
          "base_uri": "https://localhost:8080/"
        },
        "id": "ldQI0uFAk5LL",
        "outputId": "6ae60300-f1e7-46ef-df54-bff677c03afd"
      },
      "execution_count": null,
      "outputs": [
        {
          "output_type": "stream",
          "name": "stdout",
          "text": [
            "1 참치 + 오이 + 단무지\n",
            "2 참치 + 계란 + 단무지\n",
            "3 불고기 + 오이 + 단무지\n",
            "4 불고기 + 계란 + 단무지\n"
          ]
        }
      ]
    },
    {
      "cell_type": "markdown",
      "source": [
        "\n",
        "# 내장 함수\n",
        "\n",
        "max() : 리스트, 문자열에서 가장 큰 값\n",
        "\n",
        "min() : 리스트, 문자열에서 가장 작은 값\n",
        "\n",
        "len() : 길이\n",
        "\n",
        "\n",
        "type() : 자료형\n",
        "\n",
        "int() : 정수형 변환\n",
        "\n",
        "float() : 부동 소수점 변환\n",
        "\n",
        "str() : 문자열 변환\n",
        "\n",
        "import math : 수학함수"
      ],
      "metadata": {
        "id": "5QMrZnzHpjKD"
      }
    },
    {
      "cell_type": "code",
      "source": [
        "import math\n",
        "r = 45\n",
        "radians = r * r * math.pi\n",
        "print(\"원의 넓이는 \",radians)"
      ],
      "metadata": {
        "colab": {
          "base_uri": "https://localhost:8080/"
        },
        "id": "2KkS3vAss5UN",
        "outputId": "4fc679a7-bed2-4537-958c-69ecf2d074c0"
      },
      "execution_count": null,
      "outputs": [
        {
          "output_type": "stream",
          "name": "stdout",
          "text": [
            "원의 넓이는  6361.725123519331\n"
          ]
        }
      ]
    },
    {
      "cell_type": "code",
      "source": [
        "import random\n",
        "print(random.randint(5, 10)) # 5이상 10이하의 무작위 수\n",
        "print(random.randrange(5, 10)) # 5이상 10미만의 무작위 수\n",
        "print(random.sample(range(1, 46),6)) # 5이상 10미만의 6개의 무작위 수\n",
        "print(random.choice(['가위','바위','보']))"
      ],
      "metadata": {
        "colab": {
          "base_uri": "https://localhost:8080/"
        },
        "id": "i7ilm3IAnOwL",
        "outputId": "edc00155-9723-49b3-d8d3-e7186de43198"
      },
      "execution_count": null,
      "outputs": [
        {
          "output_type": "stream",
          "name": "stdout",
          "text": [
            "5\n",
            "9\n",
            "[15, 35, 11, 45, 26, 39]\n",
            "바위\n"
          ]
        }
      ]
    },
    {
      "cell_type": "code",
      "source": [
        "text = ['가위','바위','보']\n",
        "print(random.choice(text))"
      ],
      "metadata": {
        "colab": {
          "base_uri": "https://localhost:8080/"
        },
        "id": "X6kkfu9loOj0",
        "outputId": "b4e48c2c-3557-441a-9bef-cddc5e30580c"
      },
      "execution_count": null,
      "outputs": [
        {
          "output_type": "stream",
          "name": "stdout",
          "text": [
            "보\n"
          ]
        }
      ]
    },
    {
      "cell_type": "markdown",
      "source": [
        "\n",
        "# 사용자 정의 함수\n",
        "\n",
        "\n",
        "* def\n",
        "\n",
        "함수를 만들때 사용하는 예약어\n",
        "\n",
        "\n",
        "* 함수 이름 작성 규칙\n",
        "\n",
        "첫 글자는 알파벳 또는 _\n",
        "\n",
        "공백 불가\n",
        "\n",
        "예약어 불가\n",
        "\n",
        "알파벳, 숫자, _만 가능\n",
        "\n",
        "\n",
        "* header\n",
        "\n",
        "함수의 첫줄\n",
        "\n",
        "콜론(:)으로 끝나야 함\n",
        "\n",
        "예) def print_lyrics():\n",
        "\n",
        "\n",
        "* body\n",
        "\n",
        "여러 명령문이 포함됨\n",
        "\n",
        "들여쓰기 해야 함\n",
        "\n"
      ],
      "metadata": {
        "id": "YX90Cx1co4l9"
      }
    },
    {
      "cell_type": "code",
      "source": [
        "def max1(num1, num2):\n",
        "    if num1>num2:\n",
        "        return num1\n",
        "    else:\n",
        "        return num2\n",
        "a=int(input(\"1st: \"))\n",
        "b=int(input(\"2nd: \"))\n",
        "print(\"큰 수: {}\".format(max1(a,b)))"
      ],
      "metadata": {
        "colab": {
          "base_uri": "https://localhost:8080/"
        },
        "id": "NcPjbNk_pexE",
        "outputId": "59eb4ab0-19c9-41df-d905-1d237fd16966"
      },
      "execution_count": null,
      "outputs": [
        {
          "output_type": "stream",
          "name": "stdout",
          "text": [
            "1st: 15\n",
            "2nd: 25\n",
            "큰 수: 25\n"
          ]
        }
      ]
    },
    {
      "cell_type": "markdown",
      "source": [
        "\n",
        "# lambda 람다함수\n",
        "\n",
        "- 이름이 없는 익명 함수\n",
        "\n",
        "- 일회용 함수\n",
        "\n",
        "- 식 형태로 되어있음\n",
        "\n",
        "- 간편 작성 가능\n",
        "\n",
        "- 익명 함수\n"
      ],
      "metadata": {
        "id": "60J7Ty8BqzsM"
      }
    },
    {
      "cell_type": "code",
      "source": [
        "plus_five = lambda x: x+5\n",
        "plus_five(10)"
      ],
      "metadata": {
        "colab": {
          "base_uri": "https://localhost:8080/"
        },
        "id": "h6YAAEwPrDK7",
        "outputId": "f6ba4cf2-ebb2-4513-b2af-3f4a911d2e69"
      },
      "execution_count": null,
      "outputs": [
        {
          "output_type": "execute_result",
          "data": {
            "text/plain": [
              "15"
            ]
          },
          "metadata": {},
          "execution_count": 47
        }
      ]
    },
    {
      "cell_type": "code",
      "source": [
        "# map()함수 : 매핑시킨다\n",
        "def plus_five(x):\n",
        "    return x+5\n",
        "\n",
        "list(map(plus_five, [10,20,30]))"
      ],
      "metadata": {
        "colab": {
          "base_uri": "https://localhost:8080/"
        },
        "id": "rrrYPM1MrrDk",
        "outputId": "ce189ca0-fc7b-4f9e-e7a9-6451d7d0bee7"
      },
      "execution_count": null,
      "outputs": [
        {
          "output_type": "execute_result",
          "data": {
            "text/plain": [
              "[15, 25, 35]"
            ]
          },
          "metadata": {},
          "execution_count": 48
        }
      ]
    },
    {
      "cell_type": "code",
      "source": [
        "list(map(lambda x : x+5, [10,20,30]))"
      ],
      "metadata": {
        "colab": {
          "base_uri": "https://localhost:8080/"
        },
        "id": "be4blvILr_ks",
        "outputId": "da2d4f95-12cd-400b-b1f1-e67e412381ab"
      },
      "execution_count": null,
      "outputs": [
        {
          "output_type": "execute_result",
          "data": {
            "text/plain": [
              "[15, 25, 35]"
            ]
          },
          "metadata": {},
          "execution_count": 49
        }
      ]
    }
  ]
}