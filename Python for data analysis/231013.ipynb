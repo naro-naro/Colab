{
  "nbformat": 4,
  "nbformat_minor": 0,
  "metadata": {
    "colab": {
      "provenance": [],
      "mount_file_id": "1_ZYGNsyxUVNR7wo5ZN9gBT2jUkYFl0Ht",
      "authorship_tag": "ABX9TyO7gnsAul3Tkfa0+hLDJl7F",
      "include_colab_link": true
    },
    "kernelspec": {
      "name": "python3",
      "display_name": "Python 3"
    },
    "language_info": {
      "name": "python"
    }
  },
  "cells": [
    {
      "cell_type": "markdown",
      "metadata": {
        "id": "view-in-github",
        "colab_type": "text"
      },
      "source": [
        "<a href=\"https://colab.research.google.com/github/naro-naro/Colab/blob/main/231013.ipynb\" target=\"_parent\"><img src=\"https://colab.research.google.com/assets/colab-badge.svg\" alt=\"Open In Colab\"/></a>"
      ]
    },
    {
      "cell_type": "markdown",
      "source": [
        "# 퀴즈 리뷰\n",
        "* /연산자는 실수형으로 반환되므로 소수점 주의\n",
        "* randint(a,b) : a~b까지의 랜덤 정수\n",
        "* range(a,b) : a~b-1까지의 범위\n"
      ],
      "metadata": {
        "id": "J18ACUFMXuh8"
      }
    },
    {
      "cell_type": "code",
      "execution_count": null,
      "metadata": {
        "colab": {
          "base_uri": "https://localhost:8080/"
        },
        "id": "Fau8CMsuS4mR",
        "outputId": "8d98e941-c02f-44e2-d5ce-d116e7a81080"
      },
      "outputs": [
        {
          "output_type": "stream",
          "name": "stdout",
          "text": [
            "['python', 'math', 'eng']\n",
            "['math', 'eng', ['python', 'math', 'eng']]\n"
          ]
        }
      ],
      "source": [
        "a, b = ['python'], ['math','eng']\n",
        "print(a+b)\n",
        "b.append(a+b)\n",
        "print(b)"
      ]
    },
    {
      "cell_type": "markdown",
      "source": [
        "# 파일 입,출력\n",
        "* 구글드라이브 마운트\n",
        "* content > drive > Mydrive > Colab Notebooks > 파일 우클릭 > 경로 복사"
      ],
      "metadata": {
        "id": "DzFmt60aeHe9"
      }
    },
    {
      "cell_type": "code",
      "source": [
        "dir = '/content/drive/MyDrive/Colab Notebooks/2023-2 언분프/1006실습/name.txt'\n",
        "# f=open(dir, 'r')\n",
        "f=open(dir, 'r', encoding='cp949') # 또는 'cp949' : 인코딩 에러 발생 시\n",
        "data = f.read()\n",
        "print(data)\n",
        "f.close()"
      ],
      "metadata": {
        "colab": {
          "base_uri": "https://localhost:8080/"
        },
        "id": "STP-FMyEeG3t",
        "outputId": "d74f835e-8bbb-4a4d-92a1-b14330f441e8"
      },
      "execution_count": null,
      "outputs": [
        {
          "output_type": "stream",
          "name": "stdout",
          "text": [
            "홍길동\n",
            "홍이동\n",
            "홍삼동\n"
          ]
        }
      ]
    },
    {
      "cell_type": "code",
      "source": [
        "dir = '/content/drive/MyDrive/Colab Notebooks/2023-2 언분프/1006실습/name.txt'\n",
        "f=open(dir, 'r', encoding='cp949')\n",
        "data = f.readline() # 한줄씩 출력됨\n",
        "print(data)\n",
        "f.close()"
      ],
      "metadata": {
        "colab": {
          "base_uri": "https://localhost:8080/"
        },
        "id": "ZzzyktHdbssV",
        "outputId": "73aab97f-f7a3-4507-8c74-66e104c128ef"
      },
      "execution_count": null,
      "outputs": [
        {
          "output_type": "stream",
          "name": "stdout",
          "text": [
            "홍길동\n",
            "\n"
          ]
        }
      ]
    },
    {
      "cell_type": "code",
      "source": [
        "dir = '/content/drive/MyDrive/Colab Notebooks/2023-2 언분프/1006실습/name.txt'\n",
        "f=open(dir, 'r', encoding='cp949')\n",
        "while True:\n",
        "    data =f.readline()\n",
        "    if not data:\n",
        "        break\n",
        "    print(data, end=',')\n",
        "f.close()"
      ],
      "metadata": {
        "colab": {
          "base_uri": "https://localhost:8080/"
        },
        "id": "2dXtZbdUfuom",
        "outputId": "03e5948d-4b5f-47f8-d60a-9500bc4af53f"
      },
      "execution_count": null,
      "outputs": [
        {
          "output_type": "stream",
          "name": "stdout",
          "text": [
            "홍길동\n",
            ",홍이동\n",
            ",홍삼동,"
          ]
        }
      ]
    },
    {
      "cell_type": "code",
      "source": [
        "dir = '/content/drive/MyDrive/Colab Notebooks/2023-2 언분프/1006실습/name.txt'\n",
        "f=open(dir, 'r', encoding='cp949')\n",
        "while True:\n",
        "    data =f.readline()\n",
        "    if not data:\n",
        "        break\n",
        "    print(data)\n",
        "f.close()"
      ],
      "metadata": {
        "colab": {
          "base_uri": "https://localhost:8080/"
        },
        "id": "NJpg5VJqgJ2N",
        "outputId": "308011ad-db5f-433a-86b2-bde522c1d58f"
      },
      "execution_count": null,
      "outputs": [
        {
          "output_type": "stream",
          "name": "stdout",
          "text": [
            "홍길동\n",
            "\n",
            "홍이동\n",
            "\n",
            "홍삼동\n"
          ]
        }
      ]
    },
    {
      "cell_type": "code",
      "source": [
        "dir = '/content/drive/MyDrive/Colab Notebooks/2023-2 언분프/1006실습/name.txt'\n",
        "f=open(dir, 'r', encoding='cp949')\n",
        "while True:\n",
        "    data =f.readline()\n",
        "    if not data:\n",
        "        break\n",
        "    print(data, end='')\n",
        "f.close()"
      ],
      "metadata": {
        "colab": {
          "base_uri": "https://localhost:8080/"
        },
        "id": "6uSuYv0MgSGN",
        "outputId": "b2ddb2ea-fcaf-49ae-a142-881b2d95d927"
      },
      "execution_count": null,
      "outputs": [
        {
          "output_type": "stream",
          "name": "stdout",
          "text": [
            "홍길동\n",
            "홍이동\n",
            "홍삼동"
          ]
        }
      ]
    },
    {
      "cell_type": "code",
      "source": [
        "dir = '/content/drive/MyDrive/Colab Notebooks/2023-2 언분프/1006실습/name.txt'\n",
        "f=open(dir, 'r', encoding='cp949')\n",
        "data = f.readlines() # 리스트형태로 반환\n",
        "print(data)\n",
        "f.close()"
      ],
      "metadata": {
        "colab": {
          "base_uri": "https://localhost:8080/"
        },
        "id": "VICIPN0tgfEe",
        "outputId": "1d3343a9-b8e0-4d0e-c1ad-bec60524f9bc"
      },
      "execution_count": null,
      "outputs": [
        {
          "output_type": "stream",
          "name": "stdout",
          "text": [
            "['홍길동\\n', '홍이동\\n', '홍삼동']\n"
          ]
        }
      ]
    },
    {
      "cell_type": "code",
      "source": [
        "dir = '/content/drive/MyDrive/Colab Notebooks/2023-2 언분프/1006실습/name.txt'\n",
        "f=open(dir, 'r', encoding='cp949')\n",
        "data = f.readlines() # 리스트형태로 반환\n",
        "for i in data:\n",
        "    print(i)\n",
        "f.close()"
      ],
      "metadata": {
        "colab": {
          "base_uri": "https://localhost:8080/"
        },
        "id": "-WVR1OKrg7nm",
        "outputId": "7df2fc76-2276-4344-f7f2-7e25572dca4e"
      },
      "execution_count": null,
      "outputs": [
        {
          "output_type": "stream",
          "name": "stdout",
          "text": [
            "홍길동\n",
            "\n",
            "홍이동\n",
            "\n",
            "홍삼동\n"
          ]
        }
      ]
    },
    {
      "cell_type": "code",
      "source": [
        "dir = '/content/drive/MyDrive/Colab Notebooks/2023-2 언분프/1006실습/name.txt'\n",
        "f=open(dir, 'r', encoding='cp949')\n",
        "data = f.readlines() # 리스트형태로 반환\n",
        "for i in data:\n",
        "    print(i, end='')\n",
        "f.close()"
      ],
      "metadata": {
        "colab": {
          "base_uri": "https://localhost:8080/"
        },
        "id": "11ya-TPJhHIm",
        "outputId": "98cbf54f-d5bb-418e-9094-83fb1368a254"
      },
      "execution_count": null,
      "outputs": [
        {
          "output_type": "stream",
          "name": "stdout",
          "text": [
            "홍길동\n",
            "홍이동\n",
            "홍삼동"
          ]
        }
      ]
    },
    {
      "cell_type": "code",
      "source": [
        "dir = '/content/drive/MyDrive/Colab Notebooks/2023-2 언분프/1006실습/club.txt'\n",
        "f=open(dir, 'w', encoding='cp949')\n",
        "while True:\n",
        "    name = input('name: ')\n",
        "    if not name:\n",
        "        break\n",
        "    f.write(name+ '\\n')\n",
        "f.close()"
      ],
      "metadata": {
        "colab": {
          "base_uri": "https://localhost:8080/"
        },
        "id": "_50mSqQNja-u",
        "outputId": "d72b678e-caa8-478c-cff2-1f1823229ad8"
      },
      "execution_count": null,
      "outputs": [
        {
          "name": "stdout",
          "output_type": "stream",
          "text": [
            "name: 김유미\n",
            "name: 아이유\n",
            "name: 이강인\n",
            "name: \n"
          ]
        }
      ]
    },
    {
      "cell_type": "code",
      "source": [
        "dir = '/content/drive/MyDrive/Colab Notebooks/2023-2 언분프/1006실습/club.txt'\n",
        "f=open(dir, 'a', encoding='cp949')\n",
        "while True:\n",
        "    name = input('name: ')\n",
        "    if not name:\n",
        "        break\n",
        "    f.write(name + '\\n')\n",
        "f.close()"
      ],
      "metadata": {
        "colab": {
          "base_uri": "https://localhost:8080/"
        },
        "id": "N8_FuCb3kSSf",
        "outputId": "fbba28aa-f201-46f0-9e6d-8cb9651d170b"
      },
      "execution_count": null,
      "outputs": [
        {
          "name": "stdout",
          "output_type": "stream",
          "text": [
            "name: 황희찬\n",
            "name: \n"
          ]
        }
      ]
    },
    {
      "cell_type": "code",
      "source": [
        "dir = '/content/drive/MyDrive/Colab Notebooks/2023-2 언분프/1006실습/club2.txt'\n",
        "f=open(dir, 'a', encoding='cp949')\n",
        "# append 모드 : 기존에 club2 파일이 없었다면 새롭게 파일을 생성\n",
        "while True:\n",
        "    name = input('name: ')\n",
        "    if not name:\n",
        "        break\n",
        "    f.write(name + '\\n')\n",
        "f.close()"
      ],
      "metadata": {
        "colab": {
          "base_uri": "https://localhost:8080/"
        },
        "id": "i46k9gpClN4u",
        "outputId": "dfaec6da-1019-4e28-fee2-9e4f0d6ab9a3"
      },
      "execution_count": null,
      "outputs": [
        {
          "name": "stdout",
          "output_type": "stream",
          "text": [
            "name: 류현진\n",
            "name: \n"
          ]
        }
      ]
    },
    {
      "cell_type": "code",
      "source": [
        "import os.path\n",
        "\n",
        "fname = input('file name: ') # club3\n",
        "fname = fname+'.txt'\n",
        "dir = '/content/drive/MyDrive/Colab Notebooks/2023-2 언분프/1006실습/fname'\n",
        "if os.path.exists(dir):\n",
        "    f=open(dir, 'r')\n",
        "    data = f.read()\n",
        "    print(data, end='')\n",
        "    f.close()\n",
        "else:\n",
        "    print(f'{fname}파일이 없습니다.')"
      ],
      "metadata": {
        "colab": {
          "base_uri": "https://localhost:8080/"
        },
        "id": "UEvTy-dgl303",
        "outputId": "834cf6cf-2d5e-408a-ffa8-0a84abe76f84"
      },
      "execution_count": null,
      "outputs": [
        {
          "output_type": "stream",
          "name": "stdout",
          "text": [
            "file name: name\n",
            "name.txt파일이 없습니다.\n"
          ]
        }
      ]
    },
    {
      "cell_type": "code",
      "source": [
        "# 연습문제 8\n",
        "\n",
        "dir = '/content/drive/MyDrive/Colab Notebooks/2023-2 언분프/1006실습/weather.txt'\n",
        "f = open(dir, 'r')\n",
        "while True:\n",
        "    line = f.readline()\n",
        "    if not line:\n",
        "        break\n",
        "    month, low, high = line.split(',')\n",
        "    # print(type(month), type(low), type(high))\n",
        "    avg = (float(low)+float(high))/2    # 텍스트로부터 읽어온 숫자는 문자열이므로 타입에러 발생\n",
        "    print(f'{month}월 평균기온은 {avg}입니다.')\n",
        "f.close()"
      ],
      "metadata": {
        "colab": {
          "base_uri": "https://localhost:8080/"
        },
        "id": "kLbt59Q_p6-_",
        "outputId": "d9960fd3-9a82-486d-e4a7-49ff626ac722"
      },
      "execution_count": null,
      "outputs": [
        {
          "output_type": "stream",
          "name": "stdout",
          "text": [
            "1월 평균기온은 5.5입니다.\n",
            "2월 평균기온은 10.5입니다.\n",
            "3월 평균기온은 22.5입니다.\n",
            "4월 평균기온은 23.75입니다.\n",
            "5월 평균기온은 24.2입니다.\n",
            "6월 평균기온은 26.0입니다.\n"
          ]
        }
      ]
    },
    {
      "cell_type": "markdown",
      "source": [
        "# 클래스로 객체 만들기\n",
        "* 클래스 : 첫글자를 대문자로\n",
        "* self : 클래스에 소속된 변수, 자기자신"
      ],
      "metadata": {
        "id": "53XwLGzqtAUv"
      }
    },
    {
      "cell_type": "code",
      "source": [
        "class You:\n",
        "    def setname(self, n):\n",
        "        self.name = n\n",
        "    def setage(self, a):\n",
        "        self.age = a\n",
        "    def show(self) :\n",
        "        print('이름:', self.name, ', 나이:', self.age)\n",
        "\n",
        "my = You()\n",
        "my.setname('준서')\n",
        "my.setage('22')\n",
        "my.show()\n",
        "\n",
        "my2 = You()\n",
        "my2.setname('준희')\n",
        "my2.setage('21')\n",
        "my2.show()"
      ],
      "metadata": {
        "colab": {
          "base_uri": "https://localhost:8080/"
        },
        "id": "Us11a3RbtV0Q",
        "outputId": "cb226eb3-65ea-4955-b38d-00a347a9ce71"
      },
      "execution_count": null,
      "outputs": [
        {
          "output_type": "stream",
          "name": "stdout",
          "text": [
            "이름: 준서 , 나이: 22\n",
            "이름: 준희 , 나이: 21\n"
          ]
        }
      ]
    },
    {
      "cell_type": "markdown",
      "source": [
        "# 생성자\n",
        "\n",
        "class 클래스이름 :\n",
        "\n",
        "(tab) def __init__(self) : # 초기화할 코드 입력"
      ],
      "metadata": {
        "id": "5iTteqtTx8br"
      }
    },
    {
      "cell_type": "code",
      "source": [
        "class You:\n",
        "    def __init__(self, n, a):\n",
        "        self.name = n\n",
        "        self.age = a\n",
        "    def show(self) :\n",
        "        print('이름:', self.name, ', 나이:', self.age)\n",
        "\n",
        "my = You('준서', 22)\n",
        "my.show()\n",
        "\n",
        "my2 = You('준희', 21)\n",
        "my2.show()"
      ],
      "metadata": {
        "colab": {
          "base_uri": "https://localhost:8080/"
        },
        "id": "8lrtwB8VszkQ",
        "outputId": "5db2acdf-6071-4a90-cae9-5e74a3a02d73"
      },
      "execution_count": null,
      "outputs": [
        {
          "output_type": "stream",
          "name": "stdout",
          "text": [
            "이름: 준서 , 나이: 22\n",
            "이름: 준희 , 나이: 21\n"
          ]
        }
      ]
    },
    {
      "cell_type": "code",
      "source": [
        "# 이름, 나이 입력받기\n",
        "class You:\n",
        "    def __init__(self):\n",
        "        self.name = input('이름: ')\n",
        "        self.age = input('나이: ')\n",
        "    def show(self) :\n",
        "        print('이름:', self.name, ', 나이:', self.age)\n",
        "\n",
        "my = You()\n",
        "my2 = You()\n",
        "\n",
        "my.show()\n",
        "my2.show()"
      ],
      "metadata": {
        "colab": {
          "base_uri": "https://localhost:8080/"
        },
        "id": "IiylvbP8y9oZ",
        "outputId": "3c01ea43-9440-4cc3-e31b-f3374c35f049"
      },
      "execution_count": null,
      "outputs": [
        {
          "output_type": "stream",
          "name": "stdout",
          "text": [
            "이름: 길동\n",
            "나이: 21\n",
            "이름: 희동\n",
            "나이: 23\n",
            "이름: 길동 , 나이: 21\n",
            "이름: 희동 , 나이: 23\n"
          ]
        }
      ]
    },
    {
      "cell_type": "code",
      "source": [
        "# 이름, 나이 입력받기 - 반복문\n",
        "\n",
        "class You:\n",
        "    def __init__(self):\n",
        "        self.name = input('이름: ')\n",
        "        self.age = input('나이: ')\n",
        "    def show(self) :\n",
        "        print('이름:', self.name, ', 나이:', self.age)\n",
        "\n",
        "student =[]\n",
        "for i in range(2):\n",
        "    student.append(You())\n",
        "for i in range(len(student)):\n",
        "    student[i].show()"
      ],
      "metadata": {
        "colab": {
          "base_uri": "https://localhost:8080/"
        },
        "id": "PLnKCeQlzrVp",
        "outputId": "de537af9-173b-48eb-b563-cf10648013d5"
      },
      "execution_count": null,
      "outputs": [
        {
          "output_type": "stream",
          "name": "stdout",
          "text": [
            "이름: 희찬\n",
            "나이: 21\n",
            "이름: 흥민\n",
            "나이: 23\n",
            "이름: 희찬 , 나이: 21\n",
            "이름: 흥민 , 나이: 23\n"
          ]
        }
      ]
    },
    {
      "cell_type": "markdown",
      "source": [
        "# 비공개 속성 사용하기\n",
        ": 클래스 바깥에서는 접근 할 수 없고 클래스 안에서만 사용\n",
        "\n",
        "class 클래스이름:\n",
        "\n",
        "(tab)def __init__(self, 매개변수):\n",
        "\n",
        "(tab)(tab)self.__속성 = 값"
      ],
      "metadata": {
        "id": "iDCGsunA1OKK"
      }
    },
    {
      "cell_type": "code",
      "source": [
        "class You:\n",
        "    def __init__(self, n,a,w):\n",
        "        self.name = n\n",
        "        self.age = a\n",
        "        self.__wallet = w\n",
        "    def show(self) :\n",
        "        print('이름:', self.name, ', 나이:', self.age, ', 내돈:',self.__wallet)\n",
        "\n",
        "my=You('준서', 21, 10000)\n",
        "my.show()\n",
        "\n",
        "my.name = '준희'\n",
        "my.show()\n",
        "\n",
        "my.__wallet -=3000\n",
        "my.show()"
      ],
      "metadata": {
        "colab": {
          "base_uri": "https://localhost:8080/",
          "height": 274
        },
        "id": "LJSQfPb31JV5",
        "outputId": "51691115-30a4-48a2-d31e-7004b0fba10b"
      },
      "execution_count": null,
      "outputs": [
        {
          "output_type": "stream",
          "name": "stdout",
          "text": [
            "이름: 준서 , 나이: 21 , 내돈: 10000\n",
            "이름: 준희 , 나이: 21 , 내돈: 10000\n"
          ]
        },
        {
          "output_type": "error",
          "ename": "AttributeError",
          "evalue": "ignored",
          "traceback": [
            "\u001b[0;31m---------------------------------------------------------------------------\u001b[0m",
            "\u001b[0;31mAttributeError\u001b[0m                            Traceback (most recent call last)",
            "\u001b[0;32m<ipython-input-55-8f5a46c52a27>\u001b[0m in \u001b[0;36m<cell line: 15>\u001b[0;34m()\u001b[0m\n\u001b[1;32m     13\u001b[0m \u001b[0mmy\u001b[0m\u001b[0;34m.\u001b[0m\u001b[0mshow\u001b[0m\u001b[0;34m(\u001b[0m\u001b[0;34m)\u001b[0m\u001b[0;34m\u001b[0m\u001b[0;34m\u001b[0m\u001b[0m\n\u001b[1;32m     14\u001b[0m \u001b[0;34m\u001b[0m\u001b[0m\n\u001b[0;32m---> 15\u001b[0;31m \u001b[0mmy\u001b[0m\u001b[0;34m.\u001b[0m\u001b[0m__wallet\u001b[0m \u001b[0;34m-=\u001b[0m\u001b[0;36m3000\u001b[0m\u001b[0;34m\u001b[0m\u001b[0;34m\u001b[0m\u001b[0m\n\u001b[0m\u001b[1;32m     16\u001b[0m \u001b[0mmy\u001b[0m\u001b[0;34m.\u001b[0m\u001b[0mshow\u001b[0m\u001b[0;34m(\u001b[0m\u001b[0;34m)\u001b[0m\u001b[0;34m\u001b[0m\u001b[0;34m\u001b[0m\u001b[0m\n",
            "\u001b[0;31mAttributeError\u001b[0m: 'You' object has no attribute '__wallet'"
          ]
        }
      ]
    },
    {
      "cell_type": "code",
      "source": [
        "class You:\n",
        "    def __init__(self, n,a,w):\n",
        "        self.name = n\n",
        "        self.age = a\n",
        "        self.__wallet = w\n",
        "\n",
        "    def pay(self,amount):\n",
        "        self.__wallet -= amount\n",
        "        print(f'남은 돈은 {self.__wallet}입니다.')\n",
        "\n",
        "    def show(self) :\n",
        "        print('이름:', self.name, ', 나이:', self.age, ', 내돈:',self.__wallet)\n",
        "\n",
        "my=You('준서', 21, 10000)\n",
        "my.show()\n",
        "my.pay(3000)\n"
      ],
      "metadata": {
        "colab": {
          "base_uri": "https://localhost:8080/"
        },
        "id": "fkc8AsAu2qBS",
        "outputId": "69cf2a19-a7b4-4d7d-9ade-874b501bfa2b"
      },
      "execution_count": null,
      "outputs": [
        {
          "output_type": "stream",
          "name": "stdout",
          "text": [
            "이름: 준서 , 나이: 21 , 내돈: 10000\n",
            "남은 돈은 7000입니다.\n"
          ]
        }
      ]
    },
    {
      "cell_type": "code",
      "source": [
        "# 객체지향 퀴즈2\n",
        "# 사칙연산 클래스\n",
        "\n",
        "class Calc :\n",
        "    def __init__(self, n) :\n",
        "        self.a = n\n",
        "\n",
        "    def plus(self, value) :\n",
        "        print(self.a, '+', value, '=', self.a + value)\n",
        "\n",
        "    def min(self, value) :\n",
        "        print(self.a, '-', value, '=', self.a - value)\n",
        "\n",
        "    def mult(self, value) :\n",
        "        print(self.a, '*', value, '=', self.a * value)\n",
        "\n",
        "    def div(self, value) :\n",
        "        print(self.a, '/', value, '=', self.a / value)\n",
        "\n",
        "\n",
        "my = Calc(3)\n",
        "my.plus(7)\n",
        "my.mult(10)"
      ],
      "metadata": {
        "colab": {
          "base_uri": "https://localhost:8080/"
        },
        "id": "ZK2lExCe3wPz",
        "outputId": "fcb86e41-4d8c-49c2-b825-9a3ff1362760"
      },
      "execution_count": null,
      "outputs": [
        {
          "output_type": "stream",
          "name": "stdout",
          "text": [
            "3 + 7 = 10\n",
            "3 * 10 = 30\n"
          ]
        }
      ]
    },
    {
      "cell_type": "code",
      "source": [
        "#quiz.3\n",
        "\n",
        "class Calc :\n",
        "    def __init__(self, n1, n2) :\n",
        "        self.a = n1\n",
        "        self.b = n2\n",
        "    def calculate(self, op) :\n",
        "        if (op == '+'):\n",
        "            print(self.a, '+', self.b, '=', self.a + self.b)\n",
        "        elif (op == '*'):\n",
        "            print(self.a, '*', self.b, '=', self.a * self.b)\n",
        "\n",
        "num1 = int(input('Num1:'))\n",
        "num2 = int(input('Num2:'))\n",
        "obj = Calc(num1, num2)\n",
        "obj.calculate('+')\n",
        "obj.calculate('*')"
      ],
      "metadata": {
        "colab": {
          "base_uri": "https://localhost:8080/"
        },
        "id": "zf1KE-ZK5MTi",
        "outputId": "04a22b1f-2df9-4c3f-97b1-2da531d632dd"
      },
      "execution_count": null,
      "outputs": [
        {
          "output_type": "stream",
          "name": "stdout",
          "text": [
            "Num1:3\n",
            "Num2:6\n",
            "3 + 6 = 9\n",
            "3 * 6 = 18\n"
          ]
        }
      ]
    },
    {
      "cell_type": "code",
      "source": [
        "# 빈도수를 구하는 프로그램\n",
        "\n",
        "text = \"AI! 나는 인공지능 로봇 입니다. 나는 'AI 로봇' 입니다.\"\n",
        "print(text.split(' ')) # 리스트 형태로 출력"
      ],
      "metadata": {
        "colab": {
          "base_uri": "https://localhost:8080/"
        },
        "id": "zEGUo8Po7G8D",
        "outputId": "96456515-93e9-4211-a8f1-8439edcb3adc"
      },
      "execution_count": null,
      "outputs": [
        {
          "output_type": "stream",
          "name": "stdout",
          "text": [
            "['AI!', '나는', '인공지능', '로봇', '입니다.', '나는', \"'AI\", \"로봇'\", '입니다.']\n"
          ]
        }
      ]
    },
    {
      "cell_type": "code",
      "source": [
        "# 빈도수\n",
        "text = \"AI! 나는 인공지능 로봇 입니다. 나는 'AI 로봇' 입니다.\"\n",
        "text.split(' ')\n",
        "print(text)"
      ],
      "metadata": {
        "colab": {
          "base_uri": "https://localhost:8080/"
        },
        "id": "QkGWfb6KlV3m",
        "outputId": "25ded341-6e9b-4e86-8b5c-bcdaca40da7c"
      },
      "execution_count": null,
      "outputs": [
        {
          "output_type": "stream",
          "name": "stdout",
          "text": [
            "AI! 나는 인공지능 로봇 입니다. 나는 'AI 로봇' 입니다.\n"
          ]
        }
      ]
    },
    {
      "cell_type": "code",
      "source": [
        "# 빈도수 계산1\n",
        "\n",
        "text = \"AI! 나는 인공지능 로봇 입니다. 나는 'AI 로봇' 입니다.\"\n",
        "def max_counts(text):\n",
        "    counts = {} # 딕셔너리\n",
        "    for i in text.split(' '): #Ai!, 나는, 인공지능, 로봇, 입니다., 나는, 'Ai, 로봇', 입니다.\n",
        "        if i in counts:    # 딕셔너리에 이미 추가된 key라면 +1 (앞에서 이미 나왔다면 +!)\n",
        "            counts[i] +=1\n",
        "        else:    # 처음보는 글자면 counts에 key로 추가\n",
        "            counts[i] = 1\n",
        "    return counts\n",
        "\n",
        "# max_counts(text)\n",
        "print(max_counts(text))"
      ],
      "metadata": {
        "colab": {
          "base_uri": "https://localhost:8080/"
        },
        "id": "KLeqDr7956hK",
        "outputId": "bf425176-8075-4fea-da26-4ca786d489cd"
      },
      "execution_count": null,
      "outputs": [
        {
          "output_type": "stream",
          "name": "stdout",
          "text": [
            "{'AI!': 1, '나는': 2, '인공지능': 1, '로봇': 1, '입니다.': 2, \"'AI\": 1, \"로봇'\": 1}\n"
          ]
        }
      ]
    },
    {
      "cell_type": "code",
      "source": [
        "# 빈도수 계산2\n",
        "\n",
        "text = \"AI! 나는 인공지능 로봇 입니다. 나는 'AI 로봇' 입니다.\"\n",
        "def max_counts(text):\n",
        "    skips = ['.', '!', ',', \"'\", '\"', ':', ';', '?']\n",
        "    for ch in skips:\n",
        "\n",
        "    counts = {} # 딕셔너리\n",
        "\n",
        "\n",
        "# max_counts(text)\n",
        "print(max_counts(text))"
      ],
      "metadata": {
        "id": "_d4xZ0ZsmKGO"
      },
      "execution_count": null,
      "outputs": []
    }
  ]
}